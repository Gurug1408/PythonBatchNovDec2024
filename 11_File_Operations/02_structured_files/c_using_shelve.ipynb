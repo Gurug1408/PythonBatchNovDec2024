{
 "cells": [
  {
   "cell_type": "code",
   "execution_count": 1,
   "metadata": {},
   "outputs": [],
   "source": [
    "import shelve"
   ]
  },
  {
   "cell_type": "code",
   "execution_count": 2,
   "metadata": {},
   "outputs": [
    {
     "data": {
      "text/plain": [
       "['BsdDbShelf',\n",
       " 'BytesIO',\n",
       " 'DEFAULT_PROTOCOL',\n",
       " 'DbfilenameShelf',\n",
       " 'Pickler',\n",
       " 'Shelf',\n",
       " 'Unpickler',\n",
       " '_ClosedDict',\n",
       " '__all__',\n",
       " '__builtins__',\n",
       " '__cached__',\n",
       " '__doc__',\n",
       " '__file__',\n",
       " '__loader__',\n",
       " '__name__',\n",
       " '__package__',\n",
       " '__spec__',\n",
       " 'collections',\n",
       " 'open']"
      ]
     },
     "execution_count": 2,
     "metadata": {},
     "output_type": "execute_result"
    }
   ],
   "source": [
    "dir(shelve)"
   ]
  },
  {
   "cell_type": "code",
   "execution_count": 3,
   "metadata": {},
   "outputs": [],
   "source": [
    "s = shelve.open(\"myshelve.db\")\n",
    "\n",
    "s[\"key1\"] = {\"int\": 10, \"float\": 9.5, \"string\": \"Sample data\"}\n",
    "\n",
    "s[\"persondetails\"] = person_details ={\n",
    "    \"name\": \"Gudo Van Russum\", \n",
    "    \"age\": 67,\n",
    "    \"location\": 'USA'\n",
    "}\n",
    "\n",
    "s.close()"
   ]
  },
  {
   "cell_type": "code",
   "execution_count": 4,
   "metadata": {},
   "outputs": [
    {
     "name": "stdout",
     "output_type": "stream",
     "text": [
      "total 132\n",
      "-rw-rw-rw-   1 codespace root        745 Nov 25 20:29 README.md\n",
      "drwxrwxrwx+  2 codespace codespace  4096 Dec  1 21:23 00_course_details\n",
      "drwxrwxrwx+  2 codespace codespace  4096 Dec  2 03:28 2_Arithemetic_operations\n",
      "-rw-rw-rw-   1 codespace codespace   132 Dec  7 04:07 -a\n",
      "drwxrwxrwx+  2 codespace codespace  4096 Dec  7 04:07 1_Introduction\n",
      "drwxrwxrwx+  2 codespace codespace  4096 Dec 12 20:16 2.1_String_Operations\n",
      "drwxrwxrwx+  2 codespace codespace  4096 Dec 12 20:16 2.2_String_Operations\n",
      "drwxrwxrwx+  2 codespace codespace  4096 Dec 12 20:16 4_Exceptions\n",
      "drwxrwxrwx+ 12 codespace codespace  4096 Dec 12 20:16 3_Language_Components\n",
      "drwxrwxrwx+  2 codespace codespace  4096 Dec 17 16:11 5_Debugging\n",
      "drwxrwxrwx+  4 codespace codespace  4096 Dec 25 17:22 6_Collections\n",
      "drwxrwxrwx+ 15 codespace codespace  4096 Jan  8 05:16 10_modules\n",
      "drwxrwxrwx+  2 codespace codespace  4096 Jan  8 05:16 7_functions\n",
      "drwxrwxrwx+  2 codespace codespace  4096 Jan  8 05:16 7_functions_decorators\n",
      "drwxrwxrwx+  6 codespace codespace  4096 Jan  8 05:16 9_Iterators_generators_coroutines\n",
      "drwxrwxrwx+  3 codespace codespace  4096 Jan  8 05:30 11_File_Operations\n",
      "drwxrwxrwx+  2 codespace codespace  4096 Jan  8 05:33 02_structured_files\n",
      "drwxrwxrwx+  2 codespace codespace  4096 Jan  8 05:33 01_pickle\n",
      "-rw-rw-rw-   1 codespace codespace    38 Jan  8 05:35 data.pickle\n",
      "-rw-rw-rw-   1 codespace codespace    66 Jan  8 05:36 data.pickle.gz\n",
      "-rw-rw-rw-   1 codespace codespace    66 Jan  8 05:39 person_details.pkl\n",
      "-rw-rw-rw-   1 codespace codespace 26862 Jan  8 05:40 a_working_with_pickle.ipynb\n",
      "-rw-rw-rw-   1 codespace codespace 16384 Jan  8 05:41 myshelve.db\n",
      "-rw-rw-rw-   1 codespace codespace  1944 Jan  8 05:41 c_using_shelve.ipynb\n"
     ]
    }
   ],
   "source": [
    "! ls -ltr"
   ]
  }
 ],
 "metadata": {
  "kernelspec": {
   "display_name": "Python 3",
   "language": "python",
   "name": "python3"
  },
  "language_info": {
   "codemirror_mode": {
    "name": "ipython",
    "version": 3
   },
   "file_extension": ".py",
   "mimetype": "text/x-python",
   "name": "python",
   "nbconvert_exporter": "python",
   "pygments_lexer": "ipython3",
   "version": "3.12.1"
  }
 },
 "nbformat": 4,
 "nbformat_minor": 2
}
