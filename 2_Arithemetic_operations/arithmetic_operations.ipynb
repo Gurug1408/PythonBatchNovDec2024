{
 "cells": [
  {
   "cell_type": "code",
   "execution_count": 2,
   "metadata": {},
   "outputs": [
    {
     "name": "stdout",
     "output_type": "stream",
     "text": [
      "10\n",
      "num1= 10\n",
      "<class 'int'>\n",
      "299792458 <class 'int'>\n",
      "3.141592653546793 <class 'float'>\n",
      "6.022140857e+23 <class 'float'>\n",
      "300000000.0\n"
     ]
    }
   ],
   "source": [
    "num1 = 10 \n",
    "num1\n",
    "print(num1)\n",
    "print(\"num1=\", num1)\n",
    "type(num1)\n",
    "num2 = 200\n",
    "num1 + num2\n",
    "num1 - num2\n",
    "num1 * num2\n",
    "num1 / num2\n",
    "\n",
    "10 / 2\n",
    "10 / 3\n",
    "10 // 2\n",
    "10 // 3\n",
    "\n",
    "num3 = 34456789\n",
    "print(type(num3))\n",
    "\n",
    "speed_of_light = 299_792_458\n",
    "print(speed_of_light, type(speed_of_light))\n",
    "\n",
    "pi_value = 3.1415_9265_3546_793\n",
    "print(pi_value, type(pi_value))\n",
    "\n",
    "\n",
    "10 % 2\n",
    "\n",
    "divmod(13, 2)\n",
    "\n",
    "13 // 2, 13 % 2\n",
    "\n",
    "4 * 2\n",
    "\n",
    "4 ** 2\n",
    "\n",
    "78276381639812 ** 123\n",
    "\n",
    "64 ** (1 / 2)\n",
    "\n",
    "64 ** 0.5\n",
    "\n",
    "pow(4, 2)\n",
    "\n",
    "pow(4, 2) == 4 ** 2\n",
    "\n",
    "pow(64, 1 / 2) == 64 ** (1 / 2)\n",
    "\n",
    "64 ** 0.5 == pow(64, 0.5)\n",
    "\n",
    "pow(4, 2, 9) == (4**2) % 9\n",
    "\n",
    "1e1\n",
    "\n",
    "10e4\n",
    "\n",
    "-10e15\n",
    "\n",
    "56e-3\n",
    "\n",
    "1 * 10.0 ** 1\n",
    "\n",
    "1e1 == 1 * 10.0**1\n",
    "\n",
    "avogadro_num = 6.022_140_857e23\n",
    "print(avogadro_num, type(avogadro_num))\n",
    "\n",
    "speed_of_light = 3e8\n",
    "print(speed_of_light)"
   ]
  },
  {
   "cell_type": "code",
   "execution_count": 3,
   "metadata": {},
   "outputs": [
    {
     "name": "stdout",
     "output_type": "stream",
     "text": [
      "myNumber =  123\n",
      "abs(3)          =  3\n",
      "abs(-3)         =  3\n",
      "abs(-3234.34234)=  3234.34234\n",
      "abs(0.00000001) =  1e-08\n",
      "abs(-3 + 4j)    =  5.0\n",
      "abs(-3 + 4.0j)  =  5.0\n",
      "5.0\n",
      "5.0\n",
      "2.6457513110645907\n"
     ]
    }
   ],
   "source": [
    "import math\n",
    "myNumber = 123\n",
    "print(\"myNumber = \", myNumber)\n",
    "\n",
    "print(\"abs(3)          = \", abs(3))\n",
    "print(\"abs(-3)         = \", abs(-3))\n",
    "\n",
    "print(\"abs(-3234.34234)= \", abs(-3234.34234))\n",
    "print(\"abs(0.00000001) = \", abs(0.00000001))\n",
    "\n",
    "\n",
    "print(\"abs(-3 + 4j)    = \", abs(-3 + 4j))   \n",
    "print(\"abs(-3 + 4.0j)  = \", abs(-3 + 4.0j))  \n",
    "\n",
    "\n",
    "print(math.sqrt(pow(-3, 2) + pow(4, 2)))\n",
    "print(math.sqrt((-3) ** 2 + 4**2))\n",
    "\n",
    "\n",
    "print(math.sqrt(-(3**2) + 4**2))\n"
   ]
  }
 ],
 "metadata": {
  "kernelspec": {
   "display_name": "Python 3",
   "language": "python",
   "name": "python3"
  },
  "language_info": {
   "codemirror_mode": {
    "name": "ipython",
    "version": 3
   },
   "file_extension": ".py",
   "mimetype": "text/x-python",
   "name": "python",
   "nbconvert_exporter": "python",
   "pygments_lexer": "ipython3",
   "version": "3.12.1"
  }
 },
 "nbformat": 4,
 "nbformat_minor": 2
}
