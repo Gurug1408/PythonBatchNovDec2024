{
 "cells": [
  {
   "cell_type": "code",
   "execution_count": 1,
   "metadata": {},
   "outputs": [
    {
     "name": "stdout",
     "output_type": "stream",
     "text": [
      "Python Programming <class 'str'>\n"
     ]
    }
   ],
   "source": [
    "language = 'Python Programming'\n",
    "print(language, type(language))"
   ]
  },
  {
   "cell_type": "code",
   "execution_count": 2,
   "metadata": {},
   "outputs": [
    {
     "name": "stdout",
     "output_type": "stream",
     "text": [
      "Python Programming <class 'str'>\n"
     ]
    }
   ],
   "source": [
    "language = \"Python Programming\"\n",
    "print(language, type(language))"
   ]
  },
  {
   "cell_type": "code",
   "execution_count": 3,
   "metadata": {},
   "outputs": [
    {
     "name": "stdout",
     "output_type": "stream",
     "text": [
      "Python Programming <class 'str'>\n"
     ]
    }
   ],
   "source": [
    "language = '''Python Programming'''\n",
    "print(language, type(language))"
   ]
  },
  {
   "cell_type": "code",
   "execution_count": 4,
   "metadata": {},
   "outputs": [
    {
     "name": "stdout",
     "output_type": "stream",
     "text": [
      "Python Programming <class 'str'>\n"
     ]
    }
   ],
   "source": [
    "language = \"\"\"Python Programming\"\"\"\n",
    "print(language, type(language))"
   ]
  },
  {
   "cell_type": "code",
   "execution_count": 5,
   "metadata": {},
   "outputs": [
    {
     "name": "stdout",
     "output_type": "stream",
     "text": [
      "Python Programming <class 'str'>\n"
     ]
    }
   ],
   "source": [
    "language = 'Python Programming'\n",
    "print(language, type(language))"
   ]
  },
  {
   "cell_type": "code",
   "execution_count": 6,
   "metadata": {},
   "outputs": [
    {
     "name": "stdout",
     "output_type": "stream",
     "text": [
      "How are you ? <class 'str'>\n"
     ]
    }
   ],
   "source": [
    "question = 'How are you ?'\n",
    "print(question, type(question))"
   ]
  },
  {
   "cell_type": "code",
   "execution_count": 7,
   "metadata": {},
   "outputs": [
    {
     "name": "stdout",
     "output_type": "stream",
     "text": [
      "what's up ! <class 'str'>\n"
     ]
    }
   ],
   "source": [
    "where_abouts = 'what\\'s up !'\n",
    "print(where_abouts, type(where_abouts))"
   ]
  },
  {
   "cell_type": "code",
   "execution_count": 8,
   "metadata": {},
   "outputs": [
    {
     "name": "stdout",
     "output_type": "stream",
     "text": [
      "what's going in yours' in-law's house\n"
     ]
    }
   ],
   "source": [
    "other_string = 'what\\'s going in yours\\' in-law\\'s house'\n",
    "print(other_string)"
   ]
  },
  {
   "cell_type": "code",
   "execution_count": 9,
   "metadata": {},
   "outputs": [
    {
     "name": "stdout",
     "output_type": "stream",
     "text": [
      "select * from mytable where name = 'udhay' and profession like \"%work\" \n"
     ]
    }
   ],
   "source": [
    "sql_cmd = '''select * from mytable where name = 'udhay' and profession like \"%work\" '''\n",
    "print(sql_cmd)"
   ]
  },
  {
   "cell_type": "code",
   "execution_count": 10,
   "metadata": {},
   "outputs": [
    {
     "name": "stdout",
     "output_type": "stream",
     "text": [
      " python -c 'awdwad' asdss \"sfdsdfd\", '''dedfdfwef sd -m jd;jd''' \n"
     ]
    }
   ],
   "source": [
    "some_other_str = \"\"\" python -c 'awdwad' asdss \"sfdsdfd\", '''dedfdfwef sd -m jd;jd''' \"\"\"\n",
    "print(some_other_str)"
   ]
  },
  {
   "cell_type": "code",
   "execution_count": 11,
   "metadata": {},
   "outputs": [
    {
     "name": "stdout",
     "output_type": "stream",
     "text": [
      "\n",
      "\n",
      "\n"
     ]
    }
   ],
   "source": [
    "print(\"\\n\\n\")"
   ]
  },
  {
   "cell_type": "code",
   "execution_count": 12,
   "metadata": {},
   "outputs": [
    {
     "name": "stdout",
     "output_type": "stream",
     "text": [
      "Today is an awesome day    to learn python\n"
     ]
    }
   ],
   "source": [
    "print(\n",
    "    'Today is an awesome day\\\n",
    "    to learn python'\n",
    ")"
   ]
  },
  {
   "cell_type": "code",
   "execution_count": 13,
   "metadata": {},
   "outputs": [
    {
     "name": "stdout",
     "output_type": "stream",
     "text": [
      "Today is an awesome day    to learn python\n"
     ]
    }
   ],
   "source": [
    "print(\n",
    "    \"Today is an awesome day\\\n",
    "    to learn python\"\n",
    ")"
   ]
  },
  {
   "cell_type": "code",
   "execution_count": 14,
   "metadata": {},
   "outputs": [
    {
     "name": "stdout",
     "output_type": "stream",
     "text": [
      "Today is an awesome day    to learn python\n"
     ]
    }
   ],
   "source": [
    "print(\n",
    "    '''Today is an awesome day\\\n",
    "    to learn python'''\n",
    ")"
   ]
  },
  {
   "cell_type": "code",
   "execution_count": 15,
   "metadata": {},
   "outputs": [
    {
     "name": "stdout",
     "output_type": "stream",
     "text": [
      "Today is an awesome day    to learn python\n"
     ]
    }
   ],
   "source": [
    "print(\n",
    "    \"\"\"Today is an awesome day\\\n",
    "    to learn python\"\"\"\n",
    ")"
   ]
  },
  {
   "cell_type": "code",
   "execution_count": 16,
   "metadata": {},
   "outputs": [
    {
     "name": "stdout",
     "output_type": "stream",
     "text": [
      "Today is an awesome day\n",
      "    to learn python\n"
     ]
    }
   ],
   "source": [
    "print(\n",
    "    '''Today is an awesome day\n",
    "    to learn python'''\n",
    ")"
   ]
  },
  {
   "cell_type": "code",
   "execution_count": 17,
   "metadata": {},
   "outputs": [
    {
     "name": "stdout",
     "output_type": "stream",
     "text": [
      "Today is an awesome day\n",
      "    to learn python\n"
     ]
    }
   ],
   "source": [
    "print(\n",
    "    \"\"\"Today is an awesome day\n",
    "    to learn python\"\"\"\n",
    ")"
   ]
  },
  {
   "cell_type": "code",
   "execution_count": 18,
   "metadata": {},
   "outputs": [
    {
     "name": "stdout",
     "output_type": "stream",
     "text": [
      "\n",
      "    a - apple\n",
      "    b - ball\n",
      "    c - cat\n",
      "    d - dog\n"
     ]
    }
   ],
   "source": [
    "print(\n",
    "    \"\"\"\n",
    "    a - apple\n",
    "    b - ball\n",
    "    c - cat\n",
    "    d - dog\"\"\"\n",
    ")"
   ]
  },
  {
   "cell_type": "code",
   "execution_count": 19,
   "metadata": {},
   "outputs": [
    {
     "name": "stdout",
     "output_type": "stream",
     "text": [
      "\n",
      "    Select  *\n",
      "    from table1 t1\n",
      "    LEFT JOIN table2 t2 on t1.id = t2.id\n",
      "    ORDER BY t1.id;\n",
      "\n"
     ]
    }
   ],
   "source": [
    "sql_cmd = \"\"\"\n",
    "    Select  *\n",
    "    from table1 t1\n",
    "    LEFT JOIN table2 t2 on t1.id = t2.id\n",
    "    ORDER BY t1.id;\n",
    "\"\"\"\n",
    "print(sql_cmd)"
   ]
  },
  {
   "cell_type": "code",
   "execution_count": 20,
   "metadata": {},
   "outputs": [
    {
     "name": "stdout",
     "output_type": "stream",
     "text": [
      " select * from my_table where column='python' and column2 = \"django\"\n"
     ]
    }
   ],
   "source": [
    "my_string = ''' select * from my_table where column='python' and column2 = \"django\"'''\n",
    "print(my_string)"
   ]
  },
  {
   "cell_type": "code",
   "execution_count": 21,
   "metadata": {},
   "outputs": [],
   "source": [
    "my_string = \"\"\"  select * from my_table where column='python' and column2 = \"django\" \"\"\""
   ]
  },
  {
   "cell_type": "code",
   "execution_count": 22,
   "metadata": {},
   "outputs": [
    {
     "name": "stdout",
     "output_type": "stream",
     "text": [
      "  select * from my_table where column='python' and column2 = \"django\";\n"
     ]
    }
   ],
   "source": [
    "my_string = \"\"\"  select * from my_table where column='python' and column2 = \"django\";\"\"\"\n",
    "print(my_string)"
   ]
  },
  {
   "cell_type": "code",
   "execution_count": 23,
   "metadata": {},
   "outputs": [],
   "source": [
    "my_string = ''' select * from my_table where column='python' and column2 = 'django' '''"
   ]
  },
  {
   "cell_type": "code",
   "execution_count": 24,
   "metadata": {},
   "outputs": [],
   "source": [
    "my_string = ''' select * from my_table where column='python' and column2 = 'django'; '''"
   ]
  },
  {
   "cell_type": "code",
   "execution_count": 25,
   "metadata": {},
   "outputs": [
    {
     "name": "stdout",
     "output_type": "stream",
     "text": [
      "Python Programming <class 'str'>\n"
     ]
    }
   ],
   "source": [
    "language = 'Python Programming'\n",
    "print(language, type(language))"
   ]
  },
  {
   "cell_type": "code",
   "execution_count": 26,
   "metadata": {},
   "outputs": [
    {
     "name": "stdout",
     "output_type": "stream",
     "text": [
      "len(language)= 18\n"
     ]
    }
   ],
   "source": [
    "print(\"len(language)=\", len(language))"
   ]
  },
  {
   "cell_type": "code",
   "execution_count": 27,
   "metadata": {},
   "outputs": [
    {
     "name": "stdout",
     "output_type": "stream",
     "text": [
      "language    : Python Programming\n",
      "language[14]: m\n",
      "language[6] :  \n",
      "language[17]: g\n"
     ]
    }
   ],
   "source": [
    "print(\"language    :\", language)\n",
    "print(\"language[14]:\", language[14])\n",
    "print(\"language[6] :\", language[6])\n",
    "print(\"language[17]:\", language[17])"
   ]
  },
  {
   "cell_type": "code",
   "execution_count": 28,
   "metadata": {},
   "outputs": [
    {
     "name": "stdout",
     "output_type": "stream",
     "text": [
      "language[0]   : P\n",
      "language[-0]  : P\n"
     ]
    }
   ],
   "source": [
    "print(\"language[0]   :\", language[0])\n",
    "print(\"language[-0]  :\", language[-0])"
   ]
  },
  {
   "cell_type": "code",
   "execution_count": 29,
   "metadata": {},
   "outputs": [
    {
     "data": {
      "text/plain": [
       "0"
      ]
     },
     "execution_count": 29,
     "metadata": {},
     "output_type": "execute_result"
    }
   ],
   "source": [
    "-0"
   ]
  },
  {
   "cell_type": "code",
   "execution_count": 30,
   "metadata": {},
   "outputs": [
    {
     "name": "stdout",
     "output_type": "stream",
     "text": [
      "language[-3]  : i\n",
      "len(language) : 18\n",
      "language[len(language)-3]  : i\n"
     ]
    }
   ],
   "source": [
    "print(\"language[-3]  :\", language[-3])\n",
    "print(\"len(language) :\", len(language))\n",
    "print(\"language[len(language)-3]  :\", language[len(language) - 3])"
   ]
  },
  {
   "cell_type": "code",
   "execution_count": 31,
   "metadata": {},
   "outputs": [
    {
     "name": "stdout",
     "output_type": "stream",
     "text": [
      "language[-18] : P\n",
      "language[0]   : P\n"
     ]
    }
   ],
   "source": [
    "print(\"language[-18] :\", language[-18])\n",
    "print(\"language[0]   :\", language[0])"
   ]
  },
  {
   "cell_type": "code",
   "execution_count": 32,
   "metadata": {},
   "outputs": [
    {
     "name": "stdout",
     "output_type": "stream",
     "text": [
      "language[0]    : P\n"
     ]
    }
   ],
   "source": [
    "print(\"language[0]    :\", language[0])"
   ]
  },
  {
   "cell_type": "code",
   "execution_count": 33,
   "metadata": {},
   "outputs": [
    {
     "name": "stdout",
     "output_type": "stream",
     "text": [
      "String Slicing\n",
      "language[0:11] : Python Prog\n"
     ]
    }
   ],
   "source": [
    "print(\"String Slicing\")  # [start_index: final_index]\n",
    "print(\"language[0:11] :\", language[0:11])"
   ]
  },
  {
   "cell_type": "code",
   "execution_count": 34,
   "metadata": {},
   "outputs": [
    {
     "name": "stdout",
     "output_type": "stream",
     "text": [
      "language[5:17] : n Programmin\n"
     ]
    }
   ],
   "source": [
    "print(\"language[5:17] :\", language[5:17])"
   ]
  },
  {
   "cell_type": "code",
   "execution_count": 35,
   "metadata": {},
   "outputs": [
    {
     "name": "stdout",
     "output_type": "stream",
     "text": [
      "language[7:10] : Pro\n"
     ]
    }
   ],
   "source": [
    "print(\"language[7:10] :\", language[7:10])"
   ]
  },
  {
   "cell_type": "code",
   "execution_count": 36,
   "metadata": {},
   "outputs": [
    {
     "name": "stdout",
     "output_type": "stream",
     "text": [
      "language[0:5]  : Pytho\n",
      "language[0:6]  : Python\n"
     ]
    }
   ],
   "source": [
    "print(\"language[0:5]  :\", language[0:5]) \n",
    "print(\"language[0:6]  :\", language[0:6])"
   ]
  },
  {
   "cell_type": "code",
   "execution_count": 37,
   "metadata": {},
   "outputs": [
    {
     "name": "stdout",
     "output_type": "stream",
     "text": [
      "language[7:18] : Programming\n",
      "language[7:999]: Programming\n",
      "language[45:87]: \n"
     ]
    }
   ],
   "source": [
    "print(\"language[7:18] :\", language[7:18])\n",
    "print(\"language[7:999]:\", language[7:999])\n",
    "print(\"language[45:87]:\", language[45:87])"
   ]
  }
 ],
 "metadata": {
  "kernelspec": {
   "display_name": "Python 3",
   "language": "python",
   "name": "python3"
  },
  "language_info": {
   "codemirror_mode": {
    "name": "ipython",
    "version": 3
   },
   "file_extension": ".py",
   "mimetype": "text/x-python",
   "name": "python",
   "nbconvert_exporter": "python",
   "pygments_lexer": "ipython3",
   "version": "3.12.1"
  }
 },
 "nbformat": 4,
 "nbformat_minor": 2
}
