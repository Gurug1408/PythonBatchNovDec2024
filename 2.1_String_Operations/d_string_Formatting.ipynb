{
 "cells": [
  {
   "cell_type": "code",
   "execution_count": 1,
   "metadata": {},
   "outputs": [
    {
     "name": "stdout",
     "output_type": "stream",
     "text": [
      "\n",
      "My lucky number is %d\n"
     ]
    }
   ],
   "source": [
    "print(\"\" % ())\n",
    "print(\"My lucky number is %d\")"
   ]
  },
  {
   "cell_type": "code",
   "execution_count": 2,
   "metadata": {},
   "outputs": [
    {
     "name": "stdout",
     "output_type": "stream",
     "text": [
      "My lucky number is 12\n",
      "My lucky number is 12\n"
     ]
    }
   ],
   "source": [
    "print(\"My lucky number is %d\" % (12))\n",
    "print(\"My lucky number is %d\" % 12)"
   ]
  },
  {
   "cell_type": "code",
   "execution_count": 3,
   "metadata": {},
   "outputs": [
    {
     "name": "stdout",
     "output_type": "stream",
     "text": [
      "My lucky number is 12\n"
     ]
    }
   ],
   "source": [
    "print(\"My lucky number is %d\" % 12.34)"
   ]
  },
  {
   "cell_type": "code",
   "execution_count": 4,
   "metadata": {},
   "outputs": [
    {
     "name": "stdout",
     "output_type": "stream",
     "text": [
      "My lucky number is 12\n"
     ]
    }
   ],
   "source": [
    "print(\"My lucky number is %s\" % \"12\")"
   ]
  },
  {
   "cell_type": "code",
   "execution_count": 5,
   "metadata": {},
   "outputs": [
    {
     "name": "stdout",
     "output_type": "stream",
     "text": [
      "My lucky number is 12.340000\n",
      "My lucky number is 12.000000\n",
      "My lucky number is 0.000000\n"
     ]
    }
   ],
   "source": [
    "print(\"My lucky number is %f\" % 12.34)\n",
    "print(\"My lucky number is %f\" % 12) \n",
    "print(\"My lucky number is %f\" % False)"
   ]
  },
  {
   "cell_type": "code",
   "execution_count": 6,
   "metadata": {},
   "outputs": [
    {
     "name": "stdout",
     "output_type": "stream",
     "text": [
      "\n",
      "My lucky number is True\n",
      "My lucky number is None\n",
      "My lucky number is 1\n",
      "My lucky number is 13.4\n",
      "My lucky number is 133224234\n",
      "My lucky number is python\n"
     ]
    }
   ],
   "source": [
    "print() \n",
    "print(\"My lucky number is %s\" % True)\n",
    "print(\"My lucky number is %s\" % None)\n",
    "print(\"My lucky number is %s\" % 1)\n",
    "print(\"My lucky number is %s\" % 13.4)\n",
    "print(\"My lucky number is %s\" % 133224234)\n",
    "print(\"My lucky number is %s\" % \"python\")"
   ]
  },
  {
   "cell_type": "code",
   "execution_count": 7,
   "metadata": {},
   "outputs": [
    {
     "name": "stdout",
     "output_type": "stream",
     "text": [
      "\n",
      "My lucky number is True\n",
      "My lucky number is None\n",
      "My lucky number is 1\n",
      "My lucky number is 13.4\n",
      "My lucky number is 133224234\n",
      "My lucky number is 'python'\n"
     ]
    }
   ],
   "source": [
    "print() \n",
    "print(\"My lucky number is %r\" % True)\n",
    "print(\"My lucky number is %r\" % None)\n",
    "print(\"My lucky number is %r\" % 1)\n",
    "print(\"My lucky number is %r\" % 13.4)\n",
    "print(\"My lucky number is %r\" % 133224234)\n",
    "print(\"My lucky number is %r\" % \"python\")"
   ]
  },
  {
   "cell_type": "code",
   "execution_count": 8,
   "metadata": {},
   "outputs": [
    {
     "name": "stderr",
     "output_type": "stream",
     "text": [
      "UsageError: Line magic function `%o` not found.\n"
     ]
    }
   ],
   "source": [
    "%o - octal\n",
    "print(\"%o\" % 34, oct(34))"
   ]
  },
  {
   "cell_type": "code",
   "execution_count": 9,
   "metadata": {},
   "outputs": [
    {
     "name": "stdout",
     "output_type": "stream",
     "text": [
      "42 0o42\n"
     ]
    }
   ],
   "source": [
    "# %o - octal\n",
    "print(\"%o\" % 34, oct(34))"
   ]
  },
  {
   "cell_type": "code",
   "execution_count": 10,
   "metadata": {},
   "outputs": [
    {
     "name": "stdout",
     "output_type": "stream",
     "text": [
      "22 0x22\n"
     ]
    }
   ],
   "source": [
    "print(\"%x\" % 34, hex(34))"
   ]
  },
  {
   "cell_type": "code",
   "execution_count": 11,
   "metadata": {},
   "outputs": [
    {
     "name": "stdout",
     "output_type": "stream",
     "text": [
      "22 0x22\n"
     ]
    }
   ],
   "source": [
    "print(\"%X\" % 34, hex(34))"
   ]
  },
  {
   "cell_type": "code",
   "execution_count": 12,
   "metadata": {},
   "outputs": [
    {
     "name": "stdout",
     "output_type": "stream",
     "text": [
      "12\n",
      "1\n",
      "1\n"
     ]
    }
   ],
   "source": [
    "print(\"%s\" % \"12\")\n",
    "print(\"%c\" % \"1\")\n",
    "print(\"%s\" % \"1\")"
   ]
  },
  {
   "cell_type": "code",
   "execution_count": 13,
   "metadata": {},
   "outputs": [
    {
     "name": "stdout",
     "output_type": "stream",
     "text": [
      "\n",
      "12.340000\n",
      "12.340000\n",
      "12.342231\n"
     ]
    }
   ],
   "source": [
    "print()  \n",
    "print(\"%f\" % 12.34)             \n",
    "print(\"%F\" % 12.34)              \n",
    "print(\"%F\" % 12.34223123123123)"
   ]
  },
  {
   "cell_type": "code",
   "execution_count": 14,
   "metadata": {},
   "outputs": [
    {
     "name": "stdout",
     "output_type": "stream",
     "text": [
      "12.34\n",
      "12.34\n",
      "12.3422\n"
     ]
    }
   ],
   "source": [
    "print(\"%g\" % 12.34)             \n",
    "print(\"%G\" % 12.34)              \n",
    "print(\"%G\" % 12.34223123123123)"
   ]
  },
  {
   "cell_type": "code",
   "execution_count": 15,
   "metadata": {},
   "outputs": [
    {
     "name": "stdout",
     "output_type": "stream",
     "text": [
      "1.234000e+01\n",
      "1.234000E+01\n",
      "1.234223E+01\n"
     ]
    }
   ],
   "source": [
    "print(\"%e\" % 12.34)              \n",
    "print(\"%E\" % 12.34)              \n",
    "print(\"%E\" % 12.34223123123123)"
   ]
  },
  {
   "cell_type": "code",
   "execution_count": 16,
   "metadata": {},
   "outputs": [
    {
     "name": "stdout",
     "output_type": "stream",
     "text": [
      "3.141592653589793\n",
      "3\n",
      "3.141593\n",
      " 3.141593\n",
      "    3.142\n"
     ]
    }
   ],
   "source": [
    "import math\n",
    "\n",
    "print(math.pi)              \n",
    "print(\"%d\" % math.pi)       \n",
    "print(\"%f\" % math.pi)       \n",
    "\n",
    "print(\"%9f\" % math.pi)      \n",
    "print(\"%9.3f\" % math.pi) \n"
   ]
  },
  {
   "cell_type": "code",
   "execution_count": 17,
   "metadata": {},
   "outputs": [
    {
     "name": "stdout",
     "output_type": "stream",
     "text": [
      "lucky My lucky number is 786 only.\n",
      "pi value is 3.141600!!!!!!!!!!\n",
      "pi value is   3.141600!!!!!!!!!!\n",
      "pi value is      3.142!!!!!!!!!!\n",
      "pi value is 000003.142!!!!!!!!!!\n"
     ]
    }
   ],
   "source": [
    "print(\"lucky My lucky number is %d only.\" % 786)\n",
    "print(\"pi value is %f!!!!!!!!!!\" % 3.1416)\n",
    "print(\"pi value is %10f!!!!!!!!!!\" % 3.1416)\n",
    "print(\"pi value is %10.3f!!!!!!!!!!\" % 3.1416)\n",
    "print(\"pi value is %010.3f!!!!!!!!!!\" % 3.1416)"
   ]
  },
  {
   "cell_type": "code",
   "execution_count": 18,
   "metadata": {},
   "outputs": [
    {
     "name": "stdout",
     "output_type": "stream",
     "text": [
      "my name is Udhay - Prakash.\n"
     ]
    }
   ],
   "source": [
    "print(\"my name is %s - %s.\" % (\"Udhay\", \"Prakash\"))"
   ]
  },
  {
   "cell_type": "code",
   "execution_count": 19,
   "metadata": {},
   "outputs": [
    {
     "name": "stdout",
     "output_type": "stream",
     "text": [
      "My name is %s. I am %d old paying a tax of %f\n"
     ]
    }
   ],
   "source": [
    "print(\"My name is %s. I am %d old paying a tax of %f\")"
   ]
  },
  {
   "cell_type": "code",
   "execution_count": 20,
   "metadata": {},
   "outputs": [
    {
     "name": "stdout",
     "output_type": "stream",
     "text": [
      "My name is Udhay. I am 99 old paying a tax of 15.500000\n"
     ]
    }
   ],
   "source": [
    "print(\"My name is %s. I am %d old paying a tax of %f\" % (\"Udhay\", 99, 15.5))"
   ]
  },
  {
   "cell_type": "code",
   "execution_count": 21,
   "metadata": {},
   "outputs": [
    {
     "name": "stdout",
     "output_type": "stream",
     "text": [
      "My name is 'Udhay'. I am '78' old paying a tax of 15.5\n",
      "My name is Udhay. I am 78 old paying a tax of 15.5\n"
     ]
    }
   ],
   "source": [
    "print(\"My name is %r. I am %r old paying a tax of %r\" % (\"Udhay\", \"78\", 15.5))\n",
    "print(\"My name is %s. I am %s old paying a tax of %s\" % (\"Udhay\", \"78\", 15.5))"
   ]
  },
  {
   "cell_type": "code",
   "execution_count": 22,
   "metadata": {},
   "outputs": [
    {
     "name": "stdout",
     "output_type": "stream",
     "text": [
      "Python has 002 quote types.\n",
      "Python has 002 quote types.\n"
     ]
    }
   ],
   "source": [
    "print(\n",
    "    \"%(language)s has %(My lucky number)03d quote types.\"\n",
    "    % {\"language\": \"Python\", \"My lucky number\": 2}\n",
    ")\n",
    "print(\n",
    "    \"%(language)s has %(My lucky number)03d quote types.\"\n",
    "    % { \"My lucky number\": 2, \"language\": \"Python\"}\n",
    ")\n"
   ]
  },
  {
   "cell_type": "code",
   "execution_count": 23,
   "metadata": {},
   "outputs": [
    {
     "name": "stdout",
     "output_type": "stream",
     "text": [
      "002\n",
      "002\n",
      "  2\n"
     ]
    }
   ],
   "source": [
    "print(\"2\".zfill(3))    \n",
    "print(\"%03d\" % 2)       \n",
    "print(\"%3d\" % 2)\n"
   ]
  },
  {
   "cell_type": "code",
   "execution_count": 24,
   "metadata": {},
   "outputs": [
    {
     "name": "stdout",
     "output_type": "stream",
     "text": [
      "\n",
      "\n"
     ]
    }
   ],
   "source": [
    "print(\"\" % ())         \n",
    "print(\"{}\".format(\"\"))  "
   ]
  },
  {
   "cell_type": "code",
   "execution_count": 25,
   "metadata": {},
   "outputs": [
    {
     "name": "stdout",
     "output_type": "stream",
     "text": [
      "udhay\n",
      "{}\n",
      "{udhay}\n"
     ]
    }
   ],
   "source": [
    "print(\"{}\".format(\"udhay\"))         \n",
    "print(\"{{}}\".format(\"udhay\"))       \n",
    "print(\"{{{}}}\".format(\"udhay\"))"
   ]
  },
  {
   "cell_type": "code",
   "execution_count": 26,
   "metadata": {},
   "outputs": [
    {
     "name": "stdout",
     "output_type": "stream",
     "text": [
      "cat and mouse\n",
      "213 and mouse\n",
      "213.0 and True\n",
      "None and True\n"
     ]
    }
   ],
   "source": [
    "print(\"{} and {}\".format(\"cat\", \"mouse\"))\n",
    "print(\"{} and {}\".format(213, \"mouse\"))\n",
    "print(\"{} and {}\".format(213.0, True))\n",
    "print(\"{} and {}\".format(None, True))"
   ]
  },
  {
   "cell_type": "code",
   "execution_count": 27,
   "metadata": {},
   "outputs": [
    {
     "name": "stdout",
     "output_type": "stream",
     "text": [
      "None and True\n",
      "None and True\n",
      "True and None\n"
     ]
    }
   ],
   "source": [
    "print(\"{} and {}\".format(None, True))\n",
    "print(\"{0} and {1}\".format(None, True))\n",
    "print(\"{1} and {0}\".format(None, True))"
   ]
  },
  {
   "cell_type": "code",
   "execution_count": 28,
   "metadata": {},
   "outputs": [
    {
     "name": "stdout",
     "output_type": "stream",
     "text": [
      "None and None\n"
     ]
    }
   ],
   "source": [
    "print(\"{0} and {0}\".format(None))"
   ]
  },
  {
   "cell_type": "code",
   "execution_count": 29,
   "metadata": {},
   "outputs": [
    {
     "name": "stdout",
     "output_type": "stream",
     "text": [
      "1234567890.88\n",
      "1234567890.88\n",
      "1,234,567,890.88\n",
      "1_234_567_890.88\n",
      "1234567890.88\n",
      "+1234567890.88\n",
      "-1234567890.88\n"
     ]
    }
   ],
   "source": [
    "print(\"{}\".format(1234567890.88))       \n",
    "print(\"{:}\".format(1234567890.88))      \n",
    "print(\"{:,}\".format(1234567890.88))     \n",
    "print(\"{:_}\".format(1234567890.88))     \n",
    "print(\"{:-}\".format(1234567890.88))     \n",
    "print(\"{:+}\".format(1234567890.88))    \n",
    "print(\"{:+}\".format(-1234567890.88))"
   ]
  },
  {
   "cell_type": "code",
   "execution_count": 30,
   "metadata": {},
   "outputs": [
    {
     "name": "stdout",
     "output_type": "stream",
     "text": [
      "     12348\n",
      "0000012348\n",
      "aaaaa12348\n"
     ]
    }
   ],
   "source": [
    "print(\"{:=10}\".format(12348))   \n",
    "print(\"{:0=10}\".format(12348))  \n",
    "print(\"{:a=10}\".format(12348))"
   ]
  },
  {
   "cell_type": "code",
   "execution_count": 31,
   "metadata": {},
   "outputs": [
    {
     "name": "stdout",
     "output_type": "stream",
     "text": [
      "left aligned        \n",
      "       right aligned\n",
      "      centered      \n"
     ]
    }
   ],
   "source": [
    "print(\"{:<20}\".format(\"left aligned\"))     \n",
    "print(\"{:>20}\".format(\"right aligned\"))     \n",
    "print(\"{:^20}\".format(\"centered\"))"
   ]
  },
  {
   "cell_type": "code",
   "execution_count": 32,
   "metadata": {},
   "outputs": [
    {
     "name": "stdout",
     "output_type": "stream",
     "text": [
      "------centered------\n",
      "******centered******\n"
     ]
    }
   ],
   "source": [
    "print(\"{:-^20}\".format(\"centered\"))\n",
    "print(\"{:*^20}\".format(\"centered\"))"
   ]
  },
  {
   "cell_type": "code",
   "execution_count": 33,
   "metadata": {},
   "outputs": [
    {
     "name": "stdout",
     "output_type": "stream",
     "text": [
      "1024 1024\n",
      "10000000000 0b10000000000\n",
      "2000 0o2000\n",
      "400 0x400\n"
     ]
    },
    {
     "data": {
      "text/plain": [
       "'\\n>>> \"int: {0:d};  hex: {0:x};  oct: {0:o};  bin: {0:b}\".format(42)\\n\\'int: 42;  hex: 2a;  oct: 52;  bin: 101010\\'\\n>>> # with 0x, 0o, or 0b as prefix:\\n>>> \"int: {0:d};  hex: {0:#x};  oct: {0:#o};  bin: {0:#b}\".format(42)\\n\\'int: 42;  hex: 0x2a;  oct: 0o52;  bin: 0b101010\\'\\n'"
      ]
     },
     "execution_count": 33,
     "metadata": {},
     "output_type": "execute_result"
    }
   ],
   "source": [
    "print(\"{}\".format(1024), 1024)        \n",
    "print(\"{:b}\".format(1024), bin(1024))  \n",
    "print(\"{:o}\".format(1024), oct(1024))  \n",
    "print(\"{:x}\".format(1024), hex(1024))  \n",
    "\"\"\"\n",
    ">>> \"int: {0:d};  hex: {0:x};  oct: {0:o};  bin: {0:b}\".format(42)\n",
    "'int: 42;  hex: 2a;  oct: 52;  bin: 101010'\n",
    ">>> # with 0x, 0o, or 0b as prefix:\n",
    ">>> \"int: {0:d};  hex: {0:#x};  oct: {0:#o};  bin: {0:#b}\".format(42)\n",
    "'int: 42;  hex: 0x2a;  oct: 0o52;  bin: 0b101010'\n",
    "\"\"\""
   ]
  },
  {
   "cell_type": "code",
   "execution_count": 34,
   "metadata": {},
   "outputs": [
    {
     "name": "stdout",
     "output_type": "stream",
     "text": [
      "math.pi 3.141592653589793\n",
      "3.141592653589793\n"
     ]
    }
   ],
   "source": [
    "print(\"math.pi\", math.pi) \n",
    "print(\"{}\".format(math.pi))"
   ]
  },
  {
   "cell_type": "code",
   "execution_count": 35,
   "metadata": {},
   "outputs": [
    {
     "name": "stdout",
     "output_type": "stream",
     "text": [
      "3.141593\n",
      "3.141593\n",
      "3.14159\n"
     ]
    }
   ],
   "source": [
    "print(\"{:f}\".format(math.pi))  \n",
    "print(\"{:F}\".format(math.pi))  \n",
    "print(\"{:g}\".format(math.pi))"
   ]
  },
  {
   "cell_type": "code",
   "execution_count": 36,
   "metadata": {},
   "outputs": [
    {
     "name": "stdout",
     "output_type": "stream",
     "text": [
      "3.141593\n",
      " 3.141593\n",
      "    3.142\n"
     ]
    }
   ],
   "source": [
    "print(\"{:f}\".format(math.pi))       \n",
    "print(\"{:9f}\".format(math.pi))      \n",
    "print(\"{:9.3f}\".format(math.pi))"
   ]
  },
  {
   "cell_type": "code",
   "execution_count": 37,
   "metadata": {},
   "outputs": [
    {
     "name": "stdout",
     "output_type": "stream",
     "text": [
      "314.159265%\n",
      "700.000000%\n"
     ]
    }
   ],
   "source": [
    "print(\"{:%}\".format(math.pi))\n",
    "print(\"{:%}\".format(7))"
   ]
  },
  {
   "cell_type": "code",
   "execution_count": 38,
   "metadata": {},
   "outputs": [
    {
     "name": "stdout",
     "output_type": "stream",
     "text": [
      "3.141592653589793%\n"
     ]
    }
   ],
   "source": [
    "print(\"{:}%\".format(math.pi))"
   ]
  },
  {
   "cell_type": "code",
   "execution_count": 39,
   "metadata": {},
   "outputs": [
    {
     "name": "stdout",
     "output_type": "stream",
     "text": [
      "Name:udhay Age:99 Salary:9999.9999\n"
     ]
    }
   ],
   "source": [
    "print(\"Name:{} Age:{} Salary:{}\".format(\"udhay\", 99, 9999.9999))"
   ]
  },
  {
   "cell_type": "code",
   "execution_count": 40,
   "metadata": {},
   "outputs": [
    {
     "name": "stdout",
     "output_type": "stream",
     "text": [
      "\n",
      "        Name  :udhay\n",
      "        Age   :99\n",
      "        Salary:9999.9999\n"
     ]
    }
   ],
   "source": [
    "print(\n",
    "    \"\"\"\n",
    "        Name  :{}\n",
    "        Age   :{}\n",
    "        Salary:{}\"\"\".format(\n",
    "        \"udhay\", 99, 9999.9999\n",
    "    )\n",
    ")"
   ]
  },
  {
   "cell_type": "code",
   "execution_count": 41,
   "metadata": {},
   "outputs": [
    {
     "name": "stdout",
     "output_type": "stream",
     "text": [
      "\n",
      "        Name  :udhay\n",
      "        Age   :99\n",
      "        Salary:9999.9999\n"
     ]
    }
   ],
   "source": [
    "print(\n",
    "    \"\"\"\n",
    "        Name  :{0}\n",
    "        Age   :{1}\n",
    "        Salary:{2}\"\"\".format(\n",
    "        \"udhay\", 99, 9999.9999\n",
    "    )\n",
    ")"
   ]
  },
  {
   "cell_type": "code",
   "execution_count": 42,
   "metadata": {},
   "outputs": [
    {
     "name": "stdout",
     "output_type": "stream",
     "text": [
      "\n",
      "        Name  :udhay Name  :udhay Salary:9999.9999\n",
      "        Age   :99 Name  :udhay\n",
      "        Salary:9999.9999\n"
     ]
    }
   ],
   "source": [
    "print(\n",
    "    \"\"\"\n",
    "        Name  :{0} Name  :{0} Salary:{2}\n",
    "        Age   :{1} Name  :{0}\n",
    "        Salary:{2}\"\"\".format(\n",
    "        \"udhay\", 99, 9999.9999\n",
    "    )\n",
    ")"
   ]
  },
  {
   "cell_type": "code",
   "execution_count": 43,
   "metadata": {},
   "outputs": [
    {
     "name": "stdout",
     "output_type": "stream",
     "text": [
      "\n",
      "        Name  :99 Name  :99 Salary:99\n",
      "        Age   :99 Name  :99\n",
      "        Salary:99\n"
     ]
    }
   ],
   "source": [
    "print(\n",
    "    \"\"\"\n",
    "        Name  :{1} Name  :{1} Salary:{1}\n",
    "        Age   :{1} Name  :{1}\n",
    "        Salary:{1}\"\"\".format(\n",
    "        \"udhay\", 99, 9999.9999\n",
    "    )\n",
    ")"
   ]
  },
  {
   "cell_type": "code",
   "execution_count": 44,
   "metadata": {},
   "outputs": [
    {
     "name": "stdout",
     "output_type": "stream",
     "text": [
      "\n",
      "        Name  :udhay Name  :udhay Salary:9999.9999\n",
      "        Age   :99 Name  :udhay\n",
      "        Salary:9999.9999\n"
     ]
    }
   ],
   "source": [
    "print(\n",
    "    \"\"\"\n",
    "        Name  :{NAME} Name  :{NAME} Salary:{SALARY}\n",
    "        Age   :{AGE} Name  :{NAME}\n",
    "        Salary:{SALARY}\"\"\".format(\n",
    "        NAME=\"udhay\", AGE=99, SALARY=9999.9999\n",
    "    )\n",
    ")"
   ]
  },
  {
   "cell_type": "code",
   "execution_count": 45,
   "metadata": {},
   "outputs": [
    {
     "name": "stdout",
     "output_type": "stream",
     "text": [
      "\n",
      "        Dear Vijay Malya,\n",
      "                Your account ending with 1134 was\n",
      "                deducted 20.5 crores on 12th June 1947 12:34:45.\n",
      "\n",
      "        Thank you for shopping. Visit again!!!\n",
      "         \n"
     ]
    }
   ],
   "source": [
    "print(\n",
    "    \"\"\"\n",
    "        Dear {customer},\n",
    "                Your account ending with {accound_last_4_digits} was\n",
    "                deducted {transaction_amount} on {transaction_time}.\n",
    "\n",
    "        Thank you for shopping. Visit again!!!\n",
    "         \"\"\".format(\n",
    "        customer=\"Vijay Malya\",\n",
    "        accound_last_4_digits=1134,\n",
    "        transaction_amount=\"20.5 crores\",\n",
    "        transaction_time=\"12th June 1947 12:34:45\",\n",
    "    )\n",
    ")"
   ]
  },
  {
   "cell_type": "code",
   "execution_count": 46,
   "metadata": {},
   "outputs": [
    {
     "name": "stdout",
     "output_type": "stream",
     "text": [
      "\n",
      "        Dear Vijay Malya,\n",
      "                Your account ending with 1134 was\n",
      "                deducted 20.5 crores on 12th June 1947 12:34:45.\n",
      "\n",
      "        Thank you for shopping. Visit again!\n",
      "         \n"
     ]
    }
   ],
   "source": [
    "result = {\n",
    "    \"customer\": \"Vijay Malya\",\n",
    "    \"accound_last_4_digits\": 1134,\n",
    "    \"transaction_amount\": \"20.5 crores\",\n",
    "    \"transaction_time\": \"12th June 1947 12:34:45\",\n",
    "}\n",
    "\n",
    "print(\n",
    "    \"\"\"\n",
    "        Dear {customer},\n",
    "                Your account ending with {accound_last_4_digits} was\n",
    "                deducted {transaction_amount} on {transaction_time}.\n",
    "\n",
    "        Thank you for shopping. Visit again!\n",
    "         \"\"\".format(\n",
    "        **result  # dictionary unpacking\n",
    "    )\n",
    ")"
   ]
  },
  {
   "cell_type": "code",
   "execution_count": 47,
   "metadata": {},
   "outputs": [
    {
     "name": "stdout",
     "output_type": "stream",
     "text": [
      "\n",
      "        Dear Vijay Malya,\n",
      "                Your account ending with 1134 was\n",
      "                deducted 20.5 crores on 12th June 1947 12:34:45.\n",
      "\n",
      "        Thank you for shopping. Visit again!\n",
      "         \n"
     ]
    }
   ],
   "source": [
    "print(\n",
    "    \"\"\"\n",
    "        Dear {customer},\n",
    "                Your account ending with {accound_last_4_digits} was\n",
    "                deducted {transaction_amount} on {transaction_time}.\n",
    "\n",
    "        Thank you for shopping. Visit again!\n",
    "         \"\"\".format_map(\n",
    "        result\n",
    "    )\n",
    ")"
   ]
  },
  {
   "cell_type": "code",
   "execution_count": 48,
   "metadata": {},
   "outputs": [
    {
     "name": "stdout",
     "output_type": "stream",
     "text": [
      "\n",
      "\n",
      "\n"
     ]
    }
   ],
   "source": [
    "print(\"\" % ())         \n",
    "print(\"{}\".format(\"\"))  \n",
    "print(f'{\"\"}')"
   ]
  },
  {
   "cell_type": "code",
   "execution_count": 49,
   "metadata": {},
   "outputs": [
    {
     "name": "stdout",
     "output_type": "stream",
     "text": [
      "Hello {name}\n"
     ]
    }
   ],
   "source": [
    "print(\"Hello {name}\")"
   ]
  },
  {
   "cell_type": "code",
   "execution_count": 50,
   "metadata": {},
   "outputs": [
    {
     "name": "stdout",
     "output_type": "stream",
     "text": [
      "Hello world\n"
     ]
    }
   ],
   "source": [
    "print(\"Hello {name}\".format(name=\"world\"))"
   ]
  },
  {
   "cell_type": "code",
   "execution_count": 1,
   "metadata": {},
   "outputs": [
    {
     "name": "stdout",
     "output_type": "stream",
     "text": [
      "Hello {name}\n",
      "Hello World\n"
     ]
    }
   ],
   "source": [
    "name = \"World\" # variable; not label\n",
    "print(\"Hello {name}\")\n",
    "print(f\"Hello {name}\")"
   ]
  },
  {
   "cell_type": "code",
   "execution_count": 2,
   "metadata": {},
   "outputs": [
    {
     "ename": "NameError",
     "evalue": "name 'name1' is not defined",
     "output_type": "error",
     "traceback": [
      "\u001b[0;31m---------------------------------------------------------------------------\u001b[0m",
      "\u001b[0;31mNameError\u001b[0m                                 Traceback (most recent call last)",
      "Cell \u001b[0;32mIn[2], line 1\u001b[0m\n\u001b[0;32m----> 1\u001b[0m \u001b[38;5;28mprint\u001b[39m(\u001b[38;5;124mf\u001b[39m\u001b[38;5;124m\"\u001b[39m\u001b[38;5;124mHello \u001b[39m\u001b[38;5;132;01m{\u001b[39;00m\u001b[43mname1\u001b[49m\u001b[38;5;132;01m}\u001b[39;00m\u001b[38;5;124m\"\u001b[39m)\n",
      "\u001b[0;31mNameError\u001b[0m: name 'name1' is not defined"
     ]
    }
   ],
   "source": [
    "print(f\"Hello {name1}\")"
   ]
  },
  {
   "cell_type": "code",
   "execution_count": 3,
   "metadata": {},
   "outputs": [
    {
     "name": "stdout",
     "output_type": "stream",
     "text": [
      "number is 12312.123\n"
     ]
    }
   ],
   "source": [
    "number = 12312.123\n",
    "print(f\"number is {number}\")"
   ]
  },
  {
   "cell_type": "code",
   "execution_count": 4,
   "metadata": {},
   "outputs": [
    {
     "name": "stdout",
     "output_type": "stream",
     "text": [
      "Hello WORLD\n",
      "Hello World\n",
      "number is 12312\n"
     ]
    }
   ],
   "source": [
    "print(f\"Hello {name.upper()}\")\n",
    "print(f\"Hello {name.title()}\")\n",
    "\n",
    "print(f\"number is {int(number)}\")\n"
   ]
  },
  {
   "cell_type": "code",
   "execution_count": 5,
   "metadata": {},
   "outputs": [
    {
     "name": "stdout",
     "output_type": "stream",
     "text": [
      "The value is 123126.0\n"
     ]
    }
   ],
   "source": [
    "value = 123123\n",
    "print(f\"The value is {float(value) + 3}\")"
   ]
  },
  {
   "cell_type": "code",
   "execution_count": 6,
   "metadata": {},
   "outputs": [
    {
     "name": "stdout",
     "output_type": "stream",
     "text": [
      "1234567890.88\n",
      "1234567890.88\n",
      "1,234,567,890.88\n",
      "1_234_567_890.88\n",
      "1234567890.88\n",
      "+1234567890.88\n"
     ]
    }
   ],
   "source": [
    "value = 1234567890.88\n",
    "print(f\"{value}\")    \n",
    "print(f\"{value:}\")   \n",
    "print(f\"{value:,}\") \n",
    "print(f\"{value:_}\")  \n",
    "print(f\"{value:-}\")  \n",
    "print(f\"{value:+}\")"
   ]
  },
  {
   "cell_type": "code",
   "execution_count": 7,
   "metadata": {},
   "outputs": [
    {
     "name": "stdout",
     "output_type": "stream",
     "text": [
      "left aligned        \n",
      "       right aligned\n",
      "      centered      \n",
      "------centered------\n"
     ]
    }
   ],
   "source": [
    "print(f'{\"left aligned\":<20}')     \n",
    "print(f'{\"right aligned\":>20}')     \n",
    "print(f'{\"centered\":^20}')          \n",
    "print(f'{\"centered\":-^20}')"
   ]
  },
  {
   "cell_type": "code",
   "execution_count": 8,
   "metadata": {},
   "outputs": [
    {
     "name": "stdout",
     "output_type": "stream",
     "text": [
      "1024 1024\n",
      "1024 1024\n",
      "10000000000 0b10000000000\n",
      "2000 0o2000\n",
      "400 0x400\n",
      "400 0x400\n"
     ]
    }
   ],
   "source": [
    "print(f\"{1024}\", 1024)  \n",
    "print(f\"{1024:d}\", 1024)  \n",
    "print(f\"{1024:b}\", bin(1024))  \n",
    "print(f\"{1024:o}\", oct(1024))  \n",
    "print(f\"{1024:x}\", hex(1024))  \n",
    "print(f\"{1024:X}\", hex(1024))"
   ]
  },
  {
   "cell_type": "code",
   "execution_count": 9,
   "metadata": {},
   "outputs": [
    {
     "ename": "NameError",
     "evalue": "name 'math' is not defined",
     "output_type": "error",
     "traceback": [
      "\u001b[0;31m---------------------------------------------------------------------------\u001b[0m",
      "\u001b[0;31mNameError\u001b[0m                                 Traceback (most recent call last)",
      "Cell \u001b[0;32mIn[9], line 1\u001b[0m\n\u001b[0;32m----> 1\u001b[0m \u001b[38;5;28mprint\u001b[39m(\u001b[38;5;124m\"\u001b[39m\u001b[38;5;124mmath.pi\u001b[39m\u001b[38;5;124m\"\u001b[39m, \u001b[43mmath\u001b[49m\u001b[38;5;241m.\u001b[39mpi)  \n\u001b[1;32m      2\u001b[0m \u001b[38;5;28mprint\u001b[39m(\u001b[38;5;124mf\u001b[39m\u001b[38;5;124m\"\u001b[39m\u001b[38;5;132;01m{\u001b[39;00mmath\u001b[38;5;241m.\u001b[39mpi\u001b[38;5;132;01m}\u001b[39;00m\u001b[38;5;124m\"\u001b[39m)  \n\u001b[1;32m      3\u001b[0m \u001b[38;5;28mprint\u001b[39m(\u001b[38;5;124mf\u001b[39m\u001b[38;5;124m\"\u001b[39m\u001b[38;5;132;01m{\u001b[39;00mmath\u001b[38;5;241m.\u001b[39mpi\u001b[38;5;132;01m:\u001b[39;00m\u001b[38;5;124mf\u001b[39m\u001b[38;5;132;01m}\u001b[39;00m\u001b[38;5;124m\"\u001b[39m)  \n",
      "\u001b[0;31mNameError\u001b[0m: name 'math' is not defined"
     ]
    }
   ],
   "source": [
    "print(\"math.pi\", math.pi)  \n",
    "print(f\"{math.pi}\")  \n",
    "print(f\"{math.pi:f}\")  \n",
    "print(f\"{math.pi:F}\")  \n",
    "print(f\"{math.pi:g}\")"
   ]
  },
  {
   "cell_type": "code",
   "execution_count": 10,
   "metadata": {},
   "outputs": [
    {
     "ename": "NameError",
     "evalue": "name 'math' is not defined",
     "output_type": "error",
     "traceback": [
      "\u001b[0;31m---------------------------------------------------------------------------\u001b[0m",
      "\u001b[0;31mNameError\u001b[0m                                 Traceback (most recent call last)",
      "Cell \u001b[0;32mIn[10], line 1\u001b[0m\n\u001b[0;32m----> 1\u001b[0m \u001b[38;5;28mprint\u001b[39m(\u001b[38;5;124mf\u001b[39m\u001b[38;5;124m\"\u001b[39m\u001b[38;5;132;01m{\u001b[39;00m\u001b[43mmath\u001b[49m\u001b[38;5;241m.\u001b[39mpi\u001b[38;5;132;01m:\u001b[39;00m\u001b[38;5;124mf\u001b[39m\u001b[38;5;132;01m}\u001b[39;00m\u001b[38;5;124m\"\u001b[39m)  \n\u001b[1;32m      2\u001b[0m \u001b[38;5;28mprint\u001b[39m(\u001b[38;5;124mf\u001b[39m\u001b[38;5;124m\"\u001b[39m\u001b[38;5;132;01m{\u001b[39;00mmath\u001b[38;5;241m.\u001b[39mpi\u001b[38;5;132;01m:\u001b[39;00m\u001b[38;5;124m9f\u001b[39m\u001b[38;5;132;01m}\u001b[39;00m\u001b[38;5;124m\"\u001b[39m)  \n\u001b[1;32m      3\u001b[0m \u001b[38;5;28mprint\u001b[39m(\u001b[38;5;124mf\u001b[39m\u001b[38;5;124m\"\u001b[39m\u001b[38;5;132;01m{\u001b[39;00mmath\u001b[38;5;241m.\u001b[39mpi\u001b[38;5;132;01m:\u001b[39;00m\u001b[38;5;124m9.3f\u001b[39m\u001b[38;5;132;01m}\u001b[39;00m\u001b[38;5;124m\"\u001b[39m)\n",
      "\u001b[0;31mNameError\u001b[0m: name 'math' is not defined"
     ]
    }
   ],
   "source": [
    "print(f\"{math.pi:f}\")  \n",
    "print(f\"{math.pi:9f}\")  \n",
    "print(f\"{math.pi:9.3f}\")"
   ]
  },
  {
   "cell_type": "code",
   "execution_count": 11,
   "metadata": {},
   "outputs": [
    {
     "name": "stdout",
     "output_type": "stream",
     "text": [
      "math.pi 3.141592653589793\n",
      "3.141592653589793\n",
      "3.141593\n",
      "3.141593\n",
      "3.14159\n"
     ]
    }
   ],
   "source": [
    "import math\n",
    "print(\"math.pi\", math.pi)  \n",
    "print(f\"{math.pi}\")  \n",
    "print(f\"{math.pi:f}\")  \n",
    "print(f\"{math.pi:F}\")  \n",
    "print(f\"{math.pi:g}\")"
   ]
  },
  {
   "cell_type": "code",
   "execution_count": 12,
   "metadata": {},
   "outputs": [
    {
     "name": "stdout",
     "output_type": "stream",
     "text": [
      "3.141593\n",
      " 3.141593\n",
      "    3.142\n"
     ]
    }
   ],
   "source": [
    "print(f\"{math.pi:f}\")  \n",
    "print(f\"{math.pi:9f}\")  \n",
    "print(f\"{math.pi:9.3f}\")"
   ]
  },
  {
   "cell_type": "code",
   "execution_count": 13,
   "metadata": {},
   "outputs": [
    {
     "name": "stdout",
     "output_type": "stream",
     "text": [
      "quoted string\n",
      "quoted string\n"
     ]
    }
   ],
   "source": [
    "print(f\"{'quoted string'}\")\n",
    "print(f'{\"quoted string\"}')"
   ]
  },
  {
   "cell_type": "code",
   "execution_count": 14,
   "metadata": {},
   "outputs": [
    {
     "name": "stdout",
     "output_type": "stream",
     "text": [
      "40\n",
      "{4*10}\n",
      "{40}\n"
     ]
    }
   ],
   "source": [
    "print(f\"{4 * 10}\")  # 40\n",
    "print(f\"{{4*10}}\")  # {4*10}\n",
    "print(f\"{{{4 * 10}}}\")  # {40}"
   ]
  },
  {
   "cell_type": "code",
   "execution_count": 15,
   "metadata": {},
   "outputs": [
    {
     "name": "stdout",
     "output_type": "stream",
     "text": [
      "quoted string\n",
      "{\"quoted string\"}\n",
      "{quoted string}\n"
     ]
    }
   ],
   "source": [
    "print(f'{\"quoted string\"}')  \n",
    "print(f'{{\"quoted string\"}}') \n",
    "print(f'{{{\"quoted string\"}}}')"
   ]
  },
  {
   "cell_type": "code",
   "execution_count": 16,
   "metadata": {},
   "outputs": [
    {
     "name": "stdout",
     "output_type": "stream",
     "text": [
      "x=40\n",
      "\n",
      "x=40\\n\n",
      "x=40\\n\n"
     ]
    }
   ],
   "source": [
    "print(f\"x={4 * 10}\\n\")\n",
    "print(rf\"x={4 * 10}\\n\")\n",
    "print(fr\"x={4 * 10}\\n\")"
   ]
  },
  {
   "cell_type": "code",
   "execution_count": 17,
   "metadata": {},
   "outputs": [],
   "source": [
    "import decimal"
   ]
  },
  {
   "cell_type": "code",
   "execution_count": 18,
   "metadata": {},
   "outputs": [
    {
     "name": "stdout",
     "output_type": "stream",
     "text": [
      "result: 12.345688687687687687687687687687687686876868686876876876877\n",
      "result:      12.35\n"
     ]
    }
   ],
   "source": [
    "width = 10\n",
    "precision = 4\n",
    "value = decimal.Decimal(\"12.345688687687687687687687687687687686876868686876876876877\")\n",
    "print(f\"result: {value}\")\n",
    "print(f\"result: {value:{width}.{precision}}\")\n"
   ]
  },
  {
   "cell_type": "code",
   "execution_count": 19,
   "metadata": {},
   "outputs": [
    {
     "data": {
      "text/plain": [
       "12.345688687687687"
      ]
     },
     "execution_count": 19,
     "metadata": {},
     "output_type": "execute_result"
    }
   ],
   "source": [
    "value = 12.345688687687687687687687687687687686876868686876876876877\n",
    "value\n"
   ]
  },
  {
   "cell_type": "code",
   "execution_count": 20,
   "metadata": {},
   "outputs": [
    {
     "name": "stdout",
     "output_type": "stream",
     "text": [
      "Python:αλεπού\n",
      "'Python:αλεπού'\n",
      "'Python:\\u03b1\\u03bb\\u03b5\\u03c0\\u03bf\\u03cd'\n"
     ]
    }
   ],
   "source": [
    "name = \"Python:αλεπού\"\n",
    "print(f\"{name!s}\") \n",
    "print(f\"{name!r}\") \n",
    "print(f\"{name!a}\") \n"
   ]
  },
  {
   "cell_type": "code",
   "execution_count": 21,
   "metadata": {},
   "outputs": [
    {
     "name": "stdout",
     "output_type": "stream",
     "text": [
      "2024-12-02\n"
     ]
    }
   ],
   "source": [
    "from datetime import datetime \n",
    "\n",
    "today = datetime.now()\n",
    "print(f\"{today:%Y-%m-%d}\")\n",
    "\n"
   ]
  },
  {
   "cell_type": "code",
   "execution_count": 22,
   "metadata": {},
   "outputs": [
    {
     "name": "stdout",
     "output_type": "stream",
     "text": [
      "Python\n"
     ]
    }
   ],
   "source": [
    "language = \"Python\"\n",
    "print(language)"
   ]
  },
  {
   "cell_type": "code",
   "execution_count": 23,
   "metadata": {},
   "outputs": [
    {
     "name": "stdout",
     "output_type": "stream",
     "text": [
      "language = Python\n",
      "language = Python\n",
      "language = Python\n",
      "language = Python\n",
      "language = 'Python'\n"
     ]
    }
   ],
   "source": [
    "print(\"language =\", language)\n",
    "print(\"language = %s\" % (language))\n",
    "print(\"language = {}\".format(language))\n",
    "print(f\"language = {language}\")\n",
    "\n",
    "print(f\"{language = }\")"
   ]
  },
  {
   "cell_type": "code",
   "execution_count": 24,
   "metadata": {},
   "outputs": [
    {
     "name": "stdout",
     "output_type": "stream",
     "text": [
      "num = 1234\n",
      "num = 1234\n"
     ]
    }
   ],
   "source": [
    "num = 1234\n",
    "print(f\"num = {num}\")\n",
    "print(f\"{num = }\")"
   ]
  },
  {
   "cell_type": "code",
   "execution_count": 25,
   "metadata": {},
   "outputs": [
    {
     "name": "stdout",
     "output_type": "stream",
     "text": [
      "NUmber =1234\n"
     ]
    }
   ],
   "source": [
    "print(f'NUmber ={num}')"
   ]
  },
  {
   "cell_type": "code",
   "execution_count": 26,
   "metadata": {},
   "outputs": [
    {
     "name": "stdout",
     "output_type": "stream",
     "text": [
      "num     = 1234\n",
      "num     = 1234\n",
      "num * 3 = 3702\n",
      "num / 3 = 411.3333333333333\n",
      "num % 3 = 1\n"
     ]
    }
   ],
   "source": [
    "print(f\"{num     = }\")\n",
    "print(f\"{num     = }\")\n",
    "print(f\"{num * 3 = }\")\n",
    "print(f\"{num / 3 = }\")\n",
    "print(f\"{num % 3 = }\")"
   ]
  },
  {
   "cell_type": "code",
   "execution_count": 27,
   "metadata": {},
   "outputs": [
    {
     "name": "stdout",
     "output_type": "stream",
     "text": [
      "language : Python\n"
     ]
    }
   ],
   "source": [
    "print(f\"language : {language}\")"
   ]
  },
  {
   "cell_type": "code",
   "execution_count": 28,
   "metadata": {},
   "outputs": [
    {
     "name": "stdout",
     "output_type": "stream",
     "text": [
      "Python\n",
      "language ='Python'\n"
     ]
    }
   ],
   "source": [
    "print(f\"{language :}\")\n",
    "print(f\"{language =}\")"
   ]
  },
  {
   "cell_type": "code",
   "execution_count": 29,
   "metadata": {},
   "outputs": [
    {
     "name": "stdout",
     "output_type": "stream",
     "text": [
      "language is Python\n"
     ]
    }
   ],
   "source": [
    "print(f\"language is {language}\")"
   ]
  }
 ],
 "metadata": {
  "kernelspec": {
   "display_name": "Python 3",
   "language": "python",
   "name": "python3"
  },
  "language_info": {
   "codemirror_mode": {
    "name": "ipython",
    "version": 3
   },
   "file_extension": ".py",
   "mimetype": "text/x-python",
   "name": "python",
   "nbconvert_exporter": "python",
   "pygments_lexer": "ipython3",
   "version": "3.12.1"
  }
 },
 "nbformat": 4,
 "nbformat_minor": 2
}
