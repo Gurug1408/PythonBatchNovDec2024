{
 "cells": [
  {
   "cell_type": "code",
   "execution_count": 1,
   "metadata": {},
   "outputs": [
    {
     "data": {
      "text/plain": [
       "True"
      ]
     },
     "execution_count": 1,
     "metadata": {},
     "output_type": "execute_result"
    }
   ],
   "source": [
    "True"
   ]
  },
  {
   "cell_type": "code",
   "execution_count": 2,
   "metadata": {},
   "outputs": [
    {
     "data": {
      "text/plain": [
       "False"
      ]
     },
     "execution_count": 2,
     "metadata": {},
     "output_type": "execute_result"
    }
   ],
   "source": [
    "False"
   ]
  },
  {
   "cell_type": "code",
   "execution_count": 3,
   "metadata": {},
   "outputs": [
    {
     "ename": "NameError",
     "evalue": "name 'false' is not defined",
     "output_type": "error",
     "traceback": [
      "\u001b[0;31m---------------------------------------------------------------------------\u001b[0m",
      "\u001b[0;31mNameError\u001b[0m                                 Traceback (most recent call last)",
      "Cell \u001b[0;32mIn[3], line 1\u001b[0m\n\u001b[0;32m----> 1\u001b[0m \u001b[43mfalse\u001b[49m\n",
      "\u001b[0;31mNameError\u001b[0m: name 'false' is not defined"
     ]
    }
   ],
   "source": [
    "false"
   ]
  },
  {
   "cell_type": "code",
   "execution_count": 4,
   "metadata": {},
   "outputs": [
    {
     "name": "stdout",
     "output_type": "stream",
     "text": [
      "choice =  True <class 'bool'> 95851956622240\n"
     ]
    }
   ],
   "source": [
    "choice = True\n",
    "print(\"choice = \", choice, type(choice), id(choice))"
   ]
  },
  {
   "cell_type": "code",
   "execution_count": 5,
   "metadata": {},
   "outputs": [
    {
     "name": "stdout",
     "output_type": "stream",
     "text": [
      "choice =  False <class 'bool'> 95851956622272\n"
     ]
    }
   ],
   "source": [
    "choice = False\n",
    "print(\"choice = \", choice, type(choice), id(choice))"
   ]
  },
  {
   "cell_type": "code",
   "execution_count": 6,
   "metadata": {},
   "outputs": [
    {
     "name": "stdout",
     "output_type": "stream",
     "text": [
      "choice =  True <class 'str'> 95851957681824\n"
     ]
    }
   ],
   "source": [
    "choice = \"True\"\n",
    "print(\"choice = \", choice, type(choice), id(choice))"
   ]
  },
  {
   "cell_type": "code",
   "execution_count": 7,
   "metadata": {},
   "outputs": [
    {
     "name": "stdout",
     "output_type": "stream",
     "text": [
      "choice =  213123 <class 'int'> 140004952244816\n"
     ]
    }
   ],
   "source": [
    "choice = 213123\n",
    "print(\"choice = \", choice, type(choice), id(choice))"
   ]
  },
  {
   "cell_type": "code",
   "execution_count": 8,
   "metadata": {},
   "outputs": [
    {
     "ename": "SyntaxError",
     "evalue": "cannot assign to True (3119790214.py, line 1)",
     "output_type": "error",
     "traceback": [
      "\u001b[0;36m  Cell \u001b[0;32mIn[8], line 1\u001b[0;36m\u001b[0m\n\u001b[0;31m    True = 'Udhay'\u001b[0m\n\u001b[0m    ^\u001b[0m\n\u001b[0;31mSyntaxError\u001b[0m\u001b[0;31m:\u001b[0m cannot assign to True\n"
     ]
    }
   ],
   "source": [
    "True = 'Udhay'"
   ]
  },
  {
   "cell_type": "code",
   "execution_count": 9,
   "metadata": {},
   "outputs": [],
   "source": [
    "true = \"Udhay\""
   ]
  },
  {
   "cell_type": "code",
   "execution_count": 10,
   "metadata": {},
   "outputs": [],
   "source": [
    "true_name = \"Udhay\""
   ]
  },
  {
   "cell_type": "code",
   "execution_count": 11,
   "metadata": {},
   "outputs": [
    {
     "name": "stdout",
     "output_type": "stream",
     "text": [
      "True         =  True\n",
      "True * 30    =  30\n",
      "True * 3.4   =  3.4\n"
     ]
    }
   ],
   "source": [
    "print(\"True         = \", True)\n",
    "print(\"True * 30    = \", True * 30)\n",
    "print(\"True * 3.4   = \", True * 3.4)"
   ]
  },
  {
   "cell_type": "code",
   "execution_count": 12,
   "metadata": {},
   "outputs": [
    {
     "name": "stdout",
     "output_type": "stream",
     "text": [
      "False        =  False\n",
      "False * 30   =  0\n"
     ]
    }
   ],
   "source": [
    "print(\"False        = \", False)\n",
    "print(\"False * 30   = \", False * 30)"
   ]
  },
  {
   "cell_type": "code",
   "execution_count": 13,
   "metadata": {},
   "outputs": [
    {
     "name": "stdout",
     "output_type": "stream",
     "text": [
      "True == 1   True\n",
      "True == 3   False\n",
      "True != 3   True\n"
     ]
    }
   ],
   "source": [
    "print(\"True == 1  \", True == 1)\n",
    "print(\"True == 3  \", True == 3)\n",
    "print(\"True != 3  \", True != 3)"
   ]
  },
  {
   "cell_type": "code",
   "execution_count": 14,
   "metadata": {},
   "outputs": [
    {
     "name": "stdout",
     "output_type": "stream",
     "text": [
      "False == 0  True\n",
      "False == 3  False\n",
      "False != 3  True\n"
     ]
    }
   ],
   "source": [
    "print(\"False == 0 \", False == 0)\n",
    "print(\"False == 3 \", False == 3)\n",
    "print(\"False != 3 \", False != 3)"
   ]
  },
  {
   "cell_type": "code",
   "execution_count": 15,
   "metadata": {},
   "outputs": [
    {
     "name": "stdout",
     "output_type": "stream",
     "text": [
      "True == 1.0   True\n",
      "False == 0.0  True\n"
     ]
    }
   ],
   "source": [
    "print(\"True == 1.0  \", True == 1.0)\n",
    "print(\"False == 0.0 \", False == 0.0)"
   ]
  },
  {
   "cell_type": "code",
   "execution_count": 16,
   "metadata": {},
   "outputs": [
    {
     "name": "stdout",
     "output_type": "stream",
     "text": [
      "True == 1.1   False\n"
     ]
    }
   ],
   "source": [
    "print(\"True == 1.1  \", True == 1.1)"
   ]
  },
  {
   "cell_type": "code",
   "execution_count": 17,
   "metadata": {},
   "outputs": [
    {
     "name": "stdout",
     "output_type": "stream",
     "text": [
      "str(1) != str(True)  True\n",
      "str(0) != str(False) True\n"
     ]
    }
   ],
   "source": [
    "print(\"str(1) != str(True) \", str(1) != str(True))\n",
    "print(\"str(0) != str(False)\", str(0) != str(False))"
   ]
  },
  {
   "cell_type": "code",
   "execution_count": 18,
   "metadata": {},
   "outputs": [
    {
     "data": {
      "text/plain": [
       "'1'"
      ]
     },
     "execution_count": 18,
     "metadata": {},
     "output_type": "execute_result"
    }
   ],
   "source": [
    "str(1)"
   ]
  },
  {
   "cell_type": "code",
   "execution_count": 19,
   "metadata": {},
   "outputs": [
    {
     "data": {
      "text/plain": [
       "'True'"
      ]
     },
     "execution_count": 19,
     "metadata": {},
     "output_type": "execute_result"
    }
   ],
   "source": [
    "str(True)"
   ]
  },
  {
   "cell_type": "code",
   "execution_count": 20,
   "metadata": {},
   "outputs": [
    {
     "data": {
      "text/plain": [
       "'1'"
      ]
     },
     "execution_count": 20,
     "metadata": {},
     "output_type": "execute_result"
    }
   ],
   "source": [
    "str(True * 1)"
   ]
  },
  {
   "cell_type": "code",
   "execution_count": 21,
   "metadata": {},
   "outputs": [
    {
     "name": "stdout",
     "output_type": "stream",
     "text": [
      "str(True * 1) == str(1) True\n"
     ]
    }
   ],
   "source": [
    "print(\"str(True * 1) == str(1)\", str(True * 1) == str(1))"
   ]
  },
  {
   "cell_type": "code",
   "execution_count": 22,
   "metadata": {},
   "outputs": [
    {
     "name": "stdout",
     "output_type": "stream",
     "text": [
      "bool(12)           True\n",
      "bool(-12)          True\n",
      "bool(0)            False\n",
      "\n",
      "bool(0.00000000)   False\n",
      "bool(0.000000001)  True\n",
      "bool(-0.000000001) True\n"
     ]
    }
   ],
   "source": [
    "print(\"bool(12)          \", bool(12))\n",
    "print(\"bool(-12)         \", bool(-12))\n",
    "print(\"bool(0)           \", bool(0))\n",
    "print()\n",
    "\n",
    "print(\"bool(0.00000000)  \", bool(0.00000000))\n",
    "print(\"bool(0.000000001) \", bool(0.000000001))\n",
    "print(\"bool(-0.000000001)\", bool(-0.000000001))"
   ]
  },
  {
   "cell_type": "code",
   "execution_count": 23,
   "metadata": {},
   "outputs": [
    {
     "name": "stdout",
     "output_type": "stream",
     "text": [
      "bool('ball')      True\n",
      "bool(' ')         True\n",
      "bool('')          False\n"
     ]
    }
   ],
   "source": [
    "print(\"bool('ball')     \", bool(\"ball\"))\n",
    "print(\"bool(' ')        \", bool(\" \")) \n",
    "print(\"bool('')         \", bool(\"\"))  "
   ]
  },
  {
   "cell_type": "code",
   "execution_count": 24,
   "metadata": {},
   "outputs": [
    {
     "name": "stdout",
     "output_type": "stream",
     "text": [
      "bool(None)        False\n"
     ]
    }
   ],
   "source": [
    "print(\"bool(None)       \", bool(None))"
   ]
  },
  {
   "cell_type": "code",
   "execution_count": 25,
   "metadata": {},
   "outputs": [
    {
     "name": "stdout",
     "output_type": "stream",
     "text": [
      "bool(True)        True\n",
      "bool(False)       False\n"
     ]
    }
   ],
   "source": [
    "print(\"bool(True)       \", bool(True))\n",
    "print(\"bool(False)      \", bool(False))"
   ]
  },
  {
   "cell_type": "code",
   "execution_count": 26,
   "metadata": {},
   "outputs": [
    {
     "name": "stdout",
     "output_type": "stream",
     "text": [
      "(1)               True\n",
      "(1,)              True\n",
      "[1]               True\n",
      "{1}               True\n",
      "{1:2}             True\n"
     ]
    }
   ],
   "source": [
    "print(\"(1)              \", bool((1)))\n",
    "print(\"(1,)             \", bool((1,)))\n",
    "print(\"[1]              \", bool([1]))\n",
    "print(\"{1}              \", bool({1}))\n",
    "print(\"{1:2}            \", bool({1: 2}))"
   ]
  },
  {
   "cell_type": "code",
   "execution_count": 27,
   "metadata": {},
   "outputs": [
    {
     "name": "stdout",
     "output_type": "stream",
     "text": [
      "()                False\n",
      "[]                False\n",
      "{}                False\n"
     ]
    }
   ],
   "source": [
    "print(\"()               \", bool(()))\n",
    "print(\"[]               \", bool([]))\n",
    "print(\"{}               \", bool({}))"
   ]
  },
  {
   "cell_type": "code",
   "execution_count": 28,
   "metadata": {},
   "outputs": [
    {
     "name": "stdout",
     "output_type": "stream",
     "text": [
      "74 > 59            True\n",
      "bool(74 > 59)      True\n",
      "74 <= 59           False\n",
      "bool(74 <= 59)     False\n"
     ]
    }
   ],
   "source": [
    "print(\"74 > 59           \", 74 > 59)\n",
    "print(\"bool(74 > 59)     \", bool(74 > 59))\n",
    "\n",
    "print(\"74 <= 59          \", 74 <= 59)\n",
    "print(\"bool(74 <= 59)    \", bool(74 <= 59))"
   ]
  },
  {
   "cell_type": "code",
   "execution_count": 29,
   "metadata": {},
   "outputs": [
    {
     "name": "stdout",
     "output_type": "stream",
     "text": [
      "1 < 2 and 23 <=23        True\n",
      "bool(1 < 2 and 23 <=23)  True\n"
     ]
    }
   ],
   "source": [
    "print(\"1 < 2 and 23 <=23       \", 1 < 2 and 23 <= 23)\n",
    "print(\"bool(1 < 2 and 23 <=23) \", bool(1 < 2 and 23 <= 23))"
   ]
  },
  {
   "cell_type": "code",
   "execution_count": 30,
   "metadata": {},
   "outputs": [
    {
     "name": "stdout",
     "output_type": "stream",
     "text": [
      "bool(name)       =  True\n",
      "bool(name != '') =  True\n"
     ]
    }
   ],
   "source": [
    "name = \"Udhay\"\n",
    "print(\"bool(name)       = \", bool(name))\n",
    "print(\"bool(name != '') = \", bool(name != \"\"))"
   ]
  },
  {
   "cell_type": "code",
   "execution_count": 31,
   "metadata": {},
   "outputs": [
    {
     "name": "stdout",
     "output_type": "stream",
     "text": [
      "bool(num1)        True\n",
      "bool(num1 != 0)   True\n"
     ]
    }
   ],
   "source": [
    "num1 = -0.000000056\n",
    "print(\"bool(num1)       \", bool(num1))\n",
    "print(\"bool(num1 != 0)  \", bool(num1 != 0))"
   ]
  },
  {
   "cell_type": "code",
   "execution_count": 32,
   "metadata": {},
   "outputs": [
    {
     "name": "stdout",
     "output_type": "stream",
     "text": [
      "It is non-zero\n"
     ]
    }
   ],
   "source": [
    "if num1 != 0:\n",
    "    print(\"It is non-zero\")"
   ]
  },
  {
   "cell_type": "code",
   "execution_count": 33,
   "metadata": {},
   "outputs": [
    {
     "name": "stdout",
     "output_type": "stream",
     "text": [
      "It is non-zero\n"
     ]
    }
   ],
   "source": [
    "if num1:\n",
    "    print(\"It is non-zero\")"
   ]
  },
  {
   "cell_type": "code",
   "execution_count": 34,
   "metadata": {},
   "outputs": [
    {
     "name": "stdout",
     "output_type": "stream",
     "text": [
      "It will print everytime\n"
     ]
    }
   ],
   "source": [
    "if 1:\n",
    "    print(\"It will print everytime\")"
   ]
  },
  {
   "cell_type": "code",
   "execution_count": 35,
   "metadata": {},
   "outputs": [],
   "source": [
    "if 0:\n",
    "    print(\"It will not print everytime\")"
   ]
  },
  {
   "cell_type": "code",
   "execution_count": 36,
   "metadata": {},
   "outputs": [
    {
     "name": "stdout",
     "output_type": "stream",
     "text": [
      "It will print everytime\n"
     ]
    }
   ],
   "source": [
    "if not 0:\n",
    "    print(\"It will print everytime\")"
   ]
  },
  {
   "cell_type": "code",
   "execution_count": 37,
   "metadata": {},
   "outputs": [
    {
     "name": "stdout",
     "output_type": "stream",
     "text": [
      "bool(num2)        False\n",
      "bool(num2 != 0)   False\n",
      "It is zero \n",
      "It is zero \n"
     ]
    }
   ],
   "source": [
    "num2 = -0.000000000000000000000000000\n",
    "print(\"bool(num2)       \", bool(num2))\n",
    "print(\"bool(num2 != 0)  \", bool(num2 != 0))\n",
    "\n",
    "if num2 != 0:  \n",
    "    print(\"It is non-zero\")\n",
    "\n",
    "if num2: \n",
    "    print(\"It is non-zero\")\n",
    "\n",
    "if not num2 != 0:\n",
    "    print(\"It is zero \")\n",
    "\n",
    "if (\n",
    "    not num2\n",
    "):\n",
    "    print(\"It is zero \")"
   ]
  },
  {
   "cell_type": "code",
   "execution_count": 38,
   "metadata": {},
   "outputs": [
    {
     "name": "stdout",
     "output_type": "stream",
     "text": [
      "num1 < 7 and num1 < 8\n"
     ]
    }
   ],
   "source": [
    "if num1 < 7 and num1 < 8:\n",
    "    print(\"num1 < 7 and num1 < 8\")"
   ]
  },
  {
   "cell_type": "code",
   "execution_count": 39,
   "metadata": {},
   "outputs": [
    {
     "name": "stdout",
     "output_type": "stream",
     "text": [
      "not (num1 > 7 and num1 < 8)\n"
     ]
    }
   ],
   "source": [
    "if not (num1 > 7 and num1 < 8):\n",
    "    print(\"not (num1 > 7 and num1 < 8)\")"
   ]
  },
  {
   "cell_type": "code",
   "execution_count": 40,
   "metadata": {},
   "outputs": [
    {
     "name": "stdout",
     "output_type": "stream",
     "text": [
      "a= -5.6e-08\n",
      "hello\n",
      "hello\n"
     ]
    }
   ],
   "source": [
    "if num1:  # num1 != 0\n",
    "    print(\"a=\", num1)\n",
    "\n",
    "if not 0:\n",
    "    print(\"hello\")\n",
    "\n",
    "while 1:\n",
    "    print(\"hello\")\n",
    "    break"
   ]
  },
  {
   "cell_type": "code",
   "execution_count": 41,
   "metadata": {},
   "outputs": [
    {
     "name": "stdout",
     "output_type": "stream",
     "text": [
      "bool('False') True\n",
      "bool(False)   False\n"
     ]
    }
   ],
   "source": [
    "print(\"bool('False')\", bool(\"False\"))\n",
    "print(\"bool(False)  \", bool(False))"
   ]
  },
  {
   "cell_type": "code",
   "execution_count": 42,
   "metadata": {},
   "outputs": [],
   "source": [
    "x = None\n",
    "\n",
    "if x is None:\n",
    "    x = \"default\"\n",
    "\n",
    "x = x or \"default\"\n",
    "\n",
    "x = x if x else \"default\""
   ]
  }
 ],
 "metadata": {
  "kernelspec": {
   "display_name": "Python 3",
   "language": "python",
   "name": "python3"
  },
  "language_info": {
   "codemirror_mode": {
    "name": "ipython",
    "version": 3
   },
   "file_extension": ".py",
   "mimetype": "text/x-python",
   "name": "python",
   "nbconvert_exporter": "python",
   "pygments_lexer": "ipython3",
   "version": "3.12.1"
  }
 },
 "nbformat": 4,
 "nbformat_minor": 2
}
