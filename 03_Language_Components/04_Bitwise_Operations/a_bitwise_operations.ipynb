{
 "cells": [
  {
   "cell_type": "code",
   "execution_count": 1,
   "metadata": {},
   "outputs": [
    {
     "name": "stdout",
     "output_type": "stream",
     "text": [
      "num1= 60 0b111100\n",
      "num2= 13 0b1101\n"
     ]
    }
   ],
   "source": [
    "num1 = 60\n",
    "num2 = 13\n",
    "\n",
    "print(\"num1=\", num1, bin(num1)) \n",
    "print(\"num2=\", num2, bin(num2))"
   ]
  },
  {
   "cell_type": "code",
   "execution_count": 2,
   "metadata": {},
   "outputs": [
    {
     "name": "stdout",
     "output_type": "stream",
     "text": [
      "Line 1 - Value of num3 is  12\n"
     ]
    }
   ],
   "source": [
    "num3 = num1 & num2  # 12 = 0000 1100\n",
    "print(\"Line 1 - Value of num3 is \", num3)"
   ]
  },
  {
   "cell_type": "code",
   "execution_count": 3,
   "metadata": {},
   "outputs": [
    {
     "name": "stdout",
     "output_type": "stream",
     "text": [
      "Line 2 - Value of num3 is  61\n"
     ]
    }
   ],
   "source": [
    "num3 = num1 | num2 \n",
    "print(\"Line 2 - Value of num3 is \", num3)"
   ]
  },
  {
   "cell_type": "code",
   "execution_count": 4,
   "metadata": {},
   "outputs": [
    {
     "name": "stdout",
     "output_type": "stream",
     "text": [
      "Line 3 - Value of num3 is  49\n"
     ]
    }
   ],
   "source": [
    "num3 = num1 ^ num2\n",
    "print(\"Line 3 - Value of num3 is \", num3)"
   ]
  },
  {
   "cell_type": "code",
   "execution_count": 5,
   "metadata": {},
   "outputs": [
    {
     "name": "stdout",
     "output_type": "stream",
     "text": [
      "Line 4 - Value of num3 is  -61\n"
     ]
    }
   ],
   "source": [
    "num3 = ~num1\n",
    "print(\"Line 4 - Value of num3 is \", num3)"
   ]
  },
  {
   "cell_type": "code",
   "execution_count": 6,
   "metadata": {},
   "outputs": [
    {
     "name": "stdout",
     "output_type": "stream",
     "text": [
      "Line 5 - Value of num3 is  240\n",
      "Line 6 - Value of num3 is  15\n"
     ]
    }
   ],
   "source": [
    "num3 = num1 << 2 \n",
    "print(\"Line 5 - Value of num3 is \", num3)\n",
    "\n",
    "num3 = num1 >> 2 \n",
    "print(\"Line 6 - Value of num3 is \", num3)"
   ]
  },
  {
   "cell_type": "code",
   "execution_count": 7,
   "metadata": {},
   "outputs": [
    {
     "name": "stdout",
     "output_type": "stream",
     "text": [
      "10 << 1 = 20\n",
      "10 << 2 = 40\n",
      "10 << 3 = 80\n",
      "10 << 4 = 160\n",
      "\n",
      "160 >> 1 = 80\n",
      "160 >> 2 = 40\n",
      "160 >> 3 = 20\n",
      "160 >> 4 = 10\n"
     ]
    }
   ],
   "source": [
    "print(\"10 << 1 =\", 10 << 1)\n",
    "print(\"10 << 2 =\", 10 << 2)\n",
    "print(\"10 << 3 =\", 10 << 3)\n",
    "print(\"10 << 4 =\", 10 << 4)\n",
    "\n",
    "print()\n",
    "print(\"160 >> 1 =\", 160 >> 1)  \n",
    "print(\"160 >> 2 =\", 160 >> 2) \n",
    "print(\"160 >> 3 =\", 160 >> 3) \n",
    "print(\"160 >> 4 =\", 160 >> 4) "
   ]
  }
 ],
 "metadata": {
  "kernelspec": {
   "display_name": "Python 3",
   "language": "python",
   "name": "python3"
  },
  "language_info": {
   "codemirror_mode": {
    "name": "ipython",
    "version": 3
   },
   "file_extension": ".py",
   "mimetype": "text/x-python",
   "name": "python",
   "nbconvert_exporter": "python",
   "pygments_lexer": "ipython3",
   "version": "3.12.1"
  }
 },
 "nbformat": 4,
 "nbformat_minor": 2
}
