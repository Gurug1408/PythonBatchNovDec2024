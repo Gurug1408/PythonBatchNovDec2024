{
 "cells": [
  {
   "cell_type": "code",
   "execution_count": 1,
   "metadata": {},
   "outputs": [
    {
     "name": "stdout",
     "output_type": "stream",
     "text": [
      "P, y, t, h, o, n, \n",
      "1 2 3 2 3 2 3 3 \n",
      "1, 2, 3, 1, ., 1, 2, 3, \n",
      "T, r, u, e, \n",
      "N, o, n, e, "
     ]
    }
   ],
   "source": [
    "# strings\n",
    "for i in \"Python\":\n",
    "    # print(i, end='\\n')\n",
    "    print(i, end=\", \")\n",
    "print()\n",
    "\n",
    "for ch in \"12323233\":\n",
    "    print(ch, end=\" \")\n",
    "print()\n",
    "\n",
    "for each in str(1231.123):\n",
    "    print(each, end=\", \")\n",
    "print()\n",
    "\n",
    "for each in str(True):\n",
    "    print(each, end=\", \")\n",
    "print()\n",
    "\n",
    "for each in \"None\":\n",
    "    print(each, end=\", \")\n",
    "    "
   ]
  },
  {
   "cell_type": "code",
   "execution_count": 2,
   "metadata": {},
   "outputs": [
    {
     "name": "stdout",
     "output_type": "stream",
     "text": [
      "0 P\n",
      "1 y\n",
      "2 t\n",
      "3 h\n",
      "4 o\n",
      "5 n\n"
     ]
    }
   ],
   "source": [
    "loop_count = 0\n",
    "for each_chr in \"Python\":\n",
    "    print(loop_count, each_chr)\n",
    "    loop_count += 1"
   ]
  },
  {
   "cell_type": "code",
   "execution_count": 3,
   "metadata": {},
   "outputs": [
    {
     "name": "stdout",
     "output_type": "stream",
     "text": [
      "P\n",
      "y\n",
      "t\n",
      "h\n",
      "o\n",
      "n\n",
      "(0, 'P') <class 'tuple'>\n",
      "(1, 'y') <class 'tuple'>\n",
      "(2, 't') <class 'tuple'>\n",
      "(3, 'h') <class 'tuple'>\n",
      "(4, 'o') <class 'tuple'>\n",
      "(5, 'n') <class 'tuple'>\n"
     ]
    }
   ],
   "source": [
    "for each_chr in \"Python\":\n",
    "    print(each_chr)\n",
    "\n",
    "for each_pair in enumerate(\"Python\"):\n",
    "    print(each_pair, type(each_pair))"
   ]
  },
  {
   "cell_type": "code",
   "execution_count": 4,
   "metadata": {},
   "outputs": [
    {
     "name": "stdout",
     "output_type": "stream",
     "text": [
      "\n",
      "    type(num1) = <class 'tuple'> num1 = (222, 333)\n",
      "    type(num2) = <class 'int'> num2 = 222\n",
      "    type(num3) = <class 'int'> num3 = 333\n",
      "\n"
     ]
    }
   ],
   "source": [
    "num1 = 222, 333  # Asignment operation\n",
    "num2, num3 = 222, 333  # UNpacking\n",
    "\n",
    "print(\n",
    "    f\"\"\"\n",
    "    {type(num1) = } {num1 = }\n",
    "    {type(num2) = } {num2 = }\n",
    "    {type(num3) = } {num3 = }\n",
    "\"\"\"\n",
    ")"
   ]
  },
  {
   "cell_type": "code",
   "execution_count": 5,
   "metadata": {},
   "outputs": [
    {
     "name": "stdout",
     "output_type": "stream",
     "text": [
      "(0, 'P') <class 'tuple'>\n",
      "(1, 'y') <class 'tuple'>\n",
      "(2, 't') <class 'tuple'>\n",
      "(3, 'h') <class 'tuple'>\n",
      "(4, 'o') <class 'tuple'>\n",
      "(5, 'n') <class 'tuple'>\n"
     ]
    }
   ],
   "source": [
    "for each_pair in enumerate(\"Python\"):\n",
    "    print(each_pair, type(each_pair))"
   ]
  },
  {
   "cell_type": "code",
   "execution_count": 6,
   "metadata": {},
   "outputs": [
    {
     "name": "stdout",
     "output_type": "stream",
     "text": [
      "At position 0, character is P\n",
      "At position 1, character is y\n",
      "At position 2, character is t\n",
      "At position 3, character is h\n",
      "At position 4, character is o\n",
      "At position 5, character is n\n"
     ]
    }
   ],
   "source": [
    "for loop_index, each_chr in enumerate(\"Python\"):\n",
    "    # print(loop_index, each_chr)\n",
    "    print(f\"At position {loop_index}, character is {each_chr}\")"
   ]
  },
  {
   "cell_type": "code",
   "execution_count": 7,
   "metadata": {},
   "outputs": [
    {
     "name": "stdout",
     "output_type": "stream",
     "text": [
      "At position -3, character is P\n",
      "At position -2, character is y\n",
      "At position -1, character is t\n",
      "At position  0, character is h\n",
      "At position  1, character is o\n",
      "At position  2, character is n\n"
     ]
    }
   ],
   "source": [
    "for loop_index, each_chr in enumerate(\"Python\", -3):\n",
    "    print(f\"At position {loop_index:2}, character is {each_chr}\")"
   ]
  },
  {
   "cell_type": "code",
   "execution_count": 8,
   "metadata": {},
   "outputs": [
    {
     "name": "stdout",
     "output_type": "stream",
     "text": [
      "At position 77, character is P\n",
      "At position 78, character is y\n",
      "At position 79, character is t\n",
      "At position 80, character is h\n",
      "At position 81, character is o\n",
      "At position 82, character is n\n"
     ]
    }
   ],
   "source": [
    "for loop_index, each_chr in enumerate(\"Python\", 77):\n",
    "    print(f\"At position {loop_index:2}, character is {each_chr}\")"
   ]
  },
  {
   "cell_type": "code",
   "execution_count": 9,
   "metadata": {},
   "outputs": [
    {
     "name": "stdout",
     "output_type": "stream",
     "text": [
      "11, 22, 33, 44, 55, "
     ]
    }
   ],
   "source": [
    "for each_ele in [11, 22, 33, 44, 55]:\n",
    "    print(each_ele, end=\", \")"
   ]
  },
  {
   "cell_type": "code",
   "execution_count": 10,
   "metadata": {},
   "outputs": [
    {
     "name": "stdout",
     "output_type": "stream",
     "text": [
      "0 ===> 11\n",
      "1 ===> 22\n",
      "2 ===> 33\n",
      "3 ===> 44\n",
      "4 ===> 55\n"
     ]
    }
   ],
   "source": [
    "for each_ele in enumerate([11, 22, 33, 44, 55]):\n",
    "    print(f\"{each_ele[0]} ===> {each_ele[1]}\")"
   ]
  },
  {
   "cell_type": "code",
   "execution_count": 11,
   "metadata": {},
   "outputs": [
    {
     "name": "stdout",
     "output_type": "stream",
     "text": [
      "0 ===> 11\n",
      "1 ===> 22\n",
      "2 ===> 33\n",
      "3 ===> 44\n",
      "4 ===> 55\n"
     ]
    }
   ],
   "source": [
    "for loop_index, each_ele in enumerate([11, 22, 33, 44, 55]):\n",
    "    print(f\"{loop_index} ===> {each_ele}\")"
   ]
  },
  {
   "cell_type": "code",
   "execution_count": 12,
   "metadata": {},
   "outputs": [
    {
     "name": "stdout",
     "output_type": "stream",
     "text": [
      "-50 ===> 11\n",
      "-49 ===> 22\n",
      "-48 ===> 33\n",
      "-47 ===> 44\n",
      "-46 ===> 55\n"
     ]
    }
   ],
   "source": [
    "for loop_index, each_ele in enumerate([11, 22, 33, 44, 55], -50):\n",
    "    print(f\"{loop_index} ===> {each_ele}\")"
   ]
  },
  {
   "cell_type": "code",
   "execution_count": 13,
   "metadata": {},
   "outputs": [
    {
     "name": "stdout",
     "output_type": "stream",
     "text": [
      "Basic For Loop:\n",
      "0 1 2 3 4 "
     ]
    }
   ],
   "source": [
    "# for loop with range\n",
    "print(\"Basic For Loop:\")\n",
    "for num in range(5):\n",
    "    print(num, end=\" \")"
   ]
  },
  {
   "cell_type": "code",
   "execution_count": 14,
   "metadata": {},
   "outputs": [
    {
     "name": "stdout",
     "output_type": "stream",
     "text": [
      "\n",
      "For Loop with Custom Start and Stop:\n",
      "2 3 4 5 6 7 "
     ]
    }
   ],
   "source": [
    "# For loop with start and stop values\n",
    "print(\"\\nFor Loop with Custom Start and Stop:\")\n",
    "for num in range(2, 8):\n",
    "    print(num, end=\" \")"
   ]
  },
  {
   "cell_type": "code",
   "execution_count": 15,
   "metadata": {},
   "outputs": [
    {
     "name": "stdout",
     "output_type": "stream",
     "text": [
      "\n",
      "For Loop with Step Value:\n",
      "0 2 4 6 8 "
     ]
    }
   ],
   "source": [
    "# For loop with a step value\n",
    "print(\"\\nFor Loop with Step Value:\")\n",
    "for num in range(0, 10, 2):\n",
    "    print(num, end=\" \")"
   ]
  },
  {
   "cell_type": "code",
   "execution_count": 16,
   "metadata": {},
   "outputs": [
    {
     "name": "stdout",
     "output_type": "stream",
     "text": [
      "\n",
      "Using Enumerate with Range:\n",
      "Index: 0, Value: 5\n",
      "Index: 1, Value: 6\n",
      "Index: 2, Value: 7\n",
      "Index: 3, Value: 8\n",
      "Index: 4, Value: 9\n"
     ]
    }
   ],
   "source": [
    "# enumerate with range\n",
    "print(\"\\nUsing Enumerate with Range:\")\n",
    "for index, value in enumerate(range(5, 10)):\n",
    "    print(f\"Index: {index}, Value: {value}\")"
   ]
  },
  {
   "cell_type": "code",
   "execution_count": 17,
   "metadata": {},
   "outputs": [
    {
     "name": "stdout",
     "output_type": "stream",
     "text": [
      "\n",
      "Using Enumerate with Custom Start Index:\n",
      "Index: 10, Value: 3\n",
      "Index: 11, Value: 4\n",
      "Index: 12, Value: 5\n",
      "Index: 13, Value: 6\n",
      "Index: 14, Value: 7\n"
     ]
    }
   ],
   "source": [
    "print(\"\\nUsing Enumerate with Custom Start Index:\")\n",
    "for index, value in enumerate(range(3, 8), start=10):\n",
    "    print(f\"Index: {index}, Value: {value}\")"
   ]
  }
 ],
 "metadata": {
  "kernelspec": {
   "display_name": "Python 3",
   "language": "python",
   "name": "python3"
  },
  "language_info": {
   "codemirror_mode": {
    "name": "ipython",
    "version": 3
   },
   "file_extension": ".py",
   "mimetype": "text/x-python",
   "name": "python",
   "nbconvert_exporter": "python",
   "pygments_lexer": "ipython3",
   "version": "3.12.1"
  }
 },
 "nbformat": 4,
 "nbformat_minor": 2
}
