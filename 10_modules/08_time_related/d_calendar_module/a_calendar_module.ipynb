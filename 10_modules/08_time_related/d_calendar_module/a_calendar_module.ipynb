{
 "cells": [
  {
   "cell_type": "code",
   "execution_count": 1,
   "metadata": {},
   "outputs": [],
   "source": [
    "import calendar"
   ]
  },
  {
   "cell_type": "code",
   "execution_count": 2,
   "metadata": {},
   "outputs": [
    {
     "name": "stdout",
     "output_type": "stream",
     "text": [
      "['APRIL', 'AUGUST', 'Calendar', 'DECEMBER', 'Day', 'EPOCH', 'FEBRUARY', 'FRIDAY', 'HTMLCalendar', 'IllegalMonthError', 'IllegalWeekdayError', 'IntEnum', 'JANUARY', 'JULY', 'JUNE', 'LocaleHTMLCalendar', 'LocaleTextCalendar', 'MARCH', 'MAY', 'MONDAY', 'Month', 'NOVEMBER', 'OCTOBER', 'SATURDAY', 'SEPTEMBER', 'SUNDAY', 'THURSDAY', 'TUESDAY', 'TextCalendar', 'WEDNESDAY', '_EPOCH_ORD', '__all__', '__builtins__', '__cached__', '__doc__', '__file__', '__getattr__', '__loader__', '__name__', '__package__', '__spec__', '_colwidth', '_get_default_locale', '_locale', '_localized_day', '_localized_month', '_monthlen', '_nextmonth', '_prevmonth', '_spacing', 'c', 'calendar', 'datetime', 'day_abbr', 'day_name', 'different_locale', 'error', 'firstweekday', 'format', 'formatstring', 'global_enum', 'isleap', 'leapdays', 'main', 'mdays', 'month', 'month_abbr', 'month_name', 'monthcalendar', 'monthrange', 'prcal', 'prmonth', 'prweek', 'repeat', 'setfirstweekday', 'sys', 'timegm', 'warnings', 'week', 'weekday', 'weekheader']\n"
     ]
    }
   ],
   "source": [
    "print(dir(calendar))"
   ]
  },
  {
   "cell_type": "code",
   "execution_count": 3,
   "metadata": {},
   "outputs": [
    {
     "name": "stdout",
     "output_type": "stream",
     "text": [
      "Calendar printing functions\n",
      "\n",
      "Note when comparing these calendars to the ones printed by cal(1): By\n",
      "default, these calendars have Monday as the first day of the week, and\n",
      "Sunday as the last (the European convention). Use setfirstweekday() to\n",
      "set the first day of the week (0=Monday, 6=Sunday).\n"
     ]
    }
   ],
   "source": [
    "print(calendar.__doc__)"
   ]
  },
  {
   "cell_type": "code",
   "execution_count": 4,
   "metadata": {},
   "outputs": [
    {
     "name": "stdout",
     "output_type": "stream",
     "text": [
      " \n",
      "calendar.EPOCH      =1970\n",
      "calendar._EPOCH_ORD =719163\n",
      "\n",
      "calendar.MONDAY     =calendar.MONDAY\n",
      "calendar.TUESDAY    =calendar.TUESDAY\n",
      "calendar.WEDNESDAY  =calendar.WEDNESDAY\n",
      "calendar.THURSDAY   =calendar.THURSDAY\n",
      "calendar.FRIDAY     =calendar.FRIDAY\n",
      "calendar.SATURDAY   =calendar.SATURDAY\n",
      "calendar.SUNDAY     =calendar.SUNDAY\n",
      "\n",
      "calendar.mdays      =[0, 31, 28, 31, 30, 31, 30, 31, 31, 30, 31, 30, 31]\n",
      "\n"
     ]
    }
   ],
   "source": [
    "print(\n",
    "    f\"\"\" \n",
    "{calendar.EPOCH      =}\n",
    "{calendar._EPOCH_ORD =}\n",
    "\n",
    "{calendar.MONDAY     =}\n",
    "{calendar.TUESDAY    =}\n",
    "{calendar.WEDNESDAY  =}\n",
    "{calendar.THURSDAY   =}\n",
    "{calendar.FRIDAY     =}\n",
    "{calendar.SATURDAY   =}\n",
    "{calendar.SUNDAY     =}\n",
    "\n",
    "{calendar.mdays      =}\n",
    "\"\"\"\n",
    ")"
   ]
  },
  {
   "cell_type": "code",
   "execution_count": 5,
   "metadata": {},
   "outputs": [
    {
     "data": {
      "text/plain": [
       "'Mo Tu We Th Fr Sa Su'"
      ]
     },
     "execution_count": 5,
     "metadata": {},
     "output_type": "execute_result"
    }
   ],
   "source": [
    "calendar.weekheader(2)"
   ]
  },
  {
   "cell_type": "code",
   "execution_count": 6,
   "metadata": {},
   "outputs": [
    {
     "name": "stdout",
     "output_type": "stream",
     "text": [
      "0 ==>       \n",
      "1 ==> M T W T F S S\n",
      "2 ==> Mo Tu We Th Fr Sa Su\n",
      "3 ==> Mon Tue Wed Thu Fri Sat Sun\n",
      "4 ==> Mon  Tue  Wed  Thu  Fri  Sat  Sun \n",
      "5 ==>  Mon   Tue   Wed   Thu   Fri   Sat   Sun \n",
      "6 ==>  Mon    Tue    Wed    Thu    Fri    Sat    Sun  \n"
     ]
    }
   ],
   "source": [
    "for i in range(7):\n",
    "    print(i, \"==>\", calendar.weekheader(i))"
   ]
  },
  {
   "cell_type": "code",
   "execution_count": 7,
   "metadata": {},
   "outputs": [],
   "source": [
    "import calendar\n",
    "\n",
    "\n",
    "def get_week_of_day():\n",
    "    given_input = input('Enter the date in \"MM DD YYYY\" format:')\n",
    "    month, day, year = map(int, given_input.split(\" \"))\n",
    "\n",
    "    weeks = (\n",
    "        \"MONDAY\",\n",
    "        \"TUESDAY\",\n",
    "        \"WEDNESDAY\",\n",
    "        \"THURSDAY\",\n",
    "        \"FRIDAY\",\n",
    "        \"SATURDAY\",\n",
    "        \"SUNDAY\",\n",
    "    )\n",
    "    week_no = calendar.weekday(year, month, day)\n",
    "    week_name = weeks[week_no]\n",
    "    return f\"day of week for {given_input} is {week_name}\""
   ]
  },
  {
   "cell_type": "code",
   "execution_count": 8,
   "metadata": {},
   "outputs": [
    {
     "ename": "ValueError",
     "evalue": "not enough values to unpack (expected 3, got 1)",
     "output_type": "error",
     "traceback": [
      "\u001b[0;31m---------------------------------------------------------------------------\u001b[0m",
      "\u001b[0;31mValueError\u001b[0m                                Traceback (most recent call last)",
      "Cell \u001b[0;32mIn[8], line 1\u001b[0m\n\u001b[0;32m----> 1\u001b[0m \u001b[43mget_week_of_day\u001b[49m\u001b[43m(\u001b[49m\u001b[43m)\u001b[49m\n",
      "Cell \u001b[0;32mIn[7], line 6\u001b[0m, in \u001b[0;36mget_week_of_day\u001b[0;34m()\u001b[0m\n\u001b[1;32m      4\u001b[0m \u001b[38;5;28;01mdef\u001b[39;00m \u001b[38;5;21mget_week_of_day\u001b[39m():\n\u001b[1;32m      5\u001b[0m     given_input \u001b[38;5;241m=\u001b[39m \u001b[38;5;28minput\u001b[39m(\u001b[38;5;124m'\u001b[39m\u001b[38;5;124mEnter the date in \u001b[39m\u001b[38;5;124m\"\u001b[39m\u001b[38;5;124mMM DD YYYY\u001b[39m\u001b[38;5;124m\"\u001b[39m\u001b[38;5;124m format:\u001b[39m\u001b[38;5;124m'\u001b[39m)\n\u001b[0;32m----> 6\u001b[0m     month, day, year \u001b[38;5;241m=\u001b[39m \u001b[38;5;28mmap\u001b[39m(\u001b[38;5;28mint\u001b[39m, given_input\u001b[38;5;241m.\u001b[39msplit(\u001b[38;5;124m\"\u001b[39m\u001b[38;5;124m \u001b[39m\u001b[38;5;124m\"\u001b[39m))\n\u001b[1;32m      8\u001b[0m     weeks \u001b[38;5;241m=\u001b[39m (\n\u001b[1;32m      9\u001b[0m         \u001b[38;5;124m\"\u001b[39m\u001b[38;5;124mMONDAY\u001b[39m\u001b[38;5;124m\"\u001b[39m,\n\u001b[1;32m     10\u001b[0m         \u001b[38;5;124m\"\u001b[39m\u001b[38;5;124mTUESDAY\u001b[39m\u001b[38;5;124m\"\u001b[39m,\n\u001b[0;32m   (...)\u001b[0m\n\u001b[1;32m     15\u001b[0m         \u001b[38;5;124m\"\u001b[39m\u001b[38;5;124mSUNDAY\u001b[39m\u001b[38;5;124m\"\u001b[39m,\n\u001b[1;32m     16\u001b[0m     )\n\u001b[1;32m     17\u001b[0m     week_no \u001b[38;5;241m=\u001b[39m calendar\u001b[38;5;241m.\u001b[39mweekday(year, month, day)\n",
      "\u001b[0;31mValueError\u001b[0m: not enough values to unpack (expected 3, got 1)"
     ]
    }
   ],
   "source": [
    "get_week_of_day()"
   ]
  },
  {
   "cell_type": "code",
   "execution_count": 9,
   "metadata": {},
   "outputs": [
    {
     "data": {
      "text/plain": [
       "'day of week for 08 25 2024 is SUNDAY'"
      ]
     },
     "execution_count": 9,
     "metadata": {},
     "output_type": "execute_result"
    }
   ],
   "source": [
    "get_week_of_day()"
   ]
  },
  {
   "cell_type": "code",
   "execution_count": 10,
   "metadata": {},
   "outputs": [
    {
     "data": {
      "text/plain": [
       "'day of week for 11 23 1 is FRIDAY'"
      ]
     },
     "execution_count": 10,
     "metadata": {},
     "output_type": "execute_result"
    }
   ],
   "source": [
    "get_week_of_day()"
   ]
  },
  {
   "cell_type": "code",
   "execution_count": 11,
   "metadata": {},
   "outputs": [
    {
     "data": {
      "text/plain": [
       "'    August 1947\\nMo Tu We Th Fr Sa Su\\n             1  2  3\\n 4  5  6  7  8  9 10\\n11 12 13 14 15 16 17\\n18 19 20 21 22 23 24\\n25 26 27 28 29 30 31\\n'"
      ]
     },
     "execution_count": 11,
     "metadata": {},
     "output_type": "execute_result"
    }
   ],
   "source": [
    "calendar.month(1947, 8)"
   ]
  },
  {
   "cell_type": "code",
   "execution_count": 12,
   "metadata": {},
   "outputs": [
    {
     "name": "stdout",
     "output_type": "stream",
     "text": [
      "    August 1947\n",
      "Mo Tu We Th Fr Sa Su\n",
      "             1  2  3\n",
      " 4  5  6  7  8  9 10\n",
      "11 12 13 14 15 16 17\n",
      "18 19 20 21 22 23 24\n",
      "25 26 27 28 29 30 31\n",
      "\n"
     ]
    }
   ],
   "source": [
    "print(calendar.month(1947, 8))"
   ]
  },
  {
   "cell_type": "code",
   "execution_count": 13,
   "metadata": {},
   "outputs": [
    {
     "name": "stdout",
     "output_type": "stream",
     "text": [
      "    August 2020\n",
      "Mo Tu We Th Fr Sa Su\n",
      "                1  2\n",
      " 3  4  5  6  7  8  9\n",
      "10 11 12 13 14 15 16\n",
      "17 18 19 20 21 22 23\n",
      "24 25 26 27 28 29 30\n",
      "31\n",
      "\n"
     ]
    }
   ],
   "source": [
    "print(calendar.month(2020, 8))"
   ]
  },
  {
   "cell_type": "code",
   "execution_count": 14,
   "metadata": {},
   "outputs": [
    {
     "name": "stdout",
     "output_type": "stream",
     "text": [
      "(calendar.FRIDAY, 31)\n"
     ]
    }
   ],
   "source": [
    "print(calendar.monthrange(1947, 8))"
   ]
  },
  {
   "cell_type": "code",
   "execution_count": 15,
   "metadata": {},
   "outputs": [
    {
     "name": "stdout",
     "output_type": "stream",
     "text": [
      "(calendar.SATURDAY, 31)\n"
     ]
    }
   ],
   "source": [
    "print(calendar.monthrange(2020, 8))"
   ]
  },
  {
   "cell_type": "code",
   "execution_count": 16,
   "metadata": {},
   "outputs": [
    {
     "name": "stdout",
     "output_type": "stream",
     "text": [
      "     March 2020\n",
      "Mo Tu We Th Fr Sa Su\n",
      "                   1\n",
      " 2  3  4  5  6  7  8\n",
      " 9 10 11 12 13 14 15\n",
      "16 17 18 19 20 21 22\n",
      "23 24 25 26 27 28 29\n",
      "30 31\n",
      "\n"
     ]
    }
   ],
   "source": [
    "print(calendar.month(2020, 3))"
   ]
  },
  {
   "cell_type": "code",
   "execution_count": 17,
   "metadata": {},
   "outputs": [
    {
     "name": "stdout",
     "output_type": "stream",
     "text": [
      "(calendar.SUNDAY, 31)\n"
     ]
    }
   ],
   "source": [
    "print(calendar.monthrange(2020, 3))"
   ]
  },
  {
   "cell_type": "code",
   "execution_count": 18,
   "metadata": {},
   "outputs": [
    {
     "name": "stdout",
     "output_type": "stream",
     "text": [
      "[[0, 0, 0, 0, 1, 2, 3], [4, 5, 6, 7, 8, 9, 10], [11, 12, 13, 14, 15, 16, 17], [18, 19, 20, 21, 22, 23, 24], [25, 26, 27, 28, 29, 30, 31]]\n"
     ]
    }
   ],
   "source": [
    "print(calendar.monthcalendar(1947, 8))"
   ]
  },
  {
   "cell_type": "code",
   "execution_count": 19,
   "metadata": {},
   "outputs": [
    {
     "name": "stdout",
     "output_type": "stream",
     "text": [
      "[0, 0, 0, 0, 1, 2, 3]\n",
      "[4, 5, 6, 7, 8, 9, 10]\n",
      "[11, 12, 13, 14, 15, 16, 17]\n",
      "[18, 19, 20, 21, 22, 23, 24]\n",
      "[25, 26, 27, 28, 29, 30, 31]\n"
     ]
    }
   ],
   "source": [
    "for i in calendar.monthcalendar(1947, 8):\n",
    "    print(i)"
   ]
  },
  {
   "cell_type": "code",
   "execution_count": 20,
   "metadata": {},
   "outputs": [
    {
     "name": "stdout",
     "output_type": "stream",
     "text": [
      "Help on method formatyear in module calendar:\n",
      "\n",
      "formatyear(theyear, w=2, l=1, c=6, m=3) method of calendar.TextCalendar instance\n",
      "    Returns a year's calendar as a multi-line string.\n",
      "\n"
     ]
    }
   ],
   "source": [
    "help(calendar.calendar)"
   ]
  },
  {
   "cell_type": "code",
   "execution_count": 21,
   "metadata": {},
   "outputs": [
    {
     "name": "stdout",
     "output_type": "stream",
     "text": [
      "                                      1947\n",
      "\n",
      "      January                       February                       March\n",
      "Mo Tu We Th Fr Sa Su          Mo Tu We Th Fr Sa Su          Mo Tu We Th Fr Sa Su\n",
      "       1  2  3  4  5                          1  2                          1  2\n",
      " 6  7  8  9 10 11 12           3  4  5  6  7  8  9           3  4  5  6  7  8  9\n",
      "13 14 15 16 17 18 19          10 11 12 13 14 15 16          10 11 12 13 14 15 16\n",
      "20 21 22 23 24 25 26          17 18 19 20 21 22 23          17 18 19 20 21 22 23\n",
      "27 28 29 30 31                24 25 26 27 28                24 25 26 27 28 29 30\n",
      "                                                            31\n",
      "\n",
      "       April                          May                           June\n",
      "Mo Tu We Th Fr Sa Su          Mo Tu We Th Fr Sa Su          Mo Tu We Th Fr Sa Su\n",
      "    1  2  3  4  5  6                    1  2  3  4                             1\n",
      " 7  8  9 10 11 12 13           5  6  7  8  9 10 11           2  3  4  5  6  7  8\n",
      "14 15 16 17 18 19 20          12 13 14 15 16 17 18           9 10 11 12 13 14 15\n",
      "21 22 23 24 25 26 27          19 20 21 22 23 24 25          16 17 18 19 20 21 22\n",
      "28 29 30                      26 27 28 29 30 31             23 24 25 26 27 28 29\n",
      "                                                            30\n",
      "\n",
      "        July                         August                      September\n",
      "Mo Tu We Th Fr Sa Su          Mo Tu We Th Fr Sa Su          Mo Tu We Th Fr Sa Su\n",
      "    1  2  3  4  5  6                       1  2  3           1  2  3  4  5  6  7\n",
      " 7  8  9 10 11 12 13           4  5  6  7  8  9 10           8  9 10 11 12 13 14\n",
      "14 15 16 17 18 19 20          11 12 13 14 15 16 17          15 16 17 18 19 20 21\n",
      "21 22 23 24 25 26 27          18 19 20 21 22 23 24          22 23 24 25 26 27 28\n",
      "28 29 30 31                   25 26 27 28 29 30 31          29 30\n",
      "\n",
      "      October                       November                      December\n",
      "Mo Tu We Th Fr Sa Su          Mo Tu We Th Fr Sa Su          Mo Tu We Th Fr Sa Su\n",
      "       1  2  3  4  5                          1  2           1  2  3  4  5  6  7\n",
      " 6  7  8  9 10 11 12           3  4  5  6  7  8  9           8  9 10 11 12 13 14\n",
      "13 14 15 16 17 18 19          10 11 12 13 14 15 16          15 16 17 18 19 20 21\n",
      "20 21 22 23 24 25 26          17 18 19 20 21 22 23          22 23 24 25 26 27 28\n",
      "27 28 29 30 31                24 25 26 27 28 29 30          29 30 31\n",
      "\n"
     ]
    }
   ],
   "source": [
    "print(calendar.calendar(1947, 2, 1, 10))"
   ]
  },
  {
   "cell_type": "code",
   "execution_count": 22,
   "metadata": {},
   "outputs": [
    {
     "ename": "SyntaxError",
     "evalue": "incomplete input (2970897907.py, line 1)",
     "output_type": "error",
     "traceback": [
      "\u001b[0;36m  Cell \u001b[0;32mIn[22], line 1\u001b[0;36m\u001b[0m\n\u001b[0;31m    calendar.firstweekday(\u001b[0m\n\u001b[0m                          ^\u001b[0m\n\u001b[0;31mSyntaxError\u001b[0m\u001b[0;31m:\u001b[0m incomplete input\n"
     ]
    }
   ],
   "source": [
    "calendar.firstweekday("
   ]
  },
  {
   "cell_type": "code",
   "execution_count": 23,
   "metadata": {},
   "outputs": [],
   "source": [
    "calendar.setfirstweekday(4)"
   ]
  },
  {
   "cell_type": "code",
   "execution_count": 24,
   "metadata": {},
   "outputs": [
    {
     "data": {
      "text/plain": [
       "4"
      ]
     },
     "execution_count": 24,
     "metadata": {},
     "output_type": "execute_result"
    }
   ],
   "source": [
    "calendar.firstweekday()"
   ]
  },
  {
   "cell_type": "code",
   "execution_count": 25,
   "metadata": {},
   "outputs": [
    {
     "name": "stdout",
     "output_type": "stream",
     "text": [
      "                                      1947\n",
      "\n",
      "      January                       February                       March\n",
      "Fr Sa Su Mo Tu We Th          Fr Sa Su Mo Tu We Th          Fr Sa Su Mo Tu We Th\n",
      "                1  2              1  2  3  4  5  6              1  2  3  4  5  6\n",
      " 3  4  5  6  7  8  9           7  8  9 10 11 12 13           7  8  9 10 11 12 13\n",
      "10 11 12 13 14 15 16          14 15 16 17 18 19 20          14 15 16 17 18 19 20\n",
      "17 18 19 20 21 22 23          21 22 23 24 25 26 27          21 22 23 24 25 26 27\n",
      "24 25 26 27 28 29 30          28                            28 29 30 31\n",
      "31\n",
      "\n",
      "       April                          May                           June\n",
      "Fr Sa Su Mo Tu We Th          Fr Sa Su Mo Tu We Th          Fr Sa Su Mo Tu We Th\n",
      "             1  2  3                             1                 1  2  3  4  5\n",
      " 4  5  6  7  8  9 10           2  3  4  5  6  7  8           6  7  8  9 10 11 12\n",
      "11 12 13 14 15 16 17           9 10 11 12 13 14 15          13 14 15 16 17 18 19\n",
      "18 19 20 21 22 23 24          16 17 18 19 20 21 22          20 21 22 23 24 25 26\n",
      "25 26 27 28 29 30             23 24 25 26 27 28 29          27 28 29 30\n",
      "                              30 31\n",
      "\n",
      "        July                         August                      September\n",
      "Fr Sa Su Mo Tu We Th          Fr Sa Su Mo Tu We Th          Fr Sa Su Mo Tu We Th\n",
      "             1  2  3           1  2  3  4  5  6  7                    1  2  3  4\n",
      " 4  5  6  7  8  9 10           8  9 10 11 12 13 14           5  6  7  8  9 10 11\n",
      "11 12 13 14 15 16 17          15 16 17 18 19 20 21          12 13 14 15 16 17 18\n",
      "18 19 20 21 22 23 24          22 23 24 25 26 27 28          19 20 21 22 23 24 25\n",
      "25 26 27 28 29 30 31          29 30 31                      26 27 28 29 30\n",
      "\n",
      "      October                       November                      December\n",
      "Fr Sa Su Mo Tu We Th          Fr Sa Su Mo Tu We Th          Fr Sa Su Mo Tu We Th\n",
      "                1  2              1  2  3  4  5  6                    1  2  3  4\n",
      " 3  4  5  6  7  8  9           7  8  9 10 11 12 13           5  6  7  8  9 10 11\n",
      "10 11 12 13 14 15 16          14 15 16 17 18 19 20          12 13 14 15 16 17 18\n",
      "17 18 19 20 21 22 23          21 22 23 24 25 26 27          19 20 21 22 23 24 25\n",
      "24 25 26 27 28 29 30          28 29 30                      26 27 28 29 30 31\n",
      "31\n",
      "\n"
     ]
    }
   ],
   "source": [
    "print(calendar.calendar(1947, 2, 1, 10))"
   ]
  },
  {
   "cell_type": "code",
   "execution_count": 26,
   "metadata": {},
   "outputs": [],
   "source": [
    "c = calendar.TextCalendar()"
   ]
  },
  {
   "cell_type": "code",
   "execution_count": 27,
   "metadata": {},
   "outputs": [
    {
     "name": "stdout",
     "output_type": "stream",
     "text": [
      "    August 1047\n",
      "Mo Tu We Th Fr Sa Su\n",
      "                   1\n",
      " 2  3  4  5  6  7  8\n",
      " 9 10 11 12 13 14 15\n",
      "16 17 18 19 20 21 22\n",
      "23 24 25 26 27 28 29\n",
      "30 31\n",
      "\n"
     ]
    }
   ],
   "source": [
    "print(c.formatmonth(1047, 8))"
   ]
  },
  {
   "cell_type": "code",
   "execution_count": 28,
   "metadata": {},
   "outputs": [
    {
     "name": "stdout",
     "output_type": "stream",
     "text": [
      "        August 1047\n",
      "Mon Tue Wed Thu Fri Sat Sun\n",
      "                          1\n",
      "  2   3   4   5   6   7   8\n",
      "  9  10  11  12  13  14  15\n",
      " 16  17  18  19  20  21  22\n",
      " 23  24  25  26  27  28  29\n",
      " 30  31\n",
      "\n"
     ]
    }
   ],
   "source": [
    "print(c.formatmonth(1047, 8, 3))"
   ]
  },
  {
   "cell_type": "code",
   "execution_count": 29,
   "metadata": {},
   "outputs": [
    {
     "data": {
      "text/plain": [
       "'        August 1047\\nMon Tue Wed Thu Fri Sat Sun\\n                          1\\n  2   3   4   5   6   7   8\\n  9  10  11  12  13  14  15\\n 16  17  18  19  20  21  22\\n 23  24  25  26  27  28  29\\n 30  31\\n'"
      ]
     },
     "execution_count": 29,
     "metadata": {},
     "output_type": "execute_result"
    }
   ],
   "source": [
    "c.formatmonth(1047, 8, 3)"
   ]
  },
  {
   "cell_type": "code",
   "execution_count": 30,
   "metadata": {},
   "outputs": [
    {
     "name": "stdout",
     "output_type": "stream",
     "text": [
      "    August 1947\n",
      "Mo Tu We Th Fr Sa Su\n",
      "             1  2  3\n",
      " 4  5  6  7  8  9 10\n",
      "11 12 13 14 15 16 17\n",
      "18 19 20 21 22 23 24\n",
      "25 26 27 28 29 30 31\n"
     ]
    }
   ],
   "source": [
    "c.prmonth(1947, 8)"
   ]
  },
  {
   "cell_type": "code",
   "execution_count": 31,
   "metadata": {},
   "outputs": [
    {
     "name": "stdout",
     "output_type": "stream",
     "text": [
      "    August 1947\n",
      "Mo Tu We Th Fr Sa Su\n",
      "             1  2  3\n",
      " 4  5  6  7  8  9 10\n",
      "11 12 13 14 15 16 17\n",
      "18 19 20 21 22 23 24\n",
      "25 26 27 28 29 30 31\n",
      "None\n"
     ]
    }
   ],
   "source": [
    "print(c.prmonth(1947, 8))"
   ]
  },
  {
   "cell_type": "code",
   "execution_count": 32,
   "metadata": {},
   "outputs": [
    {
     "name": "stdout",
     "output_type": "stream",
     "text": [
      "    August 1947\n",
      "Su Mo Tu We Th Fr Sa\n",
      "                1  2\n",
      " 3  4  5  6  7  8  9\n",
      "10 11 12 13 14 15 16\n",
      "17 18 19 20 21 22 23\n",
      "24 25 26 27 28 29 30\n",
      "31\n"
     ]
    }
   ],
   "source": [
    "c = calendar.TextCalendar(calendar.SUNDAY)\n",
    "c.prmonth(1947, 8)"
   ]
  },
  {
   "cell_type": "code",
   "execution_count": 33,
   "metadata": {},
   "outputs": [
    {
     "name": "stdout",
     "output_type": "stream",
     "text": [
      "    August 1947\n",
      "Fr Sa Su Mo Tu We Th\n",
      " 1  2  3  4  5  6  7\n",
      " 8  9 10 11 12 13 14\n",
      "15 16 17 18 19 20 21\n",
      "22 23 24 25 26 27 28\n",
      "29 30 31\n"
     ]
    }
   ],
   "source": [
    "c = calendar.TextCalendar(calendar.FRIDAY)\n",
    "c.prmonth(1947, 8)"
   ]
  },
  {
   "cell_type": "code",
   "execution_count": 34,
   "metadata": {},
   "outputs": [
    {
     "name": "stdout",
     "output_type": "stream",
     "text": [
      "af_ZA\n",
      "sq_AL\n",
      "gsw_FR\n",
      "am_ET\n",
      "ar_SA\n",
      "ar_IQ\n",
      "ar_EG\n",
      "ar_LY\n",
      "ar_DZ\n",
      "ar_MA\n",
      "ar_TN\n",
      "ar_OM\n",
      "ar_YE\n",
      "ar_SY\n",
      "ar_JO\n",
      "ar_LB\n",
      "ar_KW\n",
      "ar_AE\n",
      "ar_BH\n",
      "ar_QA\n",
      "hy_AM\n",
      "as_IN\n",
      "az_AZ\n",
      "az_AZ\n",
      "ba_RU\n",
      "eu_ES\n",
      "be_BY\n",
      "bn_IN\n",
      "bs_BA\n",
      "bs_BA\n",
      "br_FR\n",
      "bg_BG\n",
      "ca_ES\n",
      "zh_CHS\n",
      "zh_TW\n",
      "zh_CN\n",
      "zh_HK\n",
      "zh_SG\n",
      "zh_MO\n",
      "zh_CHT\n",
      "co_FR\n",
      "hr_HR\n",
      "hr_BA\n",
      "cs_CZ\n",
      "da_DK\n",
      "gbz_AF\n",
      "div_MV\n",
      "nl_NL\n",
      "nl_BE\n",
      "en_US\n",
      "en_GB\n",
      "en_AU\n",
      "en_CA\n",
      "en_NZ\n",
      "en_IE\n",
      "en_ZA\n",
      "en_JA\n",
      "en_CB\n",
      "en_BZ\n",
      "en_TT\n",
      "en_ZW\n",
      "en_PH\n",
      "en_IN\n",
      "en_MY\n",
      "en_IN\n",
      "et_EE\n",
      "fo_FO\n",
      "fil_PH\n",
      "fi_FI\n",
      "fr_FR\n",
      "fr_BE\n",
      "fr_CA\n",
      "fr_CH\n",
      "fr_LU\n",
      "fr_MC\n",
      "fy_NL\n",
      "gl_ES\n",
      "ka_GE\n",
      "de_DE\n",
      "de_CH\n",
      "de_AT\n",
      "de_LU\n",
      "de_LI\n",
      "el_GR\n",
      "kl_GL\n",
      "gu_IN\n",
      "ha_NG\n",
      "he_IL\n",
      "hi_IN\n",
      "hu_HU\n",
      "is_IS\n",
      "id_ID\n",
      "iu_CA\n",
      "iu_CA\n",
      "ga_IE\n",
      "it_IT\n",
      "it_CH\n",
      "ja_JP\n",
      "kn_IN\n",
      "kk_KZ\n",
      "kh_KH\n",
      "qut_GT\n",
      "rw_RW\n",
      "kok_IN\n",
      "ko_KR\n",
      "ky_KG\n",
      "lo_LA\n",
      "lv_LV\n",
      "lt_LT\n",
      "dsb_DE\n",
      "lb_LU\n",
      "mk_MK\n",
      "ms_MY\n",
      "ms_BN\n",
      "ml_IN\n",
      "mt_MT\n",
      "mi_NZ\n",
      "arn_CL\n",
      "mr_IN\n",
      "moh_CA\n",
      "mn_MN\n",
      "mn_CN\n",
      "ne_NP\n",
      "nb_NO\n",
      "nn_NO\n",
      "oc_FR\n",
      "or_IN\n",
      "ps_AF\n",
      "fa_IR\n",
      "pl_PL\n",
      "pt_BR\n",
      "pt_PT\n",
      "pa_IN\n",
      "quz_BO\n",
      "quz_EC\n",
      "quz_PE\n",
      "ro_RO\n",
      "rm_CH\n",
      "ru_RU\n",
      "smn_FI\n",
      "smj_NO\n",
      "smj_SE\n",
      "se_NO\n",
      "se_SE\n",
      "se_FI\n",
      "sms_FI\n",
      "sma_NO\n",
      "sma_SE\n",
      "sa_IN\n",
      "sr_SP\n",
      "sr_BA\n",
      "sr_SP\n",
      "sr_BA\n",
      "si_LK\n",
      "ns_ZA\n",
      "tn_ZA\n",
      "sk_SK\n",
      "sl_SI\n",
      "es_ES\n",
      "es_MX\n",
      "es_ES\n",
      "es_GT\n",
      "es_CR\n",
      "es_PA\n",
      "es_DO\n",
      "es_VE\n",
      "es_CO\n",
      "es_PE\n",
      "es_AR\n",
      "es_EC\n",
      "es_CL\n",
      "es_UR\n",
      "es_PY\n",
      "es_BO\n",
      "es_SV\n",
      "es_HN\n",
      "es_NI\n",
      "es_PR\n",
      "es_US\n",
      "sw_KE\n",
      "sv_SE\n",
      "sv_FI\n",
      "syr_SY\n",
      "tg_TJ\n",
      "tmz_DZ\n",
      "ta_IN\n",
      "tt_RU\n",
      "te_IN\n",
      "th_TH\n",
      "bo_BT\n",
      "bo_CN\n",
      "tr_TR\n",
      "tk_TM\n",
      "ug_CN\n",
      "uk_UA\n",
      "wen_DE\n",
      "ur_PK\n",
      "ur_IN\n",
      "uz_UZ\n",
      "uz_UZ\n",
      "vi_VN\n",
      "cy_GB\n",
      "wo_SN\n",
      "xh_ZA\n",
      "sah_RU\n",
      "ii_CN\n",
      "yo_NG\n",
      "zu_ZA\n"
     ]
    }
   ],
   "source": [
    "import locale\n",
    "import sys\n",
    "\n",
    "for x in locale.windows_locale.values():\n",
    "    if sys.platform == \"win32\":\n",
    "        print(x.replace(\"_\", \"-\"))\n",
    "    else:\n",
    "        print(x)"
   ]
  },
  {
   "cell_type": "code",
   "execution_count": 35,
   "metadata": {},
   "outputs": [
    {
     "ename": "Error",
     "evalue": "unsupported locale setting",
     "output_type": "error",
     "traceback": [
      "\u001b[0;31m---------------------------------------------------------------------------\u001b[0m",
      "\u001b[0;31mError\u001b[0m                                     Traceback (most recent call last)",
      "Cell \u001b[0;32mIn[35], line 2\u001b[0m\n\u001b[1;32m      1\u001b[0m c \u001b[38;5;241m=\u001b[39m calendar\u001b[38;5;241m.\u001b[39mLocaleTextCalendar(locale\u001b[38;5;241m=\u001b[39m\u001b[38;5;124m\"\u001b[39m\u001b[38;5;124men-US\u001b[39m\u001b[38;5;124m\"\u001b[39m)\n\u001b[0;32m----> 2\u001b[0m \u001b[43mc\u001b[49m\u001b[38;5;241;43m.\u001b[39;49m\u001b[43mprmonth\u001b[49m\u001b[43m(\u001b[49m\u001b[38;5;241;43m1947\u001b[39;49m\u001b[43m,\u001b[49m\u001b[43m \u001b[49m\u001b[38;5;241;43m8\u001b[39;49m\u001b[43m)\u001b[49m\n",
      "File \u001b[0;32m/usr/local/python/3.12.1/lib/python3.12/calendar.py:382\u001b[0m, in \u001b[0;36mTextCalendar.prmonth\u001b[0;34m(self, theyear, themonth, w, l)\u001b[0m\n\u001b[1;32m    378\u001b[0m \u001b[38;5;28;01mdef\u001b[39;00m \u001b[38;5;21mprmonth\u001b[39m(\u001b[38;5;28mself\u001b[39m, theyear, themonth, w\u001b[38;5;241m=\u001b[39m\u001b[38;5;241m0\u001b[39m, l\u001b[38;5;241m=\u001b[39m\u001b[38;5;241m0\u001b[39m):\n\u001b[1;32m    379\u001b[0m \u001b[38;5;250m    \u001b[39m\u001b[38;5;124;03m\"\"\"\u001b[39;00m\n\u001b[1;32m    380\u001b[0m \u001b[38;5;124;03m    Print a month's calendar.\u001b[39;00m\n\u001b[1;32m    381\u001b[0m \u001b[38;5;124;03m    \"\"\"\u001b[39;00m\n\u001b[0;32m--> 382\u001b[0m     \u001b[38;5;28mprint\u001b[39m(\u001b[38;5;28;43mself\u001b[39;49m\u001b[38;5;241;43m.\u001b[39;49m\u001b[43mformatmonth\u001b[49m\u001b[43m(\u001b[49m\u001b[43mtheyear\u001b[49m\u001b[43m,\u001b[49m\u001b[43m \u001b[49m\u001b[43mthemonth\u001b[49m\u001b[43m,\u001b[49m\u001b[43m \u001b[49m\u001b[43mw\u001b[49m\u001b[43m,\u001b[49m\u001b[43m \u001b[49m\u001b[43ml\u001b[49m\u001b[43m)\u001b[49m, end\u001b[38;5;241m=\u001b[39m\u001b[38;5;124m'\u001b[39m\u001b[38;5;124m'\u001b[39m)\n",
      "File \u001b[0;32m/usr/local/python/3.12.1/lib/python3.12/calendar.py:390\u001b[0m, in \u001b[0;36mTextCalendar.formatmonth\u001b[0;34m(self, theyear, themonth, w, l)\u001b[0m\n\u001b[1;32m    388\u001b[0m w \u001b[38;5;241m=\u001b[39m \u001b[38;5;28mmax\u001b[39m(\u001b[38;5;241m2\u001b[39m, w)\n\u001b[1;32m    389\u001b[0m l \u001b[38;5;241m=\u001b[39m \u001b[38;5;28mmax\u001b[39m(\u001b[38;5;241m1\u001b[39m, l)\n\u001b[0;32m--> 390\u001b[0m s \u001b[38;5;241m=\u001b[39m \u001b[38;5;28;43mself\u001b[39;49m\u001b[38;5;241;43m.\u001b[39;49m\u001b[43mformatmonthname\u001b[49m\u001b[43m(\u001b[49m\u001b[43mtheyear\u001b[49m\u001b[43m,\u001b[49m\u001b[43m \u001b[49m\u001b[43mthemonth\u001b[49m\u001b[43m,\u001b[49m\u001b[43m \u001b[49m\u001b[38;5;241;43m7\u001b[39;49m\u001b[43m \u001b[49m\u001b[38;5;241;43m*\u001b[39;49m\u001b[43m \u001b[49m\u001b[43m(\u001b[49m\u001b[43mw\u001b[49m\u001b[43m \u001b[49m\u001b[38;5;241;43m+\u001b[39;49m\u001b[43m \u001b[49m\u001b[38;5;241;43m1\u001b[39;49m\u001b[43m)\u001b[49m\u001b[43m \u001b[49m\u001b[38;5;241;43m-\u001b[39;49m\u001b[43m \u001b[49m\u001b[38;5;241;43m1\u001b[39;49m\u001b[43m)\u001b[49m\n\u001b[1;32m    391\u001b[0m s \u001b[38;5;241m=\u001b[39m s\u001b[38;5;241m.\u001b[39mrstrip()\n\u001b[1;32m    392\u001b[0m s \u001b[38;5;241m+\u001b[39m\u001b[38;5;241m=\u001b[39m \u001b[38;5;124m'\u001b[39m\u001b[38;5;130;01m\\n\u001b[39;00m\u001b[38;5;124m'\u001b[39m \u001b[38;5;241m*\u001b[39m l\n",
      "File \u001b[0;32m/usr/local/python/3.12.1/lib/python3.12/calendar.py:620\u001b[0m, in \u001b[0;36mLocaleTextCalendar.formatmonthname\u001b[0;34m(self, theyear, themonth, width, withyear)\u001b[0m\n\u001b[1;32m    619\u001b[0m \u001b[38;5;28;01mdef\u001b[39;00m \u001b[38;5;21mformatmonthname\u001b[39m(\u001b[38;5;28mself\u001b[39m, theyear, themonth, width, withyear\u001b[38;5;241m=\u001b[39m\u001b[38;5;28;01mTrue\u001b[39;00m):\n\u001b[0;32m--> 620\u001b[0m \u001b[43m    \u001b[49m\u001b[38;5;28;43;01mwith\u001b[39;49;00m\u001b[43m \u001b[49m\u001b[43mdifferent_locale\u001b[49m\u001b[43m(\u001b[49m\u001b[38;5;28;43mself\u001b[39;49m\u001b[38;5;241;43m.\u001b[39;49m\u001b[43mlocale\u001b[49m\u001b[43m)\u001b[49m\u001b[43m:\u001b[49m\n\u001b[1;32m    621\u001b[0m \u001b[43m        \u001b[49m\u001b[38;5;28;43;01mreturn\u001b[39;49;00m\u001b[43m \u001b[49m\u001b[38;5;28;43msuper\u001b[39;49m\u001b[43m(\u001b[49m\u001b[43m)\u001b[49m\u001b[38;5;241;43m.\u001b[39;49m\u001b[43mformatmonthname\u001b[49m\u001b[43m(\u001b[49m\u001b[43mtheyear\u001b[49m\u001b[43m,\u001b[49m\u001b[43m \u001b[49m\u001b[43mthemonth\u001b[49m\u001b[43m,\u001b[49m\u001b[43m \u001b[49m\u001b[43mwidth\u001b[49m\u001b[43m,\u001b[49m\u001b[43m \u001b[49m\u001b[43mwithyear\u001b[49m\u001b[43m)\u001b[49m\n",
      "File \u001b[0;32m/usr/local/python/3.12.1/lib/python3.12/calendar.py:585\u001b[0m, in \u001b[0;36mdifferent_locale.__enter__\u001b[0;34m(self)\u001b[0m\n\u001b[1;32m    583\u001b[0m \u001b[38;5;28;01mdef\u001b[39;00m \u001b[38;5;21m__enter__\u001b[39m(\u001b[38;5;28mself\u001b[39m):\n\u001b[1;32m    584\u001b[0m     \u001b[38;5;28mself\u001b[39m\u001b[38;5;241m.\u001b[39moldlocale \u001b[38;5;241m=\u001b[39m _locale\u001b[38;5;241m.\u001b[39msetlocale(_locale\u001b[38;5;241m.\u001b[39mLC_TIME, \u001b[38;5;28;01mNone\u001b[39;00m)\n\u001b[0;32m--> 585\u001b[0m     \u001b[43m_locale\u001b[49m\u001b[38;5;241;43m.\u001b[39;49m\u001b[43msetlocale\u001b[49m\u001b[43m(\u001b[49m\u001b[43m_locale\u001b[49m\u001b[38;5;241;43m.\u001b[39;49m\u001b[43mLC_TIME\u001b[49m\u001b[43m,\u001b[49m\u001b[43m \u001b[49m\u001b[38;5;28;43mself\u001b[39;49m\u001b[38;5;241;43m.\u001b[39;49m\u001b[43mlocale\u001b[49m\u001b[43m)\u001b[49m\n",
      "File \u001b[0;32m/usr/local/python/3.12.1/lib/python3.12/locale.py:615\u001b[0m, in \u001b[0;36msetlocale\u001b[0;34m(category, locale)\u001b[0m\n\u001b[1;32m    612\u001b[0m \u001b[38;5;28;01mif\u001b[39;00m locale \u001b[38;5;129;01mand\u001b[39;00m \u001b[38;5;129;01mnot\u001b[39;00m \u001b[38;5;28misinstance\u001b[39m(locale, _builtin_str):\n\u001b[1;32m    613\u001b[0m     \u001b[38;5;66;03m# convert to string\u001b[39;00m\n\u001b[1;32m    614\u001b[0m     locale \u001b[38;5;241m=\u001b[39m normalize(_build_localename(locale))\n\u001b[0;32m--> 615\u001b[0m \u001b[38;5;28;01mreturn\u001b[39;00m \u001b[43m_setlocale\u001b[49m\u001b[43m(\u001b[49m\u001b[43mcategory\u001b[49m\u001b[43m,\u001b[49m\u001b[43m \u001b[49m\u001b[43mlocale\u001b[49m\u001b[43m)\u001b[49m\n",
      "\u001b[0;31mError\u001b[0m: unsupported locale setting"
     ]
    }
   ],
   "source": [
    "c = calendar.LocaleTextCalendar(locale=\"en-US\")\n",
    "c.prmonth(1947, 8)"
   ]
  },
  {
   "cell_type": "code",
   "execution_count": 36,
   "metadata": {},
   "outputs": [
    {
     "ename": "Error",
     "evalue": "unsupported locale setting",
     "output_type": "error",
     "traceback": [
      "\u001b[0;31m---------------------------------------------------------------------------\u001b[0m",
      "\u001b[0;31mError\u001b[0m                                     Traceback (most recent call last)",
      "Cell \u001b[0;32mIn[36], line 2\u001b[0m\n\u001b[1;32m      1\u001b[0m c \u001b[38;5;241m=\u001b[39m calendar\u001b[38;5;241m.\u001b[39mLocaleTextCalendar(locale\u001b[38;5;241m=\u001b[39m\u001b[38;5;124m\"\u001b[39m\u001b[38;5;124mug-CN\u001b[39m\u001b[38;5;124m\"\u001b[39m)\n\u001b[0;32m----> 2\u001b[0m \u001b[43mc\u001b[49m\u001b[38;5;241;43m.\u001b[39;49m\u001b[43mprmonth\u001b[49m\u001b[43m(\u001b[49m\u001b[38;5;241;43m1947\u001b[39;49m\u001b[43m,\u001b[49m\u001b[43m \u001b[49m\u001b[38;5;241;43m8\u001b[39;49m\u001b[43m)\u001b[49m\n",
      "File \u001b[0;32m/usr/local/python/3.12.1/lib/python3.12/calendar.py:382\u001b[0m, in \u001b[0;36mTextCalendar.prmonth\u001b[0;34m(self, theyear, themonth, w, l)\u001b[0m\n\u001b[1;32m    378\u001b[0m \u001b[38;5;28;01mdef\u001b[39;00m \u001b[38;5;21mprmonth\u001b[39m(\u001b[38;5;28mself\u001b[39m, theyear, themonth, w\u001b[38;5;241m=\u001b[39m\u001b[38;5;241m0\u001b[39m, l\u001b[38;5;241m=\u001b[39m\u001b[38;5;241m0\u001b[39m):\n\u001b[1;32m    379\u001b[0m \u001b[38;5;250m    \u001b[39m\u001b[38;5;124;03m\"\"\"\u001b[39;00m\n\u001b[1;32m    380\u001b[0m \u001b[38;5;124;03m    Print a month's calendar.\u001b[39;00m\n\u001b[1;32m    381\u001b[0m \u001b[38;5;124;03m    \"\"\"\u001b[39;00m\n\u001b[0;32m--> 382\u001b[0m     \u001b[38;5;28mprint\u001b[39m(\u001b[38;5;28;43mself\u001b[39;49m\u001b[38;5;241;43m.\u001b[39;49m\u001b[43mformatmonth\u001b[49m\u001b[43m(\u001b[49m\u001b[43mtheyear\u001b[49m\u001b[43m,\u001b[49m\u001b[43m \u001b[49m\u001b[43mthemonth\u001b[49m\u001b[43m,\u001b[49m\u001b[43m \u001b[49m\u001b[43mw\u001b[49m\u001b[43m,\u001b[49m\u001b[43m \u001b[49m\u001b[43ml\u001b[49m\u001b[43m)\u001b[49m, end\u001b[38;5;241m=\u001b[39m\u001b[38;5;124m'\u001b[39m\u001b[38;5;124m'\u001b[39m)\n",
      "File \u001b[0;32m/usr/local/python/3.12.1/lib/python3.12/calendar.py:390\u001b[0m, in \u001b[0;36mTextCalendar.formatmonth\u001b[0;34m(self, theyear, themonth, w, l)\u001b[0m\n\u001b[1;32m    388\u001b[0m w \u001b[38;5;241m=\u001b[39m \u001b[38;5;28mmax\u001b[39m(\u001b[38;5;241m2\u001b[39m, w)\n\u001b[1;32m    389\u001b[0m l \u001b[38;5;241m=\u001b[39m \u001b[38;5;28mmax\u001b[39m(\u001b[38;5;241m1\u001b[39m, l)\n\u001b[0;32m--> 390\u001b[0m s \u001b[38;5;241m=\u001b[39m \u001b[38;5;28;43mself\u001b[39;49m\u001b[38;5;241;43m.\u001b[39;49m\u001b[43mformatmonthname\u001b[49m\u001b[43m(\u001b[49m\u001b[43mtheyear\u001b[49m\u001b[43m,\u001b[49m\u001b[43m \u001b[49m\u001b[43mthemonth\u001b[49m\u001b[43m,\u001b[49m\u001b[43m \u001b[49m\u001b[38;5;241;43m7\u001b[39;49m\u001b[43m \u001b[49m\u001b[38;5;241;43m*\u001b[39;49m\u001b[43m \u001b[49m\u001b[43m(\u001b[49m\u001b[43mw\u001b[49m\u001b[43m \u001b[49m\u001b[38;5;241;43m+\u001b[39;49m\u001b[43m \u001b[49m\u001b[38;5;241;43m1\u001b[39;49m\u001b[43m)\u001b[49m\u001b[43m \u001b[49m\u001b[38;5;241;43m-\u001b[39;49m\u001b[43m \u001b[49m\u001b[38;5;241;43m1\u001b[39;49m\u001b[43m)\u001b[49m\n\u001b[1;32m    391\u001b[0m s \u001b[38;5;241m=\u001b[39m s\u001b[38;5;241m.\u001b[39mrstrip()\n\u001b[1;32m    392\u001b[0m s \u001b[38;5;241m+\u001b[39m\u001b[38;5;241m=\u001b[39m \u001b[38;5;124m'\u001b[39m\u001b[38;5;130;01m\\n\u001b[39;00m\u001b[38;5;124m'\u001b[39m \u001b[38;5;241m*\u001b[39m l\n",
      "File \u001b[0;32m/usr/local/python/3.12.1/lib/python3.12/calendar.py:620\u001b[0m, in \u001b[0;36mLocaleTextCalendar.formatmonthname\u001b[0;34m(self, theyear, themonth, width, withyear)\u001b[0m\n\u001b[1;32m    619\u001b[0m \u001b[38;5;28;01mdef\u001b[39;00m \u001b[38;5;21mformatmonthname\u001b[39m(\u001b[38;5;28mself\u001b[39m, theyear, themonth, width, withyear\u001b[38;5;241m=\u001b[39m\u001b[38;5;28;01mTrue\u001b[39;00m):\n\u001b[0;32m--> 620\u001b[0m \u001b[43m    \u001b[49m\u001b[38;5;28;43;01mwith\u001b[39;49;00m\u001b[43m \u001b[49m\u001b[43mdifferent_locale\u001b[49m\u001b[43m(\u001b[49m\u001b[38;5;28;43mself\u001b[39;49m\u001b[38;5;241;43m.\u001b[39;49m\u001b[43mlocale\u001b[49m\u001b[43m)\u001b[49m\u001b[43m:\u001b[49m\n\u001b[1;32m    621\u001b[0m \u001b[43m        \u001b[49m\u001b[38;5;28;43;01mreturn\u001b[39;49;00m\u001b[43m \u001b[49m\u001b[38;5;28;43msuper\u001b[39;49m\u001b[43m(\u001b[49m\u001b[43m)\u001b[49m\u001b[38;5;241;43m.\u001b[39;49m\u001b[43mformatmonthname\u001b[49m\u001b[43m(\u001b[49m\u001b[43mtheyear\u001b[49m\u001b[43m,\u001b[49m\u001b[43m \u001b[49m\u001b[43mthemonth\u001b[49m\u001b[43m,\u001b[49m\u001b[43m \u001b[49m\u001b[43mwidth\u001b[49m\u001b[43m,\u001b[49m\u001b[43m \u001b[49m\u001b[43mwithyear\u001b[49m\u001b[43m)\u001b[49m\n",
      "File \u001b[0;32m/usr/local/python/3.12.1/lib/python3.12/calendar.py:585\u001b[0m, in \u001b[0;36mdifferent_locale.__enter__\u001b[0;34m(self)\u001b[0m\n\u001b[1;32m    583\u001b[0m \u001b[38;5;28;01mdef\u001b[39;00m \u001b[38;5;21m__enter__\u001b[39m(\u001b[38;5;28mself\u001b[39m):\n\u001b[1;32m    584\u001b[0m     \u001b[38;5;28mself\u001b[39m\u001b[38;5;241m.\u001b[39moldlocale \u001b[38;5;241m=\u001b[39m _locale\u001b[38;5;241m.\u001b[39msetlocale(_locale\u001b[38;5;241m.\u001b[39mLC_TIME, \u001b[38;5;28;01mNone\u001b[39;00m)\n\u001b[0;32m--> 585\u001b[0m     \u001b[43m_locale\u001b[49m\u001b[38;5;241;43m.\u001b[39;49m\u001b[43msetlocale\u001b[49m\u001b[43m(\u001b[49m\u001b[43m_locale\u001b[49m\u001b[38;5;241;43m.\u001b[39;49m\u001b[43mLC_TIME\u001b[49m\u001b[43m,\u001b[49m\u001b[43m \u001b[49m\u001b[38;5;28;43mself\u001b[39;49m\u001b[38;5;241;43m.\u001b[39;49m\u001b[43mlocale\u001b[49m\u001b[43m)\u001b[49m\n",
      "File \u001b[0;32m/usr/local/python/3.12.1/lib/python3.12/locale.py:615\u001b[0m, in \u001b[0;36msetlocale\u001b[0;34m(category, locale)\u001b[0m\n\u001b[1;32m    612\u001b[0m \u001b[38;5;28;01mif\u001b[39;00m locale \u001b[38;5;129;01mand\u001b[39;00m \u001b[38;5;129;01mnot\u001b[39;00m \u001b[38;5;28misinstance\u001b[39m(locale, _builtin_str):\n\u001b[1;32m    613\u001b[0m     \u001b[38;5;66;03m# convert to string\u001b[39;00m\n\u001b[1;32m    614\u001b[0m     locale \u001b[38;5;241m=\u001b[39m normalize(_build_localename(locale))\n\u001b[0;32m--> 615\u001b[0m \u001b[38;5;28;01mreturn\u001b[39;00m \u001b[43m_setlocale\u001b[49m\u001b[43m(\u001b[49m\u001b[43mcategory\u001b[49m\u001b[43m,\u001b[49m\u001b[43m \u001b[49m\u001b[43mlocale\u001b[49m\u001b[43m)\u001b[49m\n",
      "\u001b[0;31mError\u001b[0m: unsupported locale setting"
     ]
    }
   ],
   "source": [
    "c = calendar.LocaleTextCalendar(locale=\"ug-CN\")\n",
    "c.prmonth(1947, 8)"
   ]
  }
 ],
 "metadata": {
  "kernelspec": {
   "display_name": "Python 3",
   "language": "python",
   "name": "python3"
  },
  "language_info": {
   "codemirror_mode": {
    "name": "ipython",
    "version": 3
   },
   "file_extension": ".py",
   "mimetype": "text/x-python",
   "name": "python",
   "nbconvert_exporter": "python",
   "pygments_lexer": "ipython3",
   "version": "3.12.1"
  }
 },
 "nbformat": 4,
 "nbformat_minor": 2
}
