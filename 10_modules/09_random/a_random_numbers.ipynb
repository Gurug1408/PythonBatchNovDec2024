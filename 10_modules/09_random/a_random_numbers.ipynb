{
 "cells": [
  {
   "cell_type": "code",
   "execution_count": 1,
   "metadata": {},
   "outputs": [],
   "source": [
    "import random"
   ]
  },
  {
   "cell_type": "code",
   "execution_count": 2,
   "metadata": {},
   "outputs": [
    {
     "data": {
      "text/plain": [
       "['BPF',\n",
       " 'LOG4',\n",
       " 'NV_MAGICCONST',\n",
       " 'RECIP_BPF',\n",
       " 'Random',\n",
       " 'SG_MAGICCONST',\n",
       " 'SystemRandom',\n",
       " 'TWOPI',\n",
       " '_ONE',\n",
       " '_Sequence',\n",
       " '__all__',\n",
       " '__builtins__',\n",
       " '__cached__',\n",
       " '__doc__',\n",
       " '__file__',\n",
       " '__loader__',\n",
       " '__name__',\n",
       " '__package__',\n",
       " '__spec__',\n",
       " '_accumulate',\n",
       " '_acos',\n",
       " '_bisect',\n",
       " '_ceil',\n",
       " '_cos',\n",
       " '_e',\n",
       " '_exp',\n",
       " '_fabs',\n",
       " '_floor',\n",
       " '_index',\n",
       " '_inst',\n",
       " '_isfinite',\n",
       " '_lgamma',\n",
       " '_log',\n",
       " '_log2',\n",
       " '_os',\n",
       " '_pi',\n",
       " '_random',\n",
       " '_repeat',\n",
       " '_sha512',\n",
       " '_sin',\n",
       " '_sqrt',\n",
       " '_test',\n",
       " '_test_generator',\n",
       " '_urandom',\n",
       " '_warn',\n",
       " 'betavariate',\n",
       " 'binomialvariate',\n",
       " 'choice',\n",
       " 'choices',\n",
       " 'expovariate',\n",
       " 'gammavariate',\n",
       " 'gauss',\n",
       " 'getrandbits',\n",
       " 'getstate',\n",
       " 'lognormvariate',\n",
       " 'normalvariate',\n",
       " 'paretovariate',\n",
       " 'randbytes',\n",
       " 'randint',\n",
       " 'random',\n",
       " 'randrange',\n",
       " 'sample',\n",
       " 'seed',\n",
       " 'setstate',\n",
       " 'shuffle',\n",
       " 'triangular',\n",
       " 'uniform',\n",
       " 'vonmisesvariate',\n",
       " 'weibullvariate']"
      ]
     },
     "execution_count": 2,
     "metadata": {},
     "output_type": "execute_result"
    }
   ],
   "source": [
    "dir(random)"
   ]
  },
  {
   "cell_type": "code",
   "execution_count": 3,
   "metadata": {},
   "outputs": [
    {
     "name": "stdout",
     "output_type": "stream",
     "text": [
      "random.random()      : 0.033785652182097614\n"
     ]
    }
   ],
   "source": [
    "print(\"random.random()      :\", random.random())"
   ]
  },
  {
   "cell_type": "code",
   "execution_count": 4,
   "metadata": {},
   "outputs": [
    {
     "name": "stdout",
     "output_type": "stream",
     "text": [
      "random.random() * 100: 48.888410221551425\n",
      "random.random() * 100: 23.984876078481754\n"
     ]
    }
   ],
   "source": [
    "print(\"random.random() * 100:\", random.random() * 100)\n",
    "print(\"random.random() * 100:\", random.random() * 100)"
   ]
  },
  {
   "cell_type": "code",
   "execution_count": 5,
   "metadata": {},
   "outputs": [],
   "source": [
    "random.seed(18485)"
   ]
  },
  {
   "cell_type": "code",
   "execution_count": 6,
   "metadata": {},
   "outputs": [
    {
     "name": "stdout",
     "output_type": "stream",
     "text": [
      "0.6797936184081204\n",
      "0.9122712611873796\n",
      "0.12926723301605425\n"
     ]
    }
   ],
   "source": [
    "print(random.random()) \n",
    "print(random.random()) \n",
    "print(random.random())"
   ]
  },
  {
   "cell_type": "code",
   "execution_count": 7,
   "metadata": {},
   "outputs": [
    {
     "name": "stdout",
     "output_type": "stream",
     "text": [
      "[0.7725766895236029, 0.850635131875668, 0.11481894112205038]\n"
     ]
    }
   ],
   "source": [
    "random.seed(\"slartibartfast\")\n",
    "s = [random.random() for i in range(3)]\n",
    "print(s)"
   ]
  },
  {
   "cell_type": "code",
   "execution_count": 8,
   "metadata": {},
   "outputs": [
    {
     "name": "stdout",
     "output_type": "stream",
     "text": [
      "os.urandom(1024) b'\\xb1\\x06\\xae\\xc2*\\x1c\\x0f!\\x92\\xce\\xfb8\\xeb\"\\xe2H@\\x01G\\xdaYy\\x10}\\x9c\\xefKq\\x81\\xb7Wg\\xe0\\xd8!\\x1dqG[\\xa3\\x84\\x1fk4\\x92\\xbd-\\xff\\xc8:\\xa5\\xa73\\xd0\\x00>\\xaf\\xbd\\xc1\\xd4\\\\Vr\\x8a<\\xd8\\x7f\\xe8\\xcc|4\\xac\\xb1\\x92\\xd0\\x82\\xe4@qFD\\xf9\\xcd\"6\\xd3\\x05\\x90\\x0c\\xcf\\xad3\\xce\\xa4\\xf0\\xaf\\xf4bTS\\x90\\xeejZ\\xebd-\\xa0\\x94n\\x05\\x18\\x82\\xaf\\r\\x123S\\x1b\\xd1\\xce\\xfc\\xfdp\\xa9n.\\xa5\\xf1\\x01\\xaaAP\\x8b\\x82\\x14\\xf4\\xa21\\xf3\\xaa^*\\xf3s\\xd2\\xd7i\\x8d\\xcaZ\\xb4\\x9f\\xe6\\x89\\x90\\xd2i\\xa6\\x11\\x01G\\xb2g\\xc8\\xa6\\xf7~\\xb3\\x1f\\x9a1d\\x8d5\\x17i\\x11\\x9c\\x12c\\xb2b\\xb3 y\\x05K0\\x99|\\x0c\\xb3\\xa1\\x9d\\xf7\\xe5i\\tZ{\\xca\\xf8~\\xed\\x95;\\x0e\\x83,^\\xf0\\xdc\\xa1!\\xc8\\xb70W\\xbfR\\t\\xf8m\\x8f\\xbf\\x0c[NC\\\\_\\x94@\\r\\x9e\\x7f6}\\x0c\\x1e2>^\\xe2|^x\\xcd\\x02\\xbc\\xf9\\x84\\xbfG\\xd8\\x9a\\xe0L\\xa2\\xb4\\xf5\\xaf\\xe0\\x184\\x11b\\x88\\xa1ZH)my\\xf2$\\x93\\x9e/2a\\x16b\\xb5\\xa6\\x0eiv\\x91VF\\x1ad\\xd4\\x89\\xde\\xfa\\xf3+\\xb9gE(x\\xbf\\xecY\\xf7\\xad\\xbaC@\\xa6\\x0eRd\\xeay\\xbd\\x02\\x1c\\xf57\\xde\\x97\\x10*X\\xc61\\xbe\\x80U<\\x85\\x9a\\xb4\\xb7c\\xae\\xb4\\x01\\x87\\x8e\\x80\\x1e\\x84\\xdf\\xf2\\xed\\x9b*\\xd0.p\\xd7-nq\\xcf;\\x08\\xb3\\xc5\\xca\\x04\\xb3b\\xbc\\xa7\\x18\\xc7\\xba\\xd8\\x1e\\xd4\\x04\\x80ds\\xb7B\\x91*\\xea\\x0e\\xb7_oo\\xb1\\xcb\\xac:\\x9a\\x8b\\xce\\x14\\xa9\\x15\\xe3?\\xe8\\xa2<\\xa2\\xe8!\\xe5\\xcdOU\\x92\\x0c\\xf6\\xf8>\\xab\\xbd5\\x1a\\x90~;b\\x072\\t\\x0ep\\xe3\\xce\\xc2\\x0b\\x7f\\x12.\\xf7\\x90\\xc5\\xa5\\x06\\xc4\\x90H\\x1b0\\xdc\\xe4\\xday9FA0 \\x87\\xdeF\\xcdz\\xd3\\xbc\\x05\\x07\\xf3\\xc5]\\x05\\xebx\\x93\\x1c\\x8dl\\x12G\\xb6\\xf1\\x97\\x13\\xe9\\x87\\x11\\x86\\x91\\x91bMOo\\xa1\\xee\\n\\x13_\\x99\\xe4\\x89\\xfb\\x91_0\\xc1\\xc0\\xf9V\\\\\\x12L\\x1dB\\xf8\\xe7\\xf7*\\xab\\xb0\\x8f\\xad\\x1dZ\\'\\xdf4\\xb2\\xc7\\xb9\\xcdVX\\x9bs\"\\xb9j\\xf9X\\xfa\\x81\\xeeZ\\x15\\xc4\\xa1\\x94\\\\t|\\x14(\\x8c\\xac\\xcba\\xba\\x14\\n%\\xa5\\xeaX\\xb04\\x92\\x86T\\x82\\x95\\x108\\xbd\\xf2\\x06\\x90\\x1b\\x16\\x11\\r\\x9d\\xf3\\x822\\x8e\\x83\\x80\\x0e7\\xde\\xdd\\xe2<\\xf8\\xa1\\xcd\\x92[\\x14\\xf2?\\xaf\\xcb\\x89w\\xdety\\xaa\\x17O\\xcb\"\\xa4\\xa5\\x0e\\xbe\\x9bH\\xea\\x15\\xa5\\xbc\\xca2\\x7f\\x01\\t&\\xf4 \\xf5*A\\t\\xd1\\x9f\\xda\"\\xef\\x1bO(\\xf5g\\xe8j!\\x10\\x1f-\\xb8D\\x9d^\\xa6\\xa8\\xf2\\x95\\x0e\\xd0>\\x9c\\xa4\\x10\\xbb\\xc2\\x92\\xb0y\\x81x|\\x83X2\\xa07\\x95\\xf3\\x9c\\xd2~\\xcb \\x17\\xc6\\xaa6\\x83\\xce\\xe4\\x97va\\xe6&\\x842\\x8dUb4\\xe7\\xc5\\xb8\\x10\\x83\\xee\\x8dG\\xb8Tv\\xdby\\x92\\xa2\\xaaB\\xf7\\x8c\\xee|[\\x07kk\\x9c\\xae\\xb12\\x8f\\xa0O\\xbb\\xc2\\xe3X-a\\xaa\\xda\\xcc\\xdf\\xbe]%\\xab\\x1fx\\x92uF\\x121\\x84\\xeb\\x89\\xe5sF\\x17c\\xf5\\xba\\xefc[\\xa3\\x11\\xd5\\xa7\\xf0\\r\\xe3\\x1b\\x1d@\\xfen\\xf4-\\xc1\\x82\\x12?V\\xf0\\xc6\\x87\\xe1d>\\xcc*s\\x05\\x1e\\x17ZQ\\xa2\\xc8x\\xf6\\x8b4\\xda\\xa6\\x19\\xca\\x08P\\x1d\\xf2\\xe6\\x1d\\xf2\\xa2W#\\x94\\x89\\xb3R\\xd1\\x01\\x84\\x9b\\xc6\\xa1\\x91\\x81^\\xf3\\x1am,\\xdf\\xef\\xff\\xde\\x96\\xe4\\xc11\\xe0\\xb9\\xf09\\xcao<gW\\xca\\x91\\xb4\\xe6\\xf7\\x97Kj\\x88\\xf4\\xd5N.y\\x9c(M\\xc2\\x0c\\x07R\\xf8#\\xb8%C\\xcaW1W\\xf5\\xc6Q]\\xd9\\xfeD\\xac\\xd4nF\\xf2\\xd4\\xe0C\\xcc\\r\\xaf\\x08\\x9d\\xe7+\\xd0\\x17\\x83\\xdd_W\\xfav\\xc8\\x05 \\xf4{\\x8bm<\\xf52xn1\\xa3 g\\xb0\\\\\\xbe\\xbcU\\xb0\\xc7<2\\xfbE\\xc5\\xd5\\x03\\x13\\x1d\\xe9\\x99\\x18l\\x17|&\\x123\\xe6ACh\\xb1\\xce\\\\\\x80\\xd5Bf\\x03\\xa2\\x88\\x14\\x07\\xe3\\x82\\x05\\xd0\\xdd\\xb5\\xf6\\xa0@\\xbaep9A\\xe4&y7\\xfb\\x00\\xceOA\\xef\\x07>S\\xe8\\xc5t\\xcb\\x8e\\xf4\\xa4\\xf5\\xcez%\\x00$\\x17\\xa5\\xfe\\xe5\\x11\\x11\\x1f\\xbd;\\xa03'\n"
     ]
    }
   ],
   "source": [
    "import os\n",
    "\n",
    "print(\"os.urandom(1024)\", os.urandom(1024))\n",
    "random.seed(os.urandom(1024))"
   ]
  },
  {
   "cell_type": "code",
   "execution_count": 9,
   "metadata": {},
   "outputs": [
    {
     "name": "stdout",
     "output_type": "stream",
     "text": [
      "0.3315558109469593\n",
      "0.09409339969827546\n",
      "0.9973122922377127\n"
     ]
    }
   ],
   "source": [
    "print(random.random()) \n",
    "print(random.random())  \n",
    "print(random.random())"
   ]
  },
  {
   "cell_type": "code",
   "execution_count": 10,
   "metadata": {},
   "outputs": [
    {
     "name": "stdout",
     "output_type": "stream",
     "text": [
      "25\n"
     ]
    }
   ],
   "source": [
    "print(random.randint(1, 100))"
   ]
  },
  {
   "cell_type": "code",
   "execution_count": 11,
   "metadata": {},
   "outputs": [
    {
     "name": "stdout",
     "output_type": "stream",
     "text": [
      "8.737532505256361\n"
     ]
    }
   ],
   "source": [
    "print(random.uniform(1, 10))"
   ]
  },
  {
   "cell_type": "code",
   "execution_count": 12,
   "metadata": {},
   "outputs": [
    {
     "name": "stdout",
     "output_type": "stream",
     "text": [
      "100\n",
      "85\n",
      "55\n"
     ]
    }
   ],
   "source": [
    "for i in range(3):\n",
    "    print(random.randrange(0, 101, 5))"
   ]
  },
  {
   "cell_type": "code",
   "execution_count": 13,
   "metadata": {},
   "outputs": [
    {
     "name": "stdout",
     "output_type": "stream",
     "text": [
      "[10]\n",
      "[7, 5, 10, 3]\n"
     ]
    }
   ],
   "source": [
    "items = [1, 2, 3, 4, 5, 6, 7, 8, 9, 10]\n",
    "x = random.sample(items, 1)\n",
    "print(x)\n",
    "y = random.sample(items, 4)\n",
    "print(y)"
   ]
  },
  {
   "cell_type": "code",
   "execution_count": 14,
   "metadata": {},
   "outputs": [
    {
     "name": "stdout",
     "output_type": "stream",
     "text": [
      "Vindhya\n",
      "['Vindhya', 'Aplachein', 'Andes']\n",
      "Aplachein\n"
     ]
    }
   ],
   "source": [
    "mountains = [\"Andes\", \"Himalayas\", \"Alphes\", \"Aplachein\", \"Ural\", \"Vindhya\"]\n",
    "\n",
    "x = random.sample(mountains, 1)\n",
    "print(x[0])\n",
    "\n",
    "y = random.sample(mountains, 3)\n",
    "print(y)\n",
    "\n",
    "x = random.choice(mountains)\n",
    "print(x)"
   ]
  },
  {
   "cell_type": "code",
   "execution_count": 15,
   "metadata": {},
   "outputs": [
    {
     "name": "stdout",
     "output_type": "stream",
     "text": [
      "after shuffle [8, 6, 3, 1, 7, 5, 2, 9, 4, 10]\n"
     ]
    }
   ],
   "source": [
    "numbers = [1, 2, 3, 4, 5, 6, 7, 8, 9, 10]\n",
    "random.shuffle(numbers)\n",
    "print(\"after shuffle\", numbers)"
   ]
  },
  {
   "cell_type": "code",
   "execution_count": 16,
   "metadata": {},
   "outputs": [],
   "source": [
    "outcomes = {\n",
    "    \"heads\": 0,\n",
    "    \"tails\": 0,\n",
    "}\n",
    "sides = list(outcomes.keys())"
   ]
  },
  {
   "cell_type": "code",
   "execution_count": 17,
   "metadata": {},
   "outputs": [
    {
     "data": {
      "text/plain": [
       "'heads'"
      ]
     },
     "execution_count": 17,
     "metadata": {},
     "output_type": "execute_result"
    }
   ],
   "source": [
    "random.choice(sides)"
   ]
  },
  {
   "cell_type": "code",
   "execution_count": 18,
   "metadata": {},
   "outputs": [
    {
     "data": {
      "text/plain": [
       "['tails']"
      ]
     },
     "execution_count": 18,
     "metadata": {},
     "output_type": "execute_result"
    }
   ],
   "source": [
    "random.sample(sides, 1)"
   ]
  },
  {
   "cell_type": "code",
   "execution_count": 19,
   "metadata": {},
   "outputs": [
    {
     "name": "stdout",
     "output_type": "stream",
     "text": [
      "In 10000 tosses,\n",
      "\tHeads: 5014\n",
      "\tTails: 4986\n"
     ]
    }
   ],
   "source": [
    "for i in range(10000):\n",
    "    outcome = random.choice(sides)\n",
    "    outcomes[outcome] += 1\n",
    "\n",
    "print(\"In 10000 tosses,\")\n",
    "print(\"\\tHeads:\", outcomes[\"heads\"])\n",
    "print(\"\\tTails:\", outcomes[\"tails\"])"
   ]
  },
  {
   "cell_type": "code",
   "execution_count": 20,
   "metadata": {},
   "outputs": [
    {
     "name": "stdout",
     "output_type": "stream",
     "text": [
      "Jeremy Smith\n",
      "Mike Brighton\n",
      "Avery Jones\n",
      "Tyler Taylor\n",
      "Avery Taylor\n"
     ]
    }
   ],
   "source": [
    "import random\n",
    "\n",
    "\n",
    "def random_name_generator(first, second, count):\n",
    "    _names = []\n",
    "    for _ in range(count):\n",
    "        fst_name = random.choice(first)\n",
    "        lst_name = random.choice(second)\n",
    "        name = f\"{fst_name} {lst_name}\"\n",
    "        _names.append(name)\n",
    "    return _names\n",
    "\n",
    "\n",
    "def random_name_generator(first, second, count):\n",
    "    _names = set()\n",
    "    while len(_names) < count:\n",
    "        fst_name = random.choice(first)\n",
    "        lst_name = random.choice(second)\n",
    "        name = f\"{fst_name} {lst_name}\"\n",
    "        _names.add(name)\n",
    "    return _names\n",
    "\n",
    "\n",
    "first_names = [\"Drew\", \"Mike\", \"Landon\", \"Jeremy\", \"Tyler\", \"Tom\", \"Avery\"]\n",
    "last_names = [\"Smith\", \"Jones\", \"Brighton\", \"Taylor\"]\n",
    "names = random_name_generator(first_names, last_names, 5)\n",
    "print(\"\\n\".join(names))"
   ]
  }
 ],
 "metadata": {
  "kernelspec": {
   "display_name": "Python 3",
   "language": "python",
   "name": "python3"
  },
  "language_info": {
   "codemirror_mode": {
    "name": "ipython",
    "version": 3
   },
   "file_extension": ".py",
   "mimetype": "text/x-python",
   "name": "python",
   "nbconvert_exporter": "python",
   "pygments_lexer": "ipython3",
   "version": "3.12.1"
  }
 },
 "nbformat": 4,
 "nbformat_minor": 2
}
