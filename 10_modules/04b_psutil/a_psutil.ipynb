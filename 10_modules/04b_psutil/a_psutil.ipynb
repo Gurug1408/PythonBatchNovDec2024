{
 "cells": [
  {
   "cell_type": "code",
   "execution_count": 1,
   "metadata": {},
   "outputs": [],
   "source": [
    "import psutil\n",
    "import datetime"
   ]
  },
  {
   "cell_type": "code",
   "execution_count": 2,
   "metadata": {},
   "outputs": [
    {
     "name": "stdout",
     "output_type": "stream",
     "text": [
      "System boot time: 2024-12-26 01:53:27\n"
     ]
    }
   ],
   "source": [
    "boot_time = psutil.boot_time()\n",
    "print(\n",
    "    f\"System boot time: {datetime.datetime.fromtimestamp(boot_time).strftime('%Y-%m-%d %H:%M:%S')}\"\n",
    ")"
   ]
  },
  {
   "cell_type": "code",
   "execution_count": 3,
   "metadata": {},
   "outputs": [
    {
     "name": "stdout",
     "output_type": "stream",
     "text": [
      "CPU usage: 9.9%\n"
     ]
    }
   ],
   "source": [
    "cpu_percent = psutil.cpu_percent()\n",
    "print(f\"CPU usage: {cpu_percent}%\")"
   ]
  },
  {
   "cell_type": "code",
   "execution_count": 4,
   "metadata": {},
   "outputs": [
    {
     "name": "stdout",
     "output_type": "stream",
     "text": [
      "Total memory       : 8314740736\n",
      "Available memory   : 5050847232\n",
      "Memory percent used: 39.3%\n"
     ]
    }
   ],
   "source": [
    "mem_info = psutil.virtual_memory()\n",
    "print(f\"Total memory       : {mem_info.total}\")\n",
    "print(f\"Available memory   : {mem_info.available}\")\n",
    "print(f\"Memory percent used: {mem_info.percent}%\")"
   ]
  },
  {
   "cell_type": "code",
   "execution_count": 5,
   "metadata": {},
   "outputs": [
    {
     "name": "stdout",
     "output_type": "stream",
     "text": [
      "Total disk space       : 33636024320\n",
      "Free disk space        : 20582240256\n",
      "Disk space percent used: 35.5%\n"
     ]
    }
   ],
   "source": [
    "disk_usage = psutil.disk_usage(\"/\")\n",
    "print(f\"Total disk space       : {disk_usage.total}\")\n",
    "print(f\"Free disk space        : {disk_usage.free}\")\n",
    "print(f\"Disk space percent used: {disk_usage.percent}%\")"
   ]
  },
  {
   "cell_type": "code",
   "execution_count": 6,
   "metadata": {},
   "outputs": [
    {
     "name": "stdout",
     "output_type": "stream",
     "text": [
      "Number of processes: 27\n"
     ]
    }
   ],
   "source": [
    "num_processes = len(psutil.pids())\n",
    "print(f\"Number of processes: {num_processes}\")"
   ]
  },
  {
   "cell_type": "code",
   "execution_count": 7,
   "metadata": {},
   "outputs": [
    {
     "name": "stdout",
     "output_type": "stream",
     "text": [
      "Process name       : sh\n",
      "Process status     : sleeping\n",
      "Process memory info: pmem(rss=1572864, vms=2678784, shared=1572864, text=77824, lib=0, data=323584, dirty=0)\n",
      "Process CPU usage: 0.0%\n",
      "Process memory usage: 1572864\n",
      "Process start time: 1735178586.2\n",
      "Process command line: ['/bin/sh']\n",
      "\n",
      "Process name       : sh\n",
      "Process status     : sleeping\n",
      "Process memory info: pmem(rss=1572864, vms=2678784, shared=1572864, text=77824, lib=0, data=323584, dirty=0)\n",
      "Process CPU usage: 0.0%\n",
      "Process memory usage: 1572864\n",
      "Process start time: 1735178586.45\n",
      "Process command line: ['/bin/sh']\n",
      "\n",
      "Process name       : node\n",
      "Process status     : sleeping\n",
      "Process memory info: pmem(rss=58372096, vms=1018109952, shared=41811968, text=29884416, lib=0, data=57806848, dirty=0)\n",
      "Process CPU usage: 0.0%\n",
      "Process memory usage: 58372096\n",
      "Process start time: 1735181983.95\n",
      "Process command line: ['/vscode/bin/linux-x64/fabdb6a30b49f79a7aba0f2ad9df9b399473380f/node', '/vscode/bin/linux-x64/fabdb6a30b49f79a7aba0f2ad9df9b399473380f/extensions/markdown-language-features/dist/serverWorkerMain', '--node-ipc', '--clientProcessId=6140']\n",
      "\n",
      "Process name       : python\n",
      "Process status     : sleeping\n",
      "Process memory info: pmem(rss=87617536, vms=801226752, shared=16515072, text=2752512, lib=0, data=177381376, dirty=0)\n",
      "Process CPU usage: 0.0%\n",
      "Process memory usage: 87617536\n",
      "Process start time: 1735187390.71\n",
      "Process command line: ['/home/codespace/.python/current/bin/python', '-m', 'ipykernel_launcher', '--f=/home/codespace/.local/share/jupyter/runtime/kernel-v3bce161f3db4011e74da4aeafd7de3908fa2fce35.json']\n",
      "\n",
      "Process name       : python\n",
      "Process status     : running\n",
      "Process memory info: pmem(rss=68055040, vms=699289600, shared=16384000, text=2752512, lib=0, data=135966720, dirty=0)\n",
      "Process CPU usage: 0.0%\n",
      "Process memory usage: 68055040\n",
      "Process start time: 1735188351.37\n",
      "Process command line: ['/home/codespace/.python/current/bin/python', '-m', 'ipykernel_launcher', '--f=/home/codespace/.local/share/jupyter/runtime/kernel-v3edd11996b8c7cead43b7b004fdd7eb76f90310d5.json']\n",
      "\n"
     ]
    }
   ],
   "source": [
    "pids_5 = list(psutil.pids())[-5:]\n",
    "\n",
    "for pid in pids_5:\n",
    "    process = psutil.Process(pid)\n",
    "    print(f\"Process name       : {process.name()}\")\n",
    "    print(f\"Process status     : {process.status()}\")\n",
    "    print(f\"Process memory info: {process.memory_info()}\")\n",
    "\n",
    "    cpu_percent = process.cpu_percent(interval=1)\n",
    "    print(f\"Process CPU usage: {cpu_percent}%\")\n",
    "\n",
    "    memory_info = process.memory_info()\n",
    "    print(f\"Process memory usage: {memory_info.rss}\")\n",
    "\n",
    "    start_time = process.create_time()\n",
    "    print(f\"Process start time: {start_time}\")\n",
    "\n",
    "    cmdline = process.cmdline()\n",
    "    print(f\"Process command line: {cmdline}\")\n",
    "    print()"
   ]
  },
  {
   "cell_type": "code",
   "execution_count": 8,
   "metadata": {},
   "outputs": [],
   "source": [
    "process_name = \"python3\"\n",
    "for proc in psutil.process_iter([\"name\"]):\n",
    "    if proc.info[\"name\"] == process_name:\n",
    "        print(f\"PID of {process_name}: {proc.pid}\")"
   ]
  },
  {
   "cell_type": "code",
   "execution_count": 9,
   "metadata": {},
   "outputs": [
    {
     "data": {
      "text/plain": [
       "{'lo': snetio(bytes_sent=476636153, bytes_recv=476636153, packets_sent=288623, packets_recv=288623, errin=0, errout=0, dropin=0, dropout=0),\n",
       " 'eth0': snetio(bytes_sent=386903059, bytes_recv=23585001732, packets_sent=663097, packets_recv=17101966, errin=0, errout=0, dropin=0, dropout=0),\n",
       " 'docker0': snetio(bytes_sent=0, bytes_recv=0, packets_sent=0, packets_recv=0, errin=0, errout=0, dropin=0, dropout=0)}"
      ]
     },
     "execution_count": 9,
     "metadata": {},
     "output_type": "execute_result"
    }
   ],
   "source": [
    "net_io_counters = psutil.net_io_counters(pernic=True)\n",
    "\n",
    "net_io_counters"
   ]
  },
  {
   "cell_type": "code",
   "execution_count": 10,
   "metadata": {},
   "outputs": [
    {
     "name": "stdout",
     "output_type": "stream",
     "text": [
      "\n",
      "Bytes sent  : 476636153\n",
      "Bytes received: 476636153\n",
      "Packets sent  : 288623\n",
      "Packets received: 288623\n",
      "DropIn        : 0\n",
      "DropOut       : 0\n",
      "count         : <built-in method count of snetio object at 0x749ef933d310>\n",
      "\n",
      "Bytes sent  : 386903059\n",
      "Bytes received: 23585001732\n",
      "Packets sent  : 663097\n",
      "Packets received: 17101966\n",
      "DropIn        : 0\n",
      "DropOut       : 0\n",
      "count         : <built-in method count of snetio object at 0x749ef933d380>\n",
      "\n",
      "Bytes sent  : 0\n",
      "Bytes received: 0\n",
      "Packets sent  : 0\n",
      "Packets received: 0\n",
      "DropIn        : 0\n",
      "DropOut       : 0\n",
      "count         : <built-in method count of snetio object at 0x749ef933d3f0>\n"
     ]
    }
   ],
   "source": [
    "for interface in net_io_counters:\n",
    "    print(f\"\\nBytes sent  : {net_io_counters[interface].bytes_sent}\")\n",
    "    print(f\"Bytes received: {net_io_counters[interface].bytes_recv}\")\n",
    "    print(f\"Packets sent  : {net_io_counters[interface].packets_sent}\")\n",
    "    print(f\"Packets received: {net_io_counters[interface].packets_recv}\")\n",
    "    print(f\"DropIn        : {net_io_counters[interface].dropin}\")\n",
    "    print(f\"DropOut       : {net_io_counters[interface].dropout}\")\n",
    "    print(f\"count         : {net_io_counters[interface].count}\")"
   ]
  },
  {
   "cell_type": "code",
   "execution_count": 11,
   "metadata": {},
   "outputs": [
    {
     "name": "stdout",
     "output_type": "stream",
     "text": [
      "Number of connections: 59\n"
     ]
    }
   ],
   "source": [
    "num_connections = len(psutil.net_connections())\n",
    "print(f\"Number of connections: {num_connections}\")"
   ]
  },
  {
   "cell_type": "code",
   "execution_count": 12,
   "metadata": {},
   "outputs": [
    {
     "name": "stdout",
     "output_type": "stream",
     "text": [
      "/\n",
      "/proc\n",
      "/dev\n",
      "/dev/pts\n",
      "/sys\n",
      "/sys/fs/cgroup\n",
      "/dev/mqueue\n",
      "/dev/shm\n",
      "/usr/sbin/docker-init\n",
      "/vscode\n",
      "/workspaces\n",
      "/tmp\n",
      "/.codespaces/bin\n",
      "/etc/resolv.conf\n",
      "/etc/hostname\n",
      "/etc/hosts\n",
      "/workspaces/.codespaces/.persistedshare\n",
      "/workspaces/.codespaces/shared\n",
      "/home/vscode/.minikube\n",
      "/var/lib/docker\n",
      "/sys/kernel/security\n"
     ]
    }
   ],
   "source": [
    "partitions = psutil.disk_partitions(all=True)\n",
    "for partition in partitions:\n",
    "    print(partition.mountpoint)"
   ]
  },
  {
   "cell_type": "code",
   "execution_count": 13,
   "metadata": {},
   "outputs": [
    {
     "name": "stdout",
     "output_type": "stream",
     "text": [
      "Battery information not available\n"
     ]
    }
   ],
   "source": [
    "battery = psutil.sensors_battery()\n",
    "if battery is not None:\n",
    "    plugged = \"Plugged in\" if battery.power_plugged else \"Not plugged in\"\n",
    "    print(f\"Battery level: {battery.percent}% ({plugged})\")\n",
    "else:\n",
    "    print(\"Battery information not available\")"
   ]
  }
 ],
 "metadata": {
  "kernelspec": {
   "display_name": "Python 3",
   "language": "python",
   "name": "python3"
  },
  "language_info": {
   "codemirror_mode": {
    "name": "ipython",
    "version": 3
   },
   "file_extension": ".py",
   "mimetype": "text/x-python",
   "name": "python",
   "nbconvert_exporter": "python",
   "pygments_lexer": "ipython3",
   "version": "3.12.1"
  }
 },
 "nbformat": 4,
 "nbformat_minor": 2
}
