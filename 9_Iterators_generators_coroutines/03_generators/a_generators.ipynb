{
 "cells": [
  {
   "cell_type": "code",
   "execution_count": 1,
   "metadata": {},
   "outputs": [
    {
     "name": "stdout",
     "output_type": "stream",
     "text": [
      "I am in the function\n"
     ]
    },
    {
     "data": {
      "text/plain": [
       "111"
      ]
     },
     "execution_count": 1,
     "metadata": {},
     "output_type": "execute_result"
    }
   ],
   "source": [
    "def myfunc():\n",
    "    print('I am in the function')\n",
    "    return 111\n",
    "    print('I am with 222')\n",
    "    return 222\n",
    "\n",
    "myfunc()"
   ]
  },
  {
   "cell_type": "code",
   "execution_count": 2,
   "metadata": {},
   "outputs": [
    {
     "name": "stdout",
     "output_type": "stream",
     "text": [
      "I am in the function\n"
     ]
    },
    {
     "data": {
      "text/plain": [
       "'even'"
      ]
     },
     "execution_count": 2,
     "metadata": {},
     "output_type": "execute_result"
    }
   ],
   "source": [
    "def is_even(n):\n",
    "    print('I am in the function')\n",
    "    if n % 2 == 0:\n",
    "        return 'even'\n",
    "    else:\n",
    "        return 'odd'\n",
    "\n",
    "is_even(10)"
   ]
  },
  {
   "cell_type": "code",
   "execution_count": 3,
   "metadata": {},
   "outputs": [
    {
     "name": "stdout",
     "output_type": "stream",
     "text": [
      "<class 'NoneType'> None\n"
     ]
    }
   ],
   "source": [
    "def my_generator():\n",
    "    return\n",
    "\n",
    "result = my_generator()\n",
    "print(type(result), result)"
   ]
  },
  {
   "cell_type": "code",
   "execution_count": 4,
   "metadata": {},
   "outputs": [
    {
     "name": "stdout",
     "output_type": "stream",
     "text": [
      "<class 'generator'> <generator object my_generator at 0x72d40835eb90>\n"
     ]
    }
   ],
   "source": [
    "def my_generator():\n",
    "    yield\n",
    "result = my_generator()\n",
    "print(type(result), result)"
   ]
  },
  {
   "cell_type": "code",
   "execution_count": 5,
   "metadata": {},
   "outputs": [
    {
     "name": "stdout",
     "output_type": "stream",
     "text": [
      "<class 'generator'> <generator object my_generator at 0x72d40835ef00>\n"
     ]
    }
   ],
   "source": [
    "def my_generator():\n",
    "    yield\n",
    "    return\n",
    "result = my_generator()\n",
    "print(type(result), result)"
   ]
  },
  {
   "cell_type": "code",
   "execution_count": 6,
   "metadata": {},
   "outputs": [
    {
     "name": "stdout",
     "output_type": "stream",
     "text": [
      "<class 'generator'> <generator object my_generator at 0x72d40835e4b0>\n"
     ]
    }
   ],
   "source": [
    "def my_generator():\n",
    "    return\n",
    "    yield \n",
    "result = my_generator()\n",
    "print(type(result), result)"
   ]
  },
  {
   "cell_type": "code",
   "execution_count": 7,
   "metadata": {},
   "outputs": [
    {
     "name": "stdout",
     "output_type": "stream",
     "text": [
      "<class 'generator'> <generator object my_generator at 0x72d408130dc0>\n"
     ]
    }
   ],
   "source": [
    "def my_generator():\n",
    "    print(\" I am in the function\")\n",
    "    yield 111\n",
    "    print(\"yielding 222\")\n",
    "    yield 222\n",
    "    print(\"yielding 333\")\n",
    "    yield 333\n",
    "    print(\"yielding 444\")\n",
    "    yield 444\n",
    "    return \"No More value to yield\"\n",
    "\n",
    "result = my_generator()\n",
    "print(type(result), result)"
   ]
  },
  {
   "cell_type": "code",
   "execution_count": 8,
   "metadata": {},
   "outputs": [
    {
     "name": "stdout",
     "output_type": "stream",
     "text": [
      " I am in the function\n"
     ]
    },
    {
     "data": {
      "text/plain": [
       "111"
      ]
     },
     "execution_count": 8,
     "metadata": {},
     "output_type": "execute_result"
    }
   ],
   "source": [
    "next(result)"
   ]
  },
  {
   "cell_type": "code",
   "execution_count": 9,
   "metadata": {},
   "outputs": [
    {
     "name": "stdout",
     "output_type": "stream",
     "text": [
      "yielding 222\n"
     ]
    }
   ],
   "source": [
    "given_value = next(result)"
   ]
  },
  {
   "cell_type": "code",
   "execution_count": 10,
   "metadata": {},
   "outputs": [
    {
     "data": {
      "text/plain": [
       "222"
      ]
     },
     "execution_count": 10,
     "metadata": {},
     "output_type": "execute_result"
    }
   ],
   "source": [
    "given_value"
   ]
  },
  {
   "cell_type": "code",
   "execution_count": 11,
   "metadata": {},
   "outputs": [
    {
     "name": "stdout",
     "output_type": "stream",
     "text": [
      "yielding 333\n"
     ]
    },
    {
     "data": {
      "text/plain": [
       "333"
      ]
     },
     "execution_count": 11,
     "metadata": {},
     "output_type": "execute_result"
    }
   ],
   "source": [
    "result.__next__()"
   ]
  },
  {
   "cell_type": "code",
   "execution_count": 12,
   "metadata": {},
   "outputs": [
    {
     "name": "stdout",
     "output_type": "stream",
     "text": [
      "yielding 444\n"
     ]
    },
    {
     "data": {
      "text/plain": [
       "444"
      ]
     },
     "execution_count": 12,
     "metadata": {},
     "output_type": "execute_result"
    }
   ],
   "source": [
    "result.__next__()"
   ]
  },
  {
   "cell_type": "code",
   "execution_count": 13,
   "metadata": {},
   "outputs": [
    {
     "data": {
      "text/plain": [
       "['__class__',\n",
       " '__del__',\n",
       " '__delattr__',\n",
       " '__dir__',\n",
       " '__doc__',\n",
       " '__eq__',\n",
       " '__format__',\n",
       " '__ge__',\n",
       " '__getattribute__',\n",
       " '__getstate__',\n",
       " '__gt__',\n",
       " '__hash__',\n",
       " '__init__',\n",
       " '__init_subclass__',\n",
       " '__iter__',\n",
       " '__le__',\n",
       " '__lt__',\n",
       " '__name__',\n",
       " '__ne__',\n",
       " '__new__',\n",
       " '__next__',\n",
       " '__qualname__',\n",
       " '__reduce__',\n",
       " '__reduce_ex__',\n",
       " '__repr__',\n",
       " '__setattr__',\n",
       " '__sizeof__',\n",
       " '__str__',\n",
       " '__subclasshook__',\n",
       " 'close',\n",
       " 'gi_code',\n",
       " 'gi_frame',\n",
       " 'gi_running',\n",
       " 'gi_suspended',\n",
       " 'gi_yieldfrom',\n",
       " 'send',\n",
       " 'throw']"
      ]
     },
     "execution_count": 13,
     "metadata": {},
     "output_type": "execute_result"
    }
   ],
   "source": [
    "dir(result)"
   ]
  },
  {
   "cell_type": "code",
   "execution_count": 14,
   "metadata": {},
   "outputs": [
    {
     "name": "stdout",
     "output_type": "stream",
     "text": [
      "f <generator object foo at 0x72d3eb620860>\n"
     ]
    }
   ],
   "source": [
    "def foo():\n",
    "    print(\"Start the function!\")\n",
    "    for i in range(3):\n",
    "        print(\"\\tbefore yield\", i)\n",
    "        return i\n",
    "        yield i\n",
    "        print(\"\\tafter yield\", i)\n",
    "\n",
    "    print(\"end of function \")\n",
    "    \n",
    "f = foo()\n",
    "print(\"f\", f)"
   ]
  },
  {
   "cell_type": "code",
   "execution_count": 15,
   "metadata": {},
   "outputs": [
    {
     "name": "stdout",
     "output_type": "stream",
     "text": [
      "f <generator object foo at 0x72d3eb6206c0>\n"
     ]
    }
   ],
   "source": [
    "def foo():\n",
    "    print(\"Start the function!\")\n",
    "    for i in range(3):\n",
    "        print(\"\\tbefore yield\", i)\n",
    "        yield i\n",
    "        print(\"\\tafter yield\", i)\n",
    "\n",
    "    print(\"end of function \")\n",
    "    \n",
    "f = foo()\n",
    "print(\"f\", f)"
   ]
  },
  {
   "cell_type": "code",
   "execution_count": 16,
   "metadata": {},
   "outputs": [
    {
     "name": "stdout",
     "output_type": "stream",
     "text": [
      "Start the function!\n",
      "\tbefore yield 0\n"
     ]
    },
    {
     "data": {
      "text/plain": [
       "0"
      ]
     },
     "execution_count": 16,
     "metadata": {},
     "output_type": "execute_result"
    }
   ],
   "source": [
    "next(f)"
   ]
  },
  {
   "cell_type": "code",
   "execution_count": 17,
   "metadata": {},
   "outputs": [
    {
     "name": "stdout",
     "output_type": "stream",
     "text": [
      "\tafter yield 0\n",
      "\tbefore yield 1\n"
     ]
    },
    {
     "data": {
      "text/plain": [
       "1"
      ]
     },
     "execution_count": 17,
     "metadata": {},
     "output_type": "execute_result"
    }
   ],
   "source": [
    "next(f)"
   ]
  },
  {
   "cell_type": "code",
   "execution_count": 18,
   "metadata": {},
   "outputs": [
    {
     "name": "stdout",
     "output_type": "stream",
     "text": [
      "\tafter yield 1\n",
      "\tbefore yield 2\n"
     ]
    },
    {
     "data": {
      "text/plain": [
       "2"
      ]
     },
     "execution_count": 18,
     "metadata": {},
     "output_type": "execute_result"
    }
   ],
   "source": [
    "f.__next__()"
   ]
  },
  {
   "cell_type": "code",
   "execution_count": 19,
   "metadata": {},
   "outputs": [
    {
     "name": "stdout",
     "output_type": "stream",
     "text": [
      "\tafter yield 2\n",
      "end of function \n",
      "No more values: \n"
     ]
    }
   ],
   "source": [
    "try:\n",
    "    retrieved_value = next(f)\n",
    "except StopIteration as ex:\n",
    "    print(f'No more values: {ex}')\n",
    "else:\n",
    "    print(f'{retrieved_value = }')"
   ]
  },
  {
   "cell_type": "code",
   "execution_count": 20,
   "metadata": {},
   "outputs": [
    {
     "name": "stdout",
     "output_type": "stream",
     "text": [
      "f <generator object foo at 0x72d3eb620860>\n"
     ]
    }
   ],
   "source": [
    "def foo():\n",
    "    print(\"Start the function!\")\n",
    "    for i in range(3):\n",
    "        print(\"\\tbefore yield\", i)\n",
    "        yield i\n",
    "        print(\"\\tafter yield\", i)\n",
    "\n",
    "    print(\"end of function \")\n",
    "    \n",
    "f = foo()\n",
    "print(\"f\", f)"
   ]
  },
  {
   "cell_type": "code",
   "execution_count": 21,
   "metadata": {},
   "outputs": [
    {
     "name": "stdout",
     "output_type": "stream",
     "text": [
      "Start the function!\n",
      "\tbefore yield 0\n",
      "\t\tretrieved_value = 0\n",
      "\tafter yield 0\n",
      "\tbefore yield 1\n",
      "\t\tretrieved_value = 1\n",
      "\tafter yield 1\n",
      "\tbefore yield 2\n",
      "\t\tretrieved_value = 2\n",
      "\tafter yield 2\n",
      "end of function \n",
      "No more values: \n"
     ]
    }
   ],
   "source": [
    "while True:\n",
    "    try:\n",
    "        retrieved_value = next(f)\n",
    "    except StopIteration as ex:\n",
    "        print(f'No more values: {ex}') \n",
    "        break\n",
    "    else:\n",
    "        print(f'\\t\\t{retrieved_value = }')"
   ]
  },
  {
   "cell_type": "code",
   "execution_count": 22,
   "metadata": {},
   "outputs": [
    {
     "name": "stdout",
     "output_type": "stream",
     "text": [
      "f <generator object foo at 0x72d3eb621490>\n",
      "Start the function!\n",
      "\tbefore yield 0\n",
      "\t\tretrieved_value = 0\n",
      "\tafter yield 0\n",
      "\tbefore yield 1\n",
      "\t\tretrieved_value = 1\n",
      "\tafter yield 1\n",
      "\tbefore yield 2\n",
      "\t\tretrieved_value = 2\n",
      "\tafter yield 2\n",
      "end of function \n",
      "No more values: End of the Sequences\n"
     ]
    }
   ],
   "source": [
    "def foo():\n",
    "    print(\"Start the function!\")\n",
    "    for i in range(3):\n",
    "        print(\"\\tbefore yield\", i)\n",
    "        yield i\n",
    "        print(\"\\tafter yield\", i)\n",
    "\n",
    "    print(\"end of function \")\n",
    "    return \"End of the Sequences\"\n",
    "\n",
    "f = foo()\n",
    "print(\"f\", f)\n",
    "\n",
    "while True:\n",
    "    try:\n",
    "        retrieved_value = next(f)\n",
    "    except StopIteration as ex:\n",
    "        print(f'No more values: {ex}') \n",
    "        break\n",
    "    else:\n",
    "        print(f'\\t\\t{retrieved_value = }')"
   ]
  },
  {
   "cell_type": "code",
   "execution_count": 23,
   "metadata": {},
   "outputs": [
    {
     "name": "stdout",
     "output_type": "stream",
     "text": [
      "f <generator object foo at 0x72d3eb620ba0>\n",
      "Start the function!\n",
      "\tbefore yield 0\n",
      "\t\tretrieved_value = 2\n",
      "\tafter yield 0\n",
      "\tbefore yield 1\n",
      "\t\tretrieved_value = 2\n",
      "\tafter yield 1\n",
      "\tbefore yield 2\n",
      "\t\tretrieved_value = 2\n",
      "\tafter yield 2\n",
      "end of function \n"
     ]
    }
   ],
   "source": [
    "def foo():\n",
    "    print(\"Start the function!\")\n",
    "    for i in range(3):\n",
    "        print(\"\\tbefore yield\", i)\n",
    "        yield i\n",
    "        print(\"\\tafter yield\", i)\n",
    "\n",
    "    print(\"end of function \")\n",
    "    return \"End of the Sequences\"\n",
    "f = foo()\n",
    "print(\"f\", f)\n",
    "\n",
    "for value in f:\n",
    "        print(f'\\t\\t{retrieved_value = }')"
   ]
  },
  {
   "cell_type": "code",
   "execution_count": 24,
   "metadata": {},
   "outputs": [
    {
     "name": "stdout",
     "output_type": "stream",
     "text": [
      "nth_number =[0, 1, 1, 2, 3, 5, 8, 13, 21, 34]\n"
     ]
    }
   ],
   "source": [
    "def fib_series(pos):\n",
    "    \"\"\"\n",
    "        numbers -  0, 1, 1, 2, 3, 5, 8, 13, ...\n",
    "        indexes -  0  1  2  3  4  5  6  7 ...\n",
    "    \"\"\"\n",
    "    fib_nums = []\n",
    "    first, second = 0, 1\n",
    "    for i in range(0, pos):\n",
    "        fib_nums.append(first)\n",
    "        first, second = second, first + second\n",
    "    return fib_nums\n",
    "\n",
    "nth_number = fib_series(10)\n",
    "print(f'{nth_number =}')"
   ]
  },
  {
   "cell_type": "code",
   "execution_count": 25,
   "metadata": {},
   "outputs": [
    {
     "name": "stdout",
     "output_type": "stream",
     "text": [
      "nth_number =<generator object fib_series at 0x72d3ebfbab20>\n"
     ]
    }
   ],
   "source": [
    "def fib_series(pos):\n",
    "    \"\"\"\n",
    "        numbers -  0, 1, 1, 2, 3, 5, 8, 13, ...\n",
    "        indexes -  0  1  2  3  4  5  6  7 ...\n",
    "    \"\"\"\n",
    "    first, second = 0, 1\n",
    "    for i in range(0, pos):\n",
    "        yield first\n",
    "        first, second = second, first + second\n",
    "    return \"End of Sequence\"\n",
    "\n",
    "nth_number = fib_series(10)\n",
    "print(f'{nth_number =}')"
   ]
  },
  {
   "cell_type": "code",
   "execution_count": 26,
   "metadata": {},
   "outputs": [
    {
     "name": "stdout",
     "output_type": "stream",
     "text": [
      "0\n",
      "1\n",
      "1\n",
      "2\n",
      "3\n",
      "5\n",
      "8\n",
      "13\n",
      "21\n",
      "34\n"
     ]
    }
   ],
   "source": [
    "for num in nth_number:\n",
    "    print(num)"
   ]
  },
  {
   "cell_type": "code",
   "execution_count": 27,
   "metadata": {},
   "outputs": [
    {
     "name": "stdout",
     "output_type": "stream",
     "text": [
      "nth_number =<generator object fib_series at 0x72d3ebfbace0>\n"
     ]
    }
   ],
   "source": [
    "def fib_series(pos):\n",
    "    \"\"\"\n",
    "        numbers -  0, 1, 1, 2, 3, 5, 8, 13, ...\n",
    "        indexes -  0  1  2  3  4  5  6  7 ...\n",
    "    \"\"\"\n",
    "    first, second = 0, 1\n",
    "    i = 0\n",
    "    while i < pos:\n",
    "        yield first\n",
    "        first, second = second, first + second\n",
    "        i += 1\n",
    "    return \"End of Sequence\"\n",
    "\n",
    "nth_number = fib_series(10)\n",
    "print(f'{nth_number =}')"
   ]
  },
  {
   "cell_type": "code",
   "execution_count": 28,
   "metadata": {},
   "outputs": [
    {
     "name": "stdout",
     "output_type": "stream",
     "text": [
      "0\n",
      "1\n",
      "1\n",
      "2\n",
      "3\n",
      "5\n",
      "8\n",
      "13\n",
      "21\n",
      "34\n"
     ]
    }
   ],
   "source": [
    "for num in nth_number:\n",
    "    print(num)"
   ]
  },
  {
   "cell_type": "code",
   "execution_count": 29,
   "metadata": {},
   "outputs": [
    {
     "name": "stdout",
     "output_type": "stream",
     "text": [
      "list(ng) = [0, 1, 2, 3, 4, 5, 6, 7, 8, 9]\n"
     ]
    }
   ],
   "source": [
    "def num_generator(n):\n",
    "    for i in range(n):\n",
    "        yield i\n",
    "\n",
    "\n",
    "ng = num_generator(10)\n",
    "print(f\"{list(ng) = }\")"
   ]
  },
  {
   "cell_type": "code",
   "execution_count": 30,
   "metadata": {},
   "outputs": [
    {
     "name": "stdout",
     "output_type": "stream",
     "text": [
      "tuple(sp) =(144, 1156, 3136, 6084, 8100)\n"
     ]
    }
   ],
   "source": [
    "def sequence_parser(mylist):\n",
    "    for ele in mylist:\n",
    "        yield ele ** 2\n",
    "\n",
    "\n",
    "sp = sequence_parser([12, 34, 56, 78, 90])\n",
    "print(f\"{tuple(sp) =}\")"
   ]
  },
  {
   "cell_type": "code",
   "execution_count": 31,
   "metadata": {},
   "outputs": [
    {
     "name": "stdout",
     "output_type": "stream",
     "text": [
      "list(ng) = [0, 1, 2, 3, 4, 5, 6, 7, 8, 9]\n"
     ]
    }
   ],
   "source": [
    "def num_generator(n):\n",
    "    yield from range(n)\n",
    "\n",
    "ng = num_generator(10)\n",
    "print(f\"{list(ng) = }\")"
   ]
  },
  {
   "cell_type": "code",
   "execution_count": 32,
   "metadata": {},
   "outputs": [
    {
     "name": "stdout",
     "output_type": "stream",
     "text": [
      "tuple(sp) =(12, 34, 56, 78, 90)\n"
     ]
    }
   ],
   "source": [
    "def sequence_parser(mylist):\n",
    "\n",
    "    yield from mylist \n",
    "sp = sequence_parser([12, 34, 56, 78, 90])\n",
    "print(f\"{tuple(sp) =}\")"
   ]
  },
  {
   "cell_type": "code",
   "execution_count": 33,
   "metadata": {},
   "outputs": [
    {
     "data": {
      "text/plain": [
       "['6', '12', '18', '24']"
      ]
     },
     "execution_count": 33,
     "metadata": {},
     "output_type": "execute_result"
    }
   ],
   "source": [
    "def myfunc(numbers):\n",
    "    result = []\n",
    "    for num in numbers:\n",
    "        if num % 2 == 0:\n",
    "            result.append(str(num * 3))\n",
    "    return result\n",
    "\n",
    "myfunc([1, 2, 3, 4, 5, 6, 7, 8])"
   ]
  },
  {
   "cell_type": "code",
   "execution_count": 34,
   "metadata": {},
   "outputs": [
    {
     "name": "stdout",
     "output_type": "stream",
     "text": [
      "6\n",
      "12\n",
      "18\n",
      "24\n"
     ]
    }
   ],
   "source": [
    "def myfunc(numbers):\n",
    "    for num in numbers:\n",
    "        if num % 2 == 0:\n",
    "            yield str(num * 3)\n",
    "\n",
    "values = myfunc([1, 2, 3, 4, 5, 6, 7, 8])\n",
    "for value in values:\n",
    "    print(value)"
   ]
  },
  {
   "cell_type": "code",
   "execution_count": 35,
   "metadata": {},
   "outputs": [
    {
     "name": "stdout",
     "output_type": "stream",
     "text": [
      "even_filter - start\n",
      "multiply_by_three - start\n",
      "convert_to_string - start\n",
      "result = ['Number:6', 'Number:12', 'Number:18', 'Number:24']\n"
     ]
    }
   ],
   "source": [
    "def even_filter(nums):\n",
    "    print(\"even_filter - start\")\n",
    "    even_nums = []\n",
    "    for num in nums:\n",
    "        if num % 2 == 0:\n",
    "            even_nums.append(num)\n",
    "    return even_nums\n",
    "\n",
    "\n",
    "def multiply_by_three(nums):\n",
    "    print(\"multiply_by_three - start\")\n",
    "    muls_of_3 = []\n",
    "    for num in nums:\n",
    "        muls_of_3.append(num * 3)\n",
    "\n",
    "    return muls_of_3\n",
    "\n",
    "\n",
    "def convert_to_string(nums):\n",
    "    print(\"convert_to_string - start\")\n",
    "    num_strs = []\n",
    "    for num in nums:\n",
    "        num_strs.append(f\"Number:{num}\")\n",
    "\n",
    "    return num_strs\n",
    "\n",
    "numbers = [1, 2, 3, 4, 5, 6, 7, 8]\n",
    "result = convert_to_string(\n",
    "            multiply_by_three(\n",
    "                    even_filter(numbers)\n",
    "            )\n",
    "        )\n",
    "print(f\"{result = }\")"
   ]
  },
  {
   "cell_type": "code",
   "execution_count": 36,
   "metadata": {},
   "outputs": [
    {
     "name": "stdout",
     "output_type": "stream",
     "text": [
      "multiply_by_three - start\n",
      "even_filter - start\n",
      "convert_to_string - start\n",
      "result = ['Number:6', 'Number:12', 'Number:18', 'Number:24']\n"
     ]
    }
   ],
   "source": [
    "result = convert_to_string(\n",
    "            even_filter(\n",
    "                    multiply_by_three(numbers)\n",
    "            )\n",
    "        )\n",
    "print(f\"{result = }\")"
   ]
  },
  {
   "cell_type": "code",
   "execution_count": null,
   "metadata": {},
   "outputs": [],
   "source": []
  },
  {
   "cell_type": "code",
   "execution_count": 37,
   "metadata": {},
   "outputs": [
    {
     "name": "stdout",
     "output_type": "stream",
     "text": [
      "pipeline = <generator object convert_to_string at 0x72d3eb622260>\n"
     ]
    }
   ],
   "source": [
    "def even_filter(nums):\n",
    "    print(\"even_filter - start\")\n",
    "    for num in nums:\n",
    "        if num % 2 == 0:\n",
    "            yield num\n",
    "\n",
    "\n",
    "def multiply_by_three(nums):\n",
    "    print(\"multiply_by_three - start\")\n",
    "    for num in nums:\n",
    "        yield num * 3\n",
    "\n",
    "\n",
    "def convert_to_string(nums):\n",
    "    print(\"convert_to_string - start\")\n",
    "    for num in nums:\n",
    "        yield f\"Number:{num}\"\n",
    "\n",
    "\n",
    "numbers = [1, 2, 3, 4, 5, 6, 7, 8, 9, 10]\n",
    "pipeline = convert_to_string(\n",
    "            multiply_by_three(\n",
    "                    even_filter(numbers)\n",
    "            )\n",
    "        )\n",
    "print(f\"{pipeline = }\")"
   ]
  },
  {
   "cell_type": "code",
   "execution_count": 38,
   "metadata": {},
   "outputs": [
    {
     "name": "stdout",
     "output_type": "stream",
     "text": [
      "convert_to_string - start\n",
      "multiply_by_three - start\n",
      "even_filter - start\n"
     ]
    },
    {
     "data": {
      "text/plain": [
       "'Number:6'"
      ]
     },
     "execution_count": 38,
     "metadata": {},
     "output_type": "execute_result"
    }
   ],
   "source": [
    "next(pipeline)"
   ]
  },
  {
   "cell_type": "code",
   "execution_count": 39,
   "metadata": {},
   "outputs": [
    {
     "data": {
      "text/plain": [
       "'Number:12'"
      ]
     },
     "execution_count": 39,
     "metadata": {},
     "output_type": "execute_result"
    }
   ],
   "source": [
    "next(pipeline)"
   ]
  },
  {
   "cell_type": "code",
   "execution_count": 40,
   "metadata": {},
   "outputs": [
    {
     "data": {
      "text/plain": [
       "'Number:18'"
      ]
     },
     "execution_count": 40,
     "metadata": {},
     "output_type": "execute_result"
    }
   ],
   "source": [
    "next(pipeline)"
   ]
  },
  {
   "cell_type": "code",
   "execution_count": 41,
   "metadata": {},
   "outputs": [
    {
     "name": "stdout",
     "output_type": "stream",
     "text": [
      "Number:24\n",
      "Number:30\n"
     ]
    }
   ],
   "source": [
    "for each in pipeline:\n",
    "    print(each)"
   ]
  },
  {
   "cell_type": "code",
   "execution_count": 42,
   "metadata": {},
   "outputs": [
    {
     "name": "stdout",
     "output_type": "stream",
     "text": [
      "[0, 1, 2, 3, 4, 5, 6] <class 'list'>\n",
      "{0, 1, 2, 3, 4, 5, 6} <class 'set'>\n",
      "{0: 0, 1: 1, 2: 4, 3: 9, 4: 16, 5: 25, 6: 36} <class 'dict'>\n"
     ]
    }
   ],
   "source": [
    "listCompr = [i for i in range(7)]\n",
    "print(f\"{listCompr} {type(listCompr)}\")\n",
    "\n",
    "setCompr = {i for i in range(7)}\n",
    "print(f\"{setCompr} {type(setCompr)}\")\n",
    "\n",
    "dictCompr = {i: i**2 for i in range(7)}\n",
    "print(f\"{dictCompr} {type(dictCompr)}\")"
   ]
  },
  {
   "cell_type": "code",
   "execution_count": 43,
   "metadata": {},
   "outputs": [
    {
     "name": "stdout",
     "output_type": "stream",
     "text": [
      "<generator object <genexpr> at 0x72d408131240> <class 'generator'>\n"
     ]
    }
   ],
   "source": [
    "genExpr = (i for i in range(7))\n",
    "print(f\"{genExpr} {type(genExpr)}\")"
   ]
  },
  {
   "cell_type": "code",
   "execution_count": 44,
   "metadata": {},
   "outputs": [
    {
     "name": "stdout",
     "output_type": "stream",
     "text": [
      "\n",
      "\n",
      "    sys.getsizeof(listCompr) =120\n",
      "    sys.getsizeof(setCompr) = 728\n",
      "    sys.getsizeof(dictCompr) = 352\n",
      "    sys.getsizeof(genExpr) = 192\n",
      "\n",
      "\n",
      "\n"
     ]
    }
   ],
   "source": [
    "import sys\n",
    "\n",
    "print(\n",
    "    f\"\"\"\n",
    "\n",
    "    {sys.getsizeof(listCompr) =}\n",
    "    {sys.getsizeof(setCompr) = }\n",
    "    {sys.getsizeof(dictCompr) = }\n",
    "    {sys.getsizeof(genExpr) = }\n",
    "\n",
    "\n",
    "\"\"\"\n",
    ")"
   ]
  },
  {
   "cell_type": "code",
   "execution_count": 45,
   "metadata": {},
   "outputs": [
    {
     "name": "stdout",
     "output_type": "stream",
     "text": [
      "<class 'generator'> <generator object <genexpr> at 0x72d4081310c0>\n",
      "0\n",
      "-1\n",
      "-4\n",
      "-9\n",
      "-16\n",
      "-25\n",
      "-36\n",
      "-49\n"
     ]
    }
   ],
   "source": [
    "integers = list(range(8))\n",
    "squared = (i * i for i in integers)\n",
    "negated = (-i for i in squared)\n",
    "\n",
    "print(type(negated), negated)\n",
    "for each in negated:\n",
    "    print(each)"
   ]
  },
  {
   "cell_type": "code",
   "execution_count": 46,
   "metadata": {},
   "outputs": [
    {
     "name": "stdout",
     "output_type": "stream",
     "text": [
      "[0, -1, -4, -9, -16, -25, -36, -49]\n"
     ]
    }
   ],
   "source": [
    "squared = (i * i for i in integers)\n",
    "negated = (-i for i in squared)\n",
    "\n",
    "print(list(negated))"
   ]
  }
 ],
 "metadata": {
  "kernelspec": {
   "display_name": "Python 3",
   "language": "python",
   "name": "python3"
  },
  "language_info": {
   "codemirror_mode": {
    "name": "ipython",
    "version": 3
   },
   "file_extension": ".py",
   "mimetype": "text/x-python",
   "name": "python",
   "nbconvert_exporter": "python",
   "pygments_lexer": "ipython3",
   "version": "3.12.1"
  }
 },
 "nbformat": 4,
 "nbformat_minor": 2
}
