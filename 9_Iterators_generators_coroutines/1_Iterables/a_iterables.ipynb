{
 "cells": [
  {
   "cell_type": "code",
   "execution_count": 1,
   "metadata": {},
   "outputs": [
    {
     "name": "stdout",
     "output_type": "stream",
     "text": [
      "1\n",
      "2\n",
      "3\n",
      "4\n"
     ]
    }
   ],
   "source": [
    "for digit in \"1234\":\n",
    "    print(digit)"
   ]
  },
  {
   "cell_type": "code",
   "execution_count": 2,
   "metadata": {},
   "outputs": [
    {
     "name": "stdout",
     "output_type": "stream",
     "text": [
      "p y t h o n   p r o g r a m m i n g "
     ]
    }
   ],
   "source": [
    "for ch in \"python programming\":\n",
    "    print(ch, end=\" \")"
   ]
  },
  {
   "cell_type": "code",
   "execution_count": 4,
   "metadata": {},
   "outputs": [
    {
     "name": "stdout",
     "output_type": "stream",
     "text": [
      "Collections - Lists  - iterable\n",
      "\t Charan\n",
      "\t python\n",
      "\t someone\n"
     ]
    }
   ],
   "source": [
    "print(\"Collections - Lists  - iterable\")\n",
    "names = [\"Charan\", \"python\", \"someone\"]\n",
    "for each_name in names:\n",
    "    print(\"\\t\", each_name)"
   ]
  },
  {
   "cell_type": "code",
   "execution_count": 5,
   "metadata": {},
   "outputs": [
    {
     "name": "stdout",
     "output_type": "stream",
     "text": [
      "Collections - tuples  - iterable\n",
      "\t charan\n",
      "\t python\n",
      "\t someone\n"
     ]
    }
   ],
   "source": [
    "print(\"Collections - tuples  - iterable\")\n",
    "names = (\"charan\", \"python\", \"someone\")\n",
    "for each_name in names:\n",
    "    print(\"\\t\", each_name)"
   ]
  },
  {
   "cell_type": "code",
   "execution_count": 6,
   "metadata": {},
   "outputs": [
    {
     "name": "stdout",
     "output_type": "stream",
     "text": [
      "Collections - sets  - iterable\n",
      "\t python\n",
      "\t someone\n",
      "\t charan\n"
     ]
    }
   ],
   "source": [
    "print(\"Collections - sets  - iterable\")\n",
    "names = {\"charan\", \"python\", \"someone\"}\n",
    "for each_name in names:\n",
    "    print(\"\\t\", each_name)"
   ]
  },
  {
   "cell_type": "code",
   "execution_count": 7,
   "metadata": {},
   "outputs": [
    {
     "name": "stdout",
     "output_type": "stream",
     "text": [
      "\n",
      "Collections - dictionaries  - iterable\n",
      "\tfirst\n",
      "\tsecond\n",
      "\tthird\n"
     ]
    }
   ],
   "source": [
    "print(\"\\nCollections - dictionaries  - iterable\")\n",
    "names = {\"first\": \"charan\", \"second\": \"python\", \"third\": \"someone\"}\n",
    "for each_name in names:\n",
    "    print(\"\\t\" + each_name)"
   ]
  },
  {
   "cell_type": "code",
   "execution_count": 8,
   "metadata": {},
   "outputs": [
    {
     "name": "stdout",
     "output_type": "stream",
     "text": [
      "\n",
      "keys\n",
      "\tfirst\n",
      "\tsecond\n",
      "\tthird\n"
     ]
    }
   ],
   "source": [
    "print(\"\\nkeys\")\n",
    "for each_name in names.keys():\n",
    "    print(\"\\t\" + each_name)"
   ]
  },
  {
   "cell_type": "code",
   "execution_count": 9,
   "metadata": {},
   "outputs": [
    {
     "name": "stdout",
     "output_type": "stream",
     "text": [
      "\n",
      "values\n",
      "\tcharan\n",
      "\tpython\n",
      "\tsomeone\n"
     ]
    }
   ],
   "source": [
    "print(\"\\nvalues\")\n",
    "for each_name in names.values():\n",
    "    print(\"\\t\" + each_name)"
   ]
  },
  {
   "cell_type": "code",
   "execution_count": 10,
   "metadata": {},
   "outputs": [
    {
     "name": "stdout",
     "output_type": "stream",
     "text": [
      "\n",
      "items\n",
      "\t ('first', 'charan')\n",
      "\t ('second', 'python')\n",
      "\t ('third', 'someone')\n"
     ]
    }
   ],
   "source": [
    "print(\"\\nitems\")\n",
    "for each_name in names.items():\n",
    "    print(\"\\t\", each_name)"
   ]
  },
  {
   "cell_type": "code",
   "execution_count": 1,
   "metadata": {},
   "outputs": [
    {
     "ename": "NameError",
     "evalue": "name 'names' is not defined",
     "output_type": "error",
     "traceback": [
      "\u001b[0;31m---------------------------------------------------------------------------\u001b[0m",
      "\u001b[0;31mNameError\u001b[0m                                 Traceback (most recent call last)",
      "Cell \u001b[0;32mIn[1], line 1\u001b[0m\n\u001b[0;32m----> 1\u001b[0m \u001b[38;5;28;01mfor\u001b[39;00m each_key, each_val \u001b[38;5;129;01min\u001b[39;00m \u001b[43mnames\u001b[49m\u001b[38;5;241m.\u001b[39mitems():\n\u001b[1;32m      2\u001b[0m     \u001b[38;5;28mprint\u001b[39m(\u001b[38;5;124m\"\u001b[39m\u001b[38;5;130;01m\\t\u001b[39;00m\u001b[38;5;124m\"\u001b[39m, each_key, \u001b[38;5;124m\"\u001b[39m\u001b[38;5;124m====>\u001b[39m\u001b[38;5;124m\"\u001b[39m, each_val)\n",
      "\u001b[0;31mNameError\u001b[0m: name 'names' is not defined"
     ]
    }
   ],
   "source": [
    "for each_key, each_val in names.items():\n",
    "    print(\"\\t\", each_key, \"====>\", each_val)"
   ]
  },
  {
   "cell_type": "code",
   "execution_count": 2,
   "metadata": {},
   "outputs": [
    {
     "name": "stdout",
     "output_type": "stream",
     "text": [
      "\n",
      "items\n"
     ]
    },
    {
     "ename": "NameError",
     "evalue": "name 'names' is not defined",
     "output_type": "error",
     "traceback": [
      "\u001b[0;31m---------------------------------------------------------------------------\u001b[0m",
      "\u001b[0;31mNameError\u001b[0m                                 Traceback (most recent call last)",
      "Cell \u001b[0;32mIn[2], line 2\u001b[0m\n\u001b[1;32m      1\u001b[0m \u001b[38;5;28mprint\u001b[39m(\u001b[38;5;124m\"\u001b[39m\u001b[38;5;130;01m\\n\u001b[39;00m\u001b[38;5;124mitems\u001b[39m\u001b[38;5;124m\"\u001b[39m)\n\u001b[0;32m----> 2\u001b[0m \u001b[38;5;28;01mfor\u001b[39;00m each_key, each_val \u001b[38;5;129;01min\u001b[39;00m \u001b[43mnames\u001b[49m\u001b[38;5;241m.\u001b[39mitems():\n\u001b[1;32m      3\u001b[0m     \u001b[38;5;28mprint\u001b[39m(\u001b[38;5;124m\"\u001b[39m\u001b[38;5;130;01m\\t\u001b[39;00m\u001b[38;5;124m\"\u001b[39m, each_key, \u001b[38;5;124m\"\u001b[39m\u001b[38;5;124m====>\u001b[39m\u001b[38;5;124m\"\u001b[39m, each_val)\n",
      "\u001b[0;31mNameError\u001b[0m: name 'names' is not defined"
     ]
    }
   ],
   "source": [
    "print(\"\\nitems\")\n",
    "for each_key, each_val in names.items():\n",
    "    print(\"\\t\", each_key, \"====>\", each_val)"
   ]
  },
  {
   "cell_type": "code",
   "execution_count": 3,
   "metadata": {},
   "outputs": [
    {
     "name": "stdout",
     "output_type": "stream",
     "text": [
      "12 23 34 50 \n",
      "0 12\n",
      "1 23\n",
      "2 34\n",
      "3 50\n"
     ]
    }
   ],
   "source": [
    "values = [12, 23, 34, 50, ]\n",
    "\n",
    "for num in values:\n",
    "    print(num, end= ' ')\n",
    "print()\n",
    "\n",
    "for index, num in enumerate(values):\n",
    "    print(index, num)"
   ]
  },
  {
   "cell_type": "code",
   "execution_count": 4,
   "metadata": {},
   "outputs": [
    {
     "ename": "NameError",
     "evalue": "name 'names' is not defined",
     "output_type": "error",
     "traceback": [
      "\u001b[0;31m---------------------------------------------------------------------------\u001b[0m",
      "\u001b[0;31mNameError\u001b[0m                                 Traceback (most recent call last)",
      "Cell \u001b[0;32mIn[4], line 1\u001b[0m\n\u001b[0;32m----> 1\u001b[0m \u001b[43mnames\u001b[49m\n",
      "\u001b[0;31mNameError\u001b[0m: name 'names' is not defined"
     ]
    }
   ],
   "source": [
    "names"
   ]
  },
  {
   "cell_type": "code",
   "execution_count": 5,
   "metadata": {},
   "outputs": [
    {
     "ename": "NameError",
     "evalue": "name 'names' is not defined",
     "output_type": "error",
     "traceback": [
      "\u001b[0;31m---------------------------------------------------------------------------\u001b[0m",
      "\u001b[0;31mNameError\u001b[0m                                 Traceback (most recent call last)",
      "Cell \u001b[0;32mIn[5], line 1\u001b[0m\n\u001b[0;32m----> 1\u001b[0m \u001b[38;5;28;01mfor\u001b[39;00m index, key \u001b[38;5;129;01min\u001b[39;00m \u001b[38;5;28menumerate\u001b[39m(\u001b[43mnames\u001b[49m):\n\u001b[1;32m      2\u001b[0m     \u001b[38;5;28mprint\u001b[39m(index, key)\n",
      "\u001b[0;31mNameError\u001b[0m: name 'names' is not defined"
     ]
    }
   ],
   "source": [
    "for index, key in enumerate(names):\n",
    "    print(index, key)"
   ]
  },
  {
   "cell_type": "code",
   "execution_count": 6,
   "metadata": {},
   "outputs": [
    {
     "ename": "NameError",
     "evalue": "name 'names' is not defined",
     "output_type": "error",
     "traceback": [
      "\u001b[0;31m---------------------------------------------------------------------------\u001b[0m",
      "\u001b[0;31mNameError\u001b[0m                                 Traceback (most recent call last)",
      "Cell \u001b[0;32mIn[6], line 1\u001b[0m\n\u001b[0;32m----> 1\u001b[0m \u001b[38;5;28;01mfor\u001b[39;00m index, key \u001b[38;5;129;01min\u001b[39;00m \u001b[38;5;28menumerate\u001b[39m(\u001b[43mnames\u001b[49m\u001b[38;5;241m.\u001b[39mitems()):\n\u001b[1;32m      2\u001b[0m     \u001b[38;5;28mprint\u001b[39m(index, key)\n",
      "\u001b[0;31mNameError\u001b[0m: name 'names' is not defined"
     ]
    }
   ],
   "source": [
    "for index, key in enumerate(names.items()):\n",
    "    print(index, key)"
   ]
  },
  {
   "cell_type": "code",
   "execution_count": 7,
   "metadata": {},
   "outputs": [],
   "source": [
    "names = [\"charan\", \"python\", \"someone\"]"
   ]
  },
  {
   "cell_type": "code",
   "execution_count": 8,
   "metadata": {},
   "outputs": [
    {
     "ename": "AttributeError",
     "evalue": "'list' object has no attribute 'items'",
     "output_type": "error",
     "traceback": [
      "\u001b[0;31m---------------------------------------------------------------------------\u001b[0m",
      "\u001b[0;31mAttributeError\u001b[0m                            Traceback (most recent call last)",
      "Cell \u001b[0;32mIn[8], line 1\u001b[0m\n\u001b[0;32m----> 1\u001b[0m \u001b[38;5;28;01mfor\u001b[39;00m each_key, each_val \u001b[38;5;129;01min\u001b[39;00m \u001b[43mnames\u001b[49m\u001b[38;5;241;43m.\u001b[39;49m\u001b[43mitems\u001b[49m():\n\u001b[1;32m      2\u001b[0m     \u001b[38;5;28mprint\u001b[39m(\u001b[38;5;124m\"\u001b[39m\u001b[38;5;130;01m\\t\u001b[39;00m\u001b[38;5;124m\"\u001b[39m, each_key, \u001b[38;5;124m\"\u001b[39m\u001b[38;5;124m====>\u001b[39m\u001b[38;5;124m\"\u001b[39m, each_val)\n",
      "\u001b[0;31mAttributeError\u001b[0m: 'list' object has no attribute 'items'"
     ]
    }
   ],
   "source": [
    "for each_key, each_val in names.items():\n",
    "    print(\"\\t\", each_key, \"====>\", each_val)"
   ]
  }
 ],
 "metadata": {
  "kernelspec": {
   "display_name": "Python 3",
   "language": "python",
   "name": "python3"
  },
  "language_info": {
   "codemirror_mode": {
    "name": "ipython",
    "version": 3
   },
   "file_extension": ".py",
   "mimetype": "text/x-python",
   "name": "python",
   "nbconvert_exporter": "python",
   "pygments_lexer": "ipython3",
   "version": "3.12.1"
  }
 },
 "nbformat": 4,
 "nbformat_minor": 2
}
