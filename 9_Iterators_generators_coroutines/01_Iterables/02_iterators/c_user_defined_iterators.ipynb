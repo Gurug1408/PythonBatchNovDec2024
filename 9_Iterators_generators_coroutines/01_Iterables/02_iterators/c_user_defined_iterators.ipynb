{
 "cells": [
  {
   "cell_type": "code",
   "execution_count": 1,
   "metadata": {},
   "outputs": [
    {
     "name": "stdout",
     "output_type": "stream",
     "text": [
      "alpha       : <class 'list'> ['a', 'e', 'i', 'o', 'u']\n",
      "len(alpha)  : 5\n"
     ]
    }
   ],
   "source": [
    "alpha = [\"a\", \"e\", \"i\", \"o\", \"u\"]\n",
    "print(f\"alpha       : {type(alpha)} {alpha}\")\n",
    "print(f\"len(alpha)  : {len(alpha)}\")"
   ]
  },
  {
   "cell_type": "code",
   "execution_count": 2,
   "metadata": {},
   "outputs": [
    {
     "name": "stdout",
     "output_type": "stream",
     "text": [
      "alpha[2]    : i\n",
      "alpha[2:5]  : ['i', 'o', 'u']\n"
     ]
    }
   ],
   "source": [
    "print(f\"alpha[2]    : {alpha[2]}\")\n",
    "print(f\"alpha[2:5]  : {alpha[2:5]}\")"
   ]
  },
  {
   "cell_type": "code",
   "execution_count": 3,
   "metadata": {},
   "outputs": [
    {
     "name": "stdout",
     "output_type": "stream",
     "text": [
      "alpha_it       : <class 'list_iterator'> <list_iterator object at 0x7d46a9b6c6d0>\n"
     ]
    }
   ],
   "source": [
    "alpha_it = iter(alpha)\n",
    "print(f\"alpha_it       : {type(alpha_it)} {alpha_it}\")"
   ]
  },
  {
   "cell_type": "code",
   "execution_count": 4,
   "metadata": {},
   "outputs": [
    {
     "name": "stdout",
     "output_type": "stream",
     "text": [
      "a\n",
      "e\n",
      "i\n",
      "o\n",
      "u\n"
     ]
    }
   ],
   "source": [
    "for ech_ele in alpha_it:\n",
    "    print(ech_ele)"
   ]
  },
  {
   "cell_type": "code",
   "execution_count": 5,
   "metadata": {},
   "outputs": [
    {
     "name": "stdout",
     "output_type": "stream",
     "text": [
      "list(alpha_it) []\n"
     ]
    }
   ],
   "source": [
    "print(\"list(alpha_it)\", list(alpha_it))"
   ]
  },
  {
   "cell_type": "code",
   "execution_count": 6,
   "metadata": {},
   "outputs": [
    {
     "name": "stdout",
     "output_type": "stream",
     "text": [
      "list(alpha_it) ['a', 'e', 'i', 'o', 'u']\n",
      "tuple(alpha_it) ('a', 'e', 'i', 'o', 'u')\n",
      "set(alpha_it) {'a', 'i', 'e', 'u', 'o'}\n",
      "str(alpha_it) <list_iterator object at 0x7d46aa75f850>\n"
     ]
    }
   ],
   "source": [
    "alpha_it = iter(alpha)\n",
    "print(\"list(alpha_it)\", list(alpha_it))\n",
    "\n",
    "alpha_it = iter(alpha)\n",
    "print(\"tuple(alpha_it)\", tuple(alpha_it))\n",
    "\n",
    "alpha_it = iter(alpha)\n",
    "print(\"set(alpha_it)\", set(alpha_it))\n",
    "\n",
    "alpha_it = iter(alpha)\n",
    "print(\"str(alpha_it)\", str(alpha_it))"
   ]
  },
  {
   "cell_type": "code",
   "execution_count": 7,
   "metadata": {},
   "outputs": [
    {
     "name": "stdout",
     "output_type": "stream",
     "text": [
      "<class 'list'> ['a', 'e', 'i', 'o', 'u']\n",
      "<class 'list_iterator'> <list_iterator object at 0x7d46bb31f8e0>\n"
     ]
    }
   ],
   "source": [
    "alpha = [\"a\", \"e\", \"i\", \"o\", \"u\"]\n",
    "print(type(alpha), alpha)\n",
    "alpha_it = iter(alpha)\n",
    "print(type(alpha_it), alpha_it)"
   ]
  },
  {
   "cell_type": "code",
   "execution_count": 8,
   "metadata": {},
   "outputs": [
    {
     "name": "stdout",
     "output_type": "stream",
     "text": [
      "<class 'tuple'> ('a', 'e', 'i', 'o', 'u')\n",
      "<class 'tuple_iterator'> <tuple_iterator object at 0x7d46a9b6dde0>\n"
     ]
    }
   ],
   "source": [
    "alpha = (\"a\", \"e\", \"i\", \"o\", \"u\")\n",
    "print(type(alpha), alpha)\n",
    "alpha_it = iter(alpha)\n",
    "print(type(alpha_it), alpha_it)"
   ]
  },
  {
   "cell_type": "code",
   "execution_count": 9,
   "metadata": {},
   "outputs": [
    {
     "name": "stdout",
     "output_type": "stream",
     "text": [
      "<class 'set'> {'a', 'o', 'i', 'e', 'u'}\n",
      "<class 'set_iterator'> <set_iterator object at 0x7d46a9b75740>\n"
     ]
    }
   ],
   "source": [
    "alpha = {\"a\", \"e\", \"i\", \"o\", \"u\"}\n",
    "print(type(alpha), alpha)\n",
    "alpha_it = iter(alpha)\n",
    "print(type(alpha_it), alpha_it)"
   ]
  },
  {
   "cell_type": "code",
   "execution_count": 10,
   "metadata": {},
   "outputs": [
    {
     "name": "stdout",
     "output_type": "stream",
     "text": [
      "<class 'dict'> {'a': 1, 'e': 2, 'i': 3, 'o': 4}\n",
      "<class 'dict_keyiterator'> <dict_keyiterator object at 0x7d46aa537b00>\n"
     ]
    }
   ],
   "source": [
    "alpha = {\"a\": 1, \"e\": 2, \"i\": 3, \"o\": 4}\n",
    "print(type(alpha), alpha)\n",
    "alpha_it = iter(alpha)\n",
    "print(type(alpha_it), alpha_it)"
   ]
  },
  {
   "cell_type": "code",
   "execution_count": 11,
   "metadata": {},
   "outputs": [
    {
     "name": "stdout",
     "output_type": "stream",
     "text": [
      "<class 'dict_keyiterator'> <dict_keyiterator object at 0x7d46b824e2f0>\n",
      "<class 'dict_valueiterator'> <dict_valueiterator object at 0x7d46aa537b00>\n",
      "<class 'dict_itemiterator'> <dict_itemiterator object at 0x7d46b824e2f0>\n"
     ]
    }
   ],
   "source": [
    "alpha_it = iter(alpha.keys())\n",
    "print(type(alpha_it), alpha_it)\n",
    "\n",
    "alpha_it = iter(alpha.values())\n",
    "print(type(alpha_it), alpha_it)\n",
    "\n",
    "alpha_it = iter(alpha.items())\n",
    "print(type(alpha_it), alpha_it)"
   ]
  },
  {
   "cell_type": "code",
   "execution_count": 12,
   "metadata": {},
   "outputs": [
    {
     "name": "stdout",
     "output_type": "stream",
     "text": [
      "<class 'str_ascii_iterator'> <str_ascii_iterator object at 0x7d46a9b9f040>\n"
     ]
    }
   ],
   "source": [
    "language = \"python\"\n",
    "language_it = iter(language)\n",
    "print(type(language_it), language_it)"
   ]
  },
  {
   "cell_type": "code",
   "execution_count": 13,
   "metadata": {},
   "outputs": [
    {
     "name": "stdout",
     "output_type": "stream",
     "text": [
      "value foo\n",
      "value bar\n",
      "value baz\n"
     ]
    }
   ],
   "source": [
    "a = [\"foo\", \"bar\", \"baz\"]\n",
    "itr = iter(a)\n",
    "for value in itr:\n",
    "    print(\"value\", value)"
   ]
  },
  {
   "cell_type": "code",
   "execution_count": 14,
   "metadata": {},
   "outputs": [
    {
     "data": {
      "text/plain": [
       "<list_iterator at 0x7d46a9b9fe50>"
      ]
     },
     "execution_count": 14,
     "metadata": {},
     "output_type": "execute_result"
    }
   ],
   "source": [
    "itr"
   ]
  },
  {
   "cell_type": "code",
   "execution_count": 15,
   "metadata": {},
   "outputs": [
    {
     "data": {
      "text/plain": [
       "[]"
      ]
     },
     "execution_count": 15,
     "metadata": {},
     "output_type": "execute_result"
    }
   ],
   "source": [
    "list(itr)"
   ]
  },
  {
   "cell_type": "code",
   "execution_count": 16,
   "metadata": {},
   "outputs": [
    {
     "name": "stdout",
     "output_type": "stream",
     "text": [
      "\n",
      " <list_iterator object at 0x7d46a9b9dae0>\n"
     ]
    }
   ],
   "source": [
    "itr = iter(a)\n",
    "print(\"\\n\", itr)"
   ]
  },
  {
   "cell_type": "code",
   "execution_count": 17,
   "metadata": {},
   "outputs": [
    {
     "name": "stdout",
     "output_type": "stream",
     "text": [
      "\n",
      "itr.__next__() foo\n",
      "next(itr)      bar\n",
      "next(itr)      baz\n"
     ]
    }
   ],
   "source": [
    "print(\"\\nitr.__next__()\", itr.__next__())\n",
    "print(\"next(itr)     \", next(itr))\n",
    "print(\"next(itr)     \", next(itr))"
   ]
  },
  {
   "cell_type": "code",
   "execution_count": 18,
   "metadata": {},
   "outputs": [
    {
     "name": "stdout",
     "output_type": "stream",
     "text": [
      "StopIteration()\n"
     ]
    }
   ],
   "source": [
    "try:\n",
    "    print(\"next(itr)     \", next(itr))\n",
    "except StopIteration as ex:\n",
    "    print(repr(ex))"
   ]
  },
  {
   "cell_type": "code",
   "execution_count": 19,
   "metadata": {},
   "outputs": [
    {
     "name": "stdout",
     "output_type": "stream",
     "text": [
      "\n",
      "Reassigning\n",
      "next(itr)      foo\n",
      "next(itr)      bar\n",
      "next(itr)      baz\n",
      "StopIteration()\n"
     ]
    }
   ],
   "source": [
    "print(\"\\nReassigning\")\n",
    "\n",
    "itr = iter(a)\n",
    "while True:\n",
    "    try:\n",
    "        print(\"next(itr)     \", next(itr))\n",
    "    except StopIteration as ex:\n",
    "        print(repr(ex))\n",
    "        break"
   ]
  }
 ],
 "metadata": {
  "kernelspec": {
   "display_name": "Python 3",
   "language": "python",
   "name": "python3"
  },
  "language_info": {
   "codemirror_mode": {
    "name": "ipython",
    "version": 3
   },
   "file_extension": ".py",
   "mimetype": "text/x-python",
   "name": "python",
   "nbconvert_exporter": "python",
   "pygments_lexer": "ipython3",
   "version": "3.12.1"
  }
 },
 "nbformat": 4,
 "nbformat_minor": 2
}
