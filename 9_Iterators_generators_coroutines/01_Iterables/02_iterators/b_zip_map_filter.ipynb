{
 "cells": [
  {
   "cell_type": "code",
   "execution_count": 1,
   "metadata": {},
   "outputs": [],
   "source": [
    "alpha = {\"a\", \"e\", \"i\", \"o\", \"u\"}\n",
    "nums = (\"1\", \"2\", \"3\", \"4\")"
   ]
  },
  {
   "cell_type": "code",
   "execution_count": 2,
   "metadata": {},
   "outputs": [
    {
     "name": "stdout",
     "output_type": "stream",
     "text": [
      "pairs: <class 'zip'> <zip object at 0x76fafc0e2a40>\n"
     ]
    }
   ],
   "source": [
    "pairs = zip(alpha, nums)\n",
    "print(f\"pairs: {type(pairs)} {pairs}\")"
   ]
  },
  {
   "cell_type": "code",
   "execution_count": 3,
   "metadata": {},
   "outputs": [
    {
     "name": "stdout",
     "output_type": "stream",
     "text": [
      "('e', '1')\n",
      "('i', '2')\n",
      "('u', '3')\n",
      "('o', '4')\n"
     ]
    }
   ],
   "source": [
    "for ech_pair in pairs:\n",
    "    print(ech_pair)"
   ]
  },
  {
   "cell_type": "code",
   "execution_count": 4,
   "metadata": {},
   "outputs": [
    {
     "name": "stdout",
     "output_type": "stream",
     "text": [
      "pairs1: <class 'list'> []\n",
      "pairs2: <class 'tuple'> ()\n",
      "pairs3: <class 'set'> set()\n",
      "pairs4: <class 'str'> <zip object at 0x76fafc0e2a40>\n"
     ]
    }
   ],
   "source": [
    "pairs1 = list(pairs)\n",
    "print(f\"pairs1: {type(pairs1)} {pairs1}\")\n",
    "\n",
    "pairs2 = tuple(pairs)\n",
    "print(f\"pairs2: {type(pairs2)} {pairs2}\")\n",
    "\n",
    "pairs3 = set(pairs)\n",
    "print(f\"pairs3: {type(pairs3)} {pairs3}\")\n",
    "\n",
    "pairs4 = str(pairs)\n",
    "print(f\"pairs4: {type(pairs4)} {pairs4}\")"
   ]
  },
  {
   "cell_type": "code",
   "execution_count": 5,
   "metadata": {},
   "outputs": [
    {
     "name": "stdout",
     "output_type": "stream",
     "text": [
      "pairs1: <class 'list'> [('e', '1'), ('i', '2'), ('u', '3'), ('o', '4')]\n"
     ]
    }
   ],
   "source": [
    "pairs = zip(alpha, nums)\n",
    "pairs1 = list(pairs)\n",
    "print(f\"pairs1: {type(pairs1)} {pairs1}\")"
   ]
  },
  {
   "cell_type": "code",
   "execution_count": 6,
   "metadata": {},
   "outputs": [
    {
     "name": "stdout",
     "output_type": "stream",
     "text": [
      "pairs2: <class 'tuple'> (('e', '1'), ('i', '2'), ('u', '3'), ('o', '4'))\n"
     ]
    }
   ],
   "source": [
    "pairs = zip(alpha, nums)\n",
    "pairs2 = tuple(pairs)\n",
    "print(f\"pairs2: {type(pairs2)} {pairs2}\")"
   ]
  },
  {
   "cell_type": "code",
   "execution_count": 7,
   "metadata": {},
   "outputs": [
    {
     "name": "stdout",
     "output_type": "stream",
     "text": [
      "pairs3: <class 'set'> {('u', '3'), ('e', '1'), ('i', '2'), ('o', '4')}\n"
     ]
    }
   ],
   "source": [
    "pairs = zip(alpha, nums)\n",
    "pairs3 = set(pairs)\n",
    "print(f\"pairs3: {type(pairs3)} {pairs3}\")"
   ]
  },
  {
   "cell_type": "code",
   "execution_count": 8,
   "metadata": {},
   "outputs": [
    {
     "name": "stdout",
     "output_type": "stream",
     "text": [
      "pairs4: <class 'str'> <zip object at 0x76fafc0eab80>\n"
     ]
    }
   ],
   "source": [
    "pairs = zip(alpha, nums)\n",
    "pairs4 = str(pairs)\n",
    "print(f\"pairs4: {type(pairs4)} {pairs4}\")"
   ]
  },
  {
   "cell_type": "code",
   "execution_count": 9,
   "metadata": {},
   "outputs": [
    {
     "name": "stdout",
     "output_type": "stream",
     "text": [
      "pairs5: <class 'dict'> {'e': '1', 'i': '2', 'u': '3', 'o': '4'}\n"
     ]
    }
   ],
   "source": [
    "pairs = zip(alpha, nums)\n",
    "pairs5 = dict(pairs)\n",
    "print(f\"pairs5: {type(pairs5)} {pairs5}\")"
   ]
  }
 ],
 "metadata": {
  "kernelspec": {
   "display_name": "Python 3",
   "language": "python",
   "name": "python3"
  },
  "language_info": {
   "codemirror_mode": {
    "name": "ipython",
    "version": 3
   },
   "file_extension": ".py",
   "mimetype": "text/x-python",
   "name": "python",
   "nbconvert_exporter": "python",
   "pygments_lexer": "ipython3",
   "version": "3.12.1"
  }
 },
 "nbformat": 4,
 "nbformat_minor": 2
}
