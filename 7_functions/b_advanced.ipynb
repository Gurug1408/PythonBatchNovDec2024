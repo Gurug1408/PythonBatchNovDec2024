{
 "cells": [
  {
   "cell_type": "code",
   "execution_count": 1,
   "metadata": {},
   "outputs": [
    {
     "name": "stdout",
     "output_type": "stream",
     "text": [
      "values                        =[1, 2, 3, 4, 2, 1, 3, 1, 4, 3, 3]\n"
     ]
    }
   ],
   "source": [
    "values = [1, 2, 3, 4, 2, 1, 3, 1, 4, 3, 3]\n",
    "print(f\"{values                        =}\")"
   ]
  },
  {
   "cell_type": "code",
   "execution_count": 2,
   "metadata": {},
   "outputs": [
    {
     "name": "stdout",
     "output_type": "stream",
     "text": [
      "calculating: 1 + 2\n",
      "3\n",
      "calculating: 1 + 2\n",
      "3\n",
      "calculating: 1 + 3\n",
      "4\n"
     ]
    }
   ],
   "source": [
    "def add(x, y):\n",
    "    print(f\"calculating: {x} + {y}\")\n",
    "    return x + y\n",
    "\n",
    "\n",
    "print(add(1, 2))\n",
    "print(add(1, 2))\n",
    "print(add(1, 3))"
   ]
  },
  {
   "cell_type": "code",
   "execution_count": 3,
   "metadata": {},
   "outputs": [
    {
     "name": "stdout",
     "output_type": "stream",
     "text": [
      "calculating: 1 + 2\n",
      "3\n",
      "3\n",
      "calculating: 1 + 3\n",
      "4\n"
     ]
    }
   ],
   "source": [
    "from functools import lru_cache\n",
    "\n",
    "@lru_cache\n",
    "def add(x, y):\n",
    "    print(f\"calculating: {x} + {y}\")\n",
    "    return x + y\n",
    "\n",
    "\n",
    "print(add(1, 2))\n",
    "print(add(1, 2)) \n",
    "print(add(1, 3))"
   ]
  },
  {
   "cell_type": "code",
   "execution_count": 4,
   "metadata": {},
   "outputs": [
    {
     "name": "stdout",
     "output_type": "stream",
     "text": [
      "calculating: 1 + 2\n",
      "3\n",
      "3\n",
      "calculating: 1 + 3\n",
      "4\n"
     ]
    }
   ],
   "source": [
    "from functools import lru_cache\n",
    "\n",
    "@lru_cache(None) \n",
    "def add(x, y):\n",
    "    print(f\"calculating: {x} + {y}\")\n",
    "    return x + y\n",
    "\n",
    "\n",
    "print(add(1, 2))\n",
    "print(add(1, 2))  \n",
    "print(add(1, 3))"
   ]
  },
  {
   "cell_type": "code",
   "execution_count": 5,
   "metadata": {},
   "outputs": [
    {
     "name": "stdout",
     "output_type": "stream",
     "text": [
      "0.0097617320000154\n"
     ]
    }
   ],
   "source": [
    "import timeit\n",
    "\n",
    "\n",
    "print(timeit.timeit('12 + 233 - 23 '))"
   ]
  },
  {
   "cell_type": "code",
   "execution_count": 6,
   "metadata": {},
   "outputs": [
    {
     "name": "stdout",
     "output_type": "stream",
     "text": [
      "12.088226970999926\n"
     ]
    }
   ],
   "source": [
    "print(timeit.timeit('list(range(967)) '))"
   ]
  },
  {
   "cell_type": "code",
   "execution_count": 7,
   "metadata": {},
   "outputs": [
    {
     "name": "stdout",
     "output_type": "stream",
     "text": [
      "1.4798000051996496e-05\n"
     ]
    }
   ],
   "source": [
    "print(timeit.timeit('list(range(967))', number=1))"
   ]
  },
  {
   "cell_type": "code",
   "execution_count": 8,
   "metadata": {},
   "outputs": [
    {
     "name": "stdout",
     "output_type": "stream",
     "text": [
      "15.740437772000178\n"
     ]
    }
   ],
   "source": [
    "def fib(n):\n",
    "    if n < 2:\n",
    "        return n\n",
    "    return fib(n - 2) + fib(n - 1)\n",
    "\n",
    "\n",
    "print(timeit.timeit(lambda: fib(40), number=1))"
   ]
  },
  {
   "cell_type": "code",
   "execution_count": 9,
   "metadata": {},
   "outputs": [
    {
     "name": "stdout",
     "output_type": "stream",
     "text": [
      "15.839856184000155\n"
     ]
    }
   ],
   "source": [
    "@lru_cache(None)\n",
    "def fib2(n):\n",
    "    if n < 2:\n",
    "        return n\n",
    "    return fib2(n - 2) + fib2(n - 1)\n",
    "\n",
    "\n",
    "print(timeit.timeit(lambda: fib(40), number=1))"
   ]
  },
  {
   "cell_type": "code",
   "execution_count": 10,
   "metadata": {},
   "outputs": [
    {
     "name": "stdout",
     "output_type": "stream",
     "text": [
      "5\n"
     ]
    }
   ],
   "source": [
    "@lru_cache(maxsize=100)\n",
    "def count_vowels(sentence):\n",
    "    sentence = sentence.casefold()\n",
    "    return sum(sentence.count(vowel) for vowel in \"aeiou\")\n",
    "\n",
    "\n",
    "print(count_vowels(\"Welcome to Python\"))"
   ]
  }
 ],
 "metadata": {
  "kernelspec": {
   "display_name": "Python 3",
   "language": "python",
   "name": "python3"
  },
  "language_info": {
   "codemirror_mode": {
    "name": "ipython",
    "version": 3
   },
   "file_extension": ".py",
   "mimetype": "text/x-python",
   "name": "python",
   "nbconvert_exporter": "python",
   "pygments_lexer": "ipython3",
   "version": "3.12.1"
  }
 },
 "nbformat": 4,
 "nbformat_minor": 2
}
