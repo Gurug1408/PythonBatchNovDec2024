{
 "cells": [
  {
   "cell_type": "code",
   "execution_count": 1,
   "metadata": {},
   "outputs": [
    {
     "name": "stdout",
     "output_type": "stream",
     "text": [
      "{} <class 'dict'>\n",
      "{} <class 'dict'>\n",
      "set() <class 'set'>\n"
     ]
    }
   ],
   "source": [
    "empty_dict = {}\n",
    "print(empty_dict, type(empty_dict))\n",
    "\n",
    "empty_dict = dict()\n",
    "print(empty_dict, type(empty_dict))\n",
    "\n",
    "empty_set = set()\n",
    "print(empty_set, type(empty_set))"
   ]
  },
  {
   "cell_type": "code",
   "execution_count": 2,
   "metadata": {},
   "outputs": [
    {
     "name": "stdout",
     "output_type": "stream",
     "text": [
      "{'a': 11} <class 'dict'>\n",
      "len(dict_with_single_pair) =1\n"
     ]
    }
   ],
   "source": [
    "dict_with_single_pair = {\"a\": 11}\n",
    "print(dict_with_single_pair, type(dict_with_single_pair))\n",
    "print(f\"{len(dict_with_single_pair) =}\")"
   ]
  },
  {
   "cell_type": "code",
   "execution_count": 3,
   "metadata": {},
   "outputs": [
    {
     "name": "stdout",
     "output_type": "stream",
     "text": [
      "\n",
      "{34, 12} <class 'set'>\n",
      "{12: 34, 34: 56} <class 'dict'>\n"
     ]
    }
   ],
   "source": [
    "print()\n",
    "other_set = {12, 34}\n",
    "print(other_set, type(other_set))\n",
    "\n",
    "other_dict = {12: 34, 34: 56}\n",
    "print(other_dict, type(other_dict))"
   ]
  },
  {
   "cell_type": "code",
   "execution_count": 4,
   "metadata": {},
   "outputs": [
    {
     "name": "stdout",
     "output_type": "stream",
     "text": [
      "{'b': 2, 'a': 1, 'c': 3, 'd': 4}\n"
     ]
    }
   ],
   "source": [
    "alphabhets = {\"b\": 2, \"a\": 1, \"c\": 3, \"d\": 4}\n",
    "print(alphabhets)"
   ]
  },
  {
   "cell_type": "code",
   "execution_count": 5,
   "metadata": {},
   "outputs": [],
   "source": [
    "person_details = {\n",
    "    \"name\": \"G Charan\",\n",
    "    \"age\": 23,\n",
    "    \"salary\": 1233123.12,\n",
    "    \"children\": [\"M\", \"J\"],\n",
    "    \"parents\": (\"Sam R\", \"Michel R\"),\n",
    "    1: [12, 3, 12],\n",
    "    -1213.213: {33, 33},\n",
    "    (\"Dr\", \"Mr\"): \"titles\",\n",
    "    None: \"This is None\",\n",
    "    # [12, 23]: 'something',\n",
    "    tuple([12, 23]): \"something\",\n",
    "}"
   ]
  },
  {
   "cell_type": "code",
   "execution_count": 6,
   "metadata": {},
   "outputs": [
    {
     "data": {
      "text/plain": [
       "{'name': 'G Charan',\n",
       " 'age': 23,\n",
       " 'salary': 1233123.12,\n",
       " 'children': ['M', 'J'],\n",
       " 'parents': ('Sam R', 'Michel R'),\n",
       " 1: [12, 3, 12],\n",
       " -1213.213: {33},\n",
       " ('Dr', 'Mr'): 'titles',\n",
       " None: 'This is None',\n",
       " (12, 23): 'something'}"
      ]
     },
     "execution_count": 6,
     "metadata": {},
     "output_type": "execute_result"
    }
   ],
   "source": [
    "person_details"
   ]
  },
  {
   "cell_type": "code",
   "execution_count": 7,
   "metadata": {},
   "outputs": [
    {
     "name": "stdout",
     "output_type": "stream",
     "text": [
      "{'name': 'G Charan',\n",
      " 'age': 23,\n",
      " 'salary': 1233123.12,\n",
      " 'children': ['M', 'J'],\n",
      " 'parents': ('Sam R', 'Michel R'),\n",
      " 1: [12, 3, 12],\n",
      " -1213.213: {33},\n",
      " ('Dr', 'Mr'): 'titles',\n",
      " None: 'This is None',\n",
      " (12, 23): 'something'}\n"
     ]
    }
   ],
   "source": [
    "from pprint import pprint, pp\n",
    "\n",
    "pp(person_details)"
   ]
  },
  {
   "cell_type": "code",
   "execution_count": 8,
   "metadata": {},
   "outputs": [
    {
     "name": "stdout",
     "output_type": "stream",
     "text": [
      "{None: 'This is None',\n",
      " -1213.213: {33},\n",
      " 1: [12, 3, 12],\n",
      " 'age': 23,\n",
      " 'children': ['M', 'J'],\n",
      " 'name': 'G Charan',\n",
      " 'parents': ('Sam R', 'Michel R'),\n",
      " 'salary': 1233123.12,\n",
      " (12, 23): 'something',\n",
      " ('Dr', 'Mr'): 'titles'}\n"
     ]
    }
   ],
   "source": [
    "pprint(person_details)"
   ]
  },
  {
   "cell_type": "code",
   "execution_count": 9,
   "metadata": {},
   "outputs": [
    {
     "name": "stdout",
     "output_type": "stream",
     "text": [
      "{   None: 'This is None',\n",
      "    -1213.213: {33},\n",
      "    1: [12, 3, 12],\n",
      "    'age': 23,\n",
      "    'children': ['M', 'J'],\n",
      "    'name': 'G Charan',\n",
      "    'parents': ('Sam R', 'Michel R'),\n",
      "    'salary': 1233123.12,\n",
      "    (12, 23): 'something',\n",
      "    ('Dr', 'Mr'): 'titles'}\n"
     ]
    }
   ],
   "source": [
    "pprint(person_details, indent=4)"
   ]
  },
  {
   "cell_type": "code",
   "execution_count": 10,
   "metadata": {},
   "outputs": [
    {
     "name": "stdout",
     "output_type": "stream",
     "text": [
      "{'name': 'G Charan', 'age': 23, 'salary': 1233123.12, 'children': ['M', 'J'], 'parents': ('Sam R', 'Michel R'), 1: [12, 3, 12], -1213.213: {33}, ('Dr', 'Mr'): 'titles', None: 'This is None', (12, 23): 'something'}\n"
     ]
    }
   ],
   "source": [
    "print(person_details)"
   ]
  },
  {
   "cell_type": "code",
   "execution_count": 11,
   "metadata": {},
   "outputs": [
    {
     "name": "stdout",
     "output_type": "stream",
     "text": [
      "person_details.keys()  =dict_keys(['name', 'age', 'salary', 'children', 'parents', 1, -1213.213, ('Dr', 'Mr'), None, (12, 23)])\n"
     ]
    }
   ],
   "source": [
    "print(f\"{person_details.keys()  =}\")"
   ]
  },
  {
   "cell_type": "code",
   "execution_count": 12,
   "metadata": {},
   "outputs": [
    {
     "data": {
      "text/plain": [
       "dict_values(['G Charan', 23, 1233123.12, ['M', 'J'], ('Sam R', 'Michel R'), [12, 3, 12], {33}, 'titles', 'This is None', 'something'])"
      ]
     },
     "execution_count": 12,
     "metadata": {},
     "output_type": "execute_result"
    }
   ],
   "source": [
    "person_details.values()"
   ]
  },
  {
   "cell_type": "code",
   "execution_count": 13,
   "metadata": {},
   "outputs": [
    {
     "data": {
      "text/plain": [
       "dict_items([('name', 'G Charan'), ('age', 23), ('salary', 1233123.12), ('children', ['M', 'J']), ('parents', ('Sam R', 'Michel R')), (1, [12, 3, 12]), (-1213.213, {33}), (('Dr', 'Mr'), 'titles'), (None, 'This is None'), ((12, 23), 'something')])"
      ]
     },
     "execution_count": 13,
     "metadata": {},
     "output_type": "execute_result"
    }
   ],
   "source": [
    "person_details.items()"
   ]
  },
  {
   "cell_type": "code",
   "execution_count": 14,
   "metadata": {},
   "outputs": [
    {
     "name": "stdout",
     "output_type": "stream",
     "text": [
      "\n",
      " Iterating over the dictionary \n",
      "name\n",
      "age\n",
      "salary\n",
      "children\n",
      "parents\n",
      "1\n",
      "-1213.213\n",
      "('Dr', 'Mr')\n",
      "None\n",
      "(12, 23)\n"
     ]
    }
   ],
   "source": [
    "print(\"\\n Iterating over the dictionary \")\n",
    "for each in person_details:\n",
    "    print(each)"
   ]
  },
  {
   "cell_type": "code",
   "execution_count": 15,
   "metadata": {},
   "outputs": [
    {
     "name": "stdout",
     "output_type": "stream",
     "text": [
      "\n",
      " person_details.keys()\n",
      "name\n",
      "age\n",
      "salary\n",
      "children\n",
      "parents\n",
      "1\n",
      "-1213.213\n",
      "('Dr', 'Mr')\n",
      "None\n",
      "(12, 23)\n"
     ]
    }
   ],
   "source": [
    "print(\"\\n person_details.keys()\")\n",
    "for each in person_details.keys():\n",
    "    print(each)"
   ]
  },
  {
   "cell_type": "code",
   "execution_count": 16,
   "metadata": {},
   "outputs": [
    {
     "name": "stdout",
     "output_type": "stream",
     "text": [
      "\n",
      " person_details.values()\n",
      "G Charan\n",
      "23\n",
      "1233123.12\n",
      "['M', 'J']\n",
      "('Sam R', 'Michel R')\n",
      "[12, 3, 12]\n",
      "{33}\n",
      "titles\n",
      "This is None\n",
      "something\n"
     ]
    }
   ],
   "source": [
    "print(\"\\n person_details.values()\")\n",
    "for each in person_details.values():\n",
    "    print(each)"
   ]
  },
  {
   "cell_type": "code",
   "execution_count": 17,
   "metadata": {},
   "outputs": [
    {
     "name": "stdout",
     "output_type": "stream",
     "text": [
      "\n",
      " person_details.items()\n",
      "('name', 'G Charan')\n",
      "('age', 23)\n",
      "('salary', 1233123.12)\n",
      "('children', ['M', 'J'])\n",
      "('parents', ('Sam R', 'Michel R'))\n",
      "(1, [12, 3, 12])\n",
      "(-1213.213, {33})\n",
      "(('Dr', 'Mr'), 'titles')\n",
      "(None, 'This is None')\n",
      "((12, 23), 'something')\n"
     ]
    }
   ],
   "source": [
    "print(\"\\n person_details.items()\")\n",
    "for each in person_details.items():\n",
    "    print(each)"
   ]
  },
  {
   "cell_type": "code",
   "execution_count": 18,
   "metadata": {},
   "outputs": [
    {
     "name": "stdout",
     "output_type": "stream",
     "text": [
      "\n",
      " person_details.items()\n",
      "name\tG Charan\n",
      "age\t23\n",
      "salary\t1233123.12\n",
      "children\t['M', 'J']\n",
      "parents\t('Sam R', 'Michel R')\n",
      "1\t[12, 3, 12]\n",
      "-1213.213\t{33}\n",
      "('Dr', 'Mr')\ttitles\n",
      "None\tThis is None\n",
      "(12, 23)\tsomething\n"
     ]
    }
   ],
   "source": [
    "print(\"\\n person_details.items()\")\n",
    "for each_key, each_value in person_details.items():\n",
    "    print(f\"{each_key}\\t{each_value}\")"
   ]
  },
  {
   "cell_type": "code",
   "execution_count": 19,
   "metadata": {},
   "outputs": [
    {
     "name": "stdout",
     "output_type": "stream",
     "text": [
      "Employee Name  : Saurav Ganguly\n",
      "Employee Status: retired\n"
     ]
    }
   ],
   "source": [
    "employee = {\n",
    "    \"name\": \"Saurav Ganguly\",\n",
    "    \"status\": \"retired\",\n",
    "    \"salary\": 12_222_213,\n",
    "    \"strike_rate\": 85 / 100,\n",
    "}\n",
    "\n",
    "# Indexing in Dictionaries\n",
    "print(\"Employee Name  :\", employee[\"name\"])\n",
    "print(\"Employee Status:\", employee[\"status\"])"
   ]
  },
  {
   "cell_type": "code",
   "execution_count": 20,
   "metadata": {},
   "outputs": [
    {
     "name": "stdout",
     "output_type": "stream",
     "text": [
      "No such key :'no_of_centuries'\n"
     ]
    }
   ],
   "source": [
    "try:\n",
    "    employee[\"no_of_centuries\"]\n",
    "except KeyError as ex:\n",
    "    print(f\"No such key :{str(ex)}\")"
   ]
  },
  {
   "cell_type": "code",
   "execution_count": 21,
   "metadata": {},
   "outputs": [
    {
     "name": "stdout",
     "output_type": "stream",
     "text": [
      "Before change: id(employee) = 134757320406144\n",
      "Employee Status: rejoined\n",
      "After change : id(employee) = 134757320406144\n"
     ]
    }
   ],
   "source": [
    "print(f\"Before change: {id(employee) = }\")\n",
    "employee[\"status\"] = \"rejoined\"\n",
    "print(\"Employee Status:\", employee[\"status\"])\n",
    "print(f\"After change : {id(employee) = }\")"
   ]
  },
  {
   "cell_type": "code",
   "execution_count": 22,
   "metadata": {},
   "outputs": [
    {
     "name": "stdout",
     "output_type": "stream",
     "text": [
      "{'name': 'Saurav Ganguly', 'status': 'rejoined', 'salary': 12222213, 'strike_rate': 0.85, 'no_of_centuries': 345}\n",
      "{'name': 'Saurav Ganguly',\n",
      " 'no_of_centuries': 345,\n",
      " 'salary': 12222213,\n",
      " 'status': 'rejoined',\n",
      " 'strike_rate': 0.85}\n"
     ]
    }
   ],
   "source": [
    "employee[\"no_of_centuries\"] = 345\n",
    "\n",
    "print(employee)\n",
    "pprint(employee)"
   ]
  },
  {
   "cell_type": "code",
   "execution_count": 23,
   "metadata": {},
   "outputs": [
    {
     "name": "stdout",
     "output_type": "stream",
     "text": [
      "employee['strike_rate'] =0.85\n",
      "No such key :'no_of_catches'\n"
     ]
    }
   ],
   "source": [
    "print(f\"{employee['strike_rate'] =}\")\n",
    "\n",
    "try:\n",
    "    print(f\"{employee['no_of_catches'] =}\")\n",
    "except KeyError as ex:\n",
    "    print(f\"No such key :{str(ex)}\")"
   ]
  },
  {
   "cell_type": "code",
   "execution_count": 24,
   "metadata": {},
   "outputs": [
    {
     "name": "stdout",
     "output_type": "stream",
     "text": [
      "employee.get('strike_rate')                    =0.85\n",
      "employee.get('no_of_catches')                  =None\n"
     ]
    }
   ],
   "source": [
    "print(f\"{employee.get('strike_rate')                    =}\")\n",
    "print(f\"{employee.get('no_of_catches')                  =}\")"
   ]
  },
  {
   "cell_type": "code",
   "execution_count": 25,
   "metadata": {},
   "outputs": [
    {
     "name": "stdout",
     "output_type": "stream",
     "text": [
      "employee.get('no_of_catches', None)            =None\n",
      "employee.get('no_of_catches', 'No such key')   ='No such key'\n",
      "employee.get('no_of_catches', 234)             =234\n"
     ]
    }
   ],
   "source": [
    "print(f\"{employee.get('no_of_catches', None)            =}\")\n",
    "print(f\"{employee.get('no_of_catches', 'No such key')   =}\")\n",
    "print(f\"{employee.get('no_of_catches', 234)             =}\")"
   ]
  },
  {
   "cell_type": "code",
   "execution_count": 26,
   "metadata": {},
   "outputs": [
    {
     "data": {
      "text/plain": [
       "{'name': 'Saurav Ganguly',\n",
       " 'status': 'rejoined',\n",
       " 'salary': 12222213,\n",
       " 'strike_rate': 0.85,\n",
       " 'no_of_centuries': 345}"
      ]
     },
     "execution_count": 26,
     "metadata": {},
     "output_type": "execute_result"
    }
   ],
   "source": [
    "employee"
   ]
  },
  {
   "cell_type": "code",
   "execution_count": 27,
   "metadata": {},
   "outputs": [
    {
     "data": {
      "text/plain": [
       "0.85"
      ]
     },
     "execution_count": 27,
     "metadata": {},
     "output_type": "execute_result"
    }
   ],
   "source": [
    "employee.setdefault('strike_rate')"
   ]
  },
  {
   "cell_type": "code",
   "execution_count": 28,
   "metadata": {},
   "outputs": [
    {
     "name": "stdout",
     "output_type": "stream",
     "text": [
      "employee.setdefault('no_of_catches')      =None\n"
     ]
    }
   ],
   "source": [
    "print(f\"{employee.setdefault('no_of_catches')      =}\")"
   ]
  },
  {
   "cell_type": "code",
   "execution_count": 29,
   "metadata": {},
   "outputs": [
    {
     "data": {
      "text/plain": [
       "{'name': 'Saurav Ganguly',\n",
       " 'status': 'rejoined',\n",
       " 'salary': 12222213,\n",
       " 'strike_rate': 0.85,\n",
       " 'no_of_centuries': 345,\n",
       " 'no_of_catches': None}"
      ]
     },
     "execution_count": 29,
     "metadata": {},
     "output_type": "execute_result"
    }
   ],
   "source": [
    "employee"
   ]
  },
  {
   "cell_type": "code",
   "execution_count": 30,
   "metadata": {},
   "outputs": [
    {
     "name": "stdout",
     "output_type": "stream",
     "text": [
      "None\n"
     ]
    }
   ],
   "source": [
    "print(employee.setdefault('no_of_catches', 234))"
   ]
  },
  {
   "cell_type": "code",
   "execution_count": 31,
   "metadata": {},
   "outputs": [
    {
     "name": "stdout",
     "output_type": "stream",
     "text": [
      "employee.setdefault('ODI_matches_played', 155) =155\n"
     ]
    },
    {
     "data": {
      "text/plain": [
       "{'name': 'Saurav Ganguly',\n",
       " 'status': 'rejoined',\n",
       " 'salary': 12222213,\n",
       " 'strike_rate': 0.85,\n",
       " 'no_of_centuries': 345,\n",
       " 'no_of_catches': None,\n",
       " 'ODI_matches_played': 155}"
      ]
     },
     "execution_count": 31,
     "metadata": {},
     "output_type": "execute_result"
    }
   ],
   "source": [
    "print(f\"{employee.setdefault('ODI_matches_played', 155) =}\")\n",
    "employee"
   ]
  },
  {
   "cell_type": "code",
   "execution_count": 32,
   "metadata": {},
   "outputs": [
    {
     "name": "stdout",
     "output_type": "stream",
     "text": [
      "'no_of_catches' in employee            =True\n",
      "employee.__contains__('no_of_catches')   =True\n",
      "'no_of_wickets' in employee            =False\n",
      "employee.__contains__('no_of_wickets') =False\n",
      "no_of_catches: None\n"
     ]
    }
   ],
   "source": [
    "print(f\"{'no_of_catches' in employee            =}\")\n",
    "print(f\"{employee.__contains__('no_of_catches')   =}\")\n",
    "\n",
    "print(f\"{'no_of_wickets' in employee            =}\")\n",
    "print(f\"{employee.__contains__('no_of_wickets') =}\")\n",
    "\n",
    "if \"no_of_catches\" in employee:\n",
    "    print(\"no_of_catches:\", employee[\"no_of_catches\"])\n",
    "else:\n",
    "    print(\"No such key\")"
   ]
  },
  {
   "cell_type": "code",
   "execution_count": 33,
   "metadata": {},
   "outputs": [
    {
     "data": {
      "text/plain": [
       "{}"
      ]
     },
     "execution_count": 33,
     "metadata": {},
     "output_type": "execute_result"
    }
   ],
   "source": [
    "language = dict()\n",
    "language"
   ]
  },
  {
   "cell_type": "code",
   "execution_count": 34,
   "metadata": {},
   "outputs": [
    {
     "name": "stdout",
     "output_type": "stream",
     "text": [
      "{'name': 'Python', 'creator': 'G Charan'}\n"
     ]
    }
   ],
   "source": [
    "language[\"name\"] = \"Python\"\n",
    "language[\"creator\"] = \"G Charan\"\n",
    "\n",
    "pp(language)"
   ]
  },
  {
   "cell_type": "code",
   "execution_count": 35,
   "metadata": {},
   "outputs": [
    {
     "name": "stdout",
     "output_type": "stream",
     "text": [
      "{'name': 'Python', 'creator': 'G Charan', 'latest_version': '2.7.16'}\n"
     ]
    }
   ],
   "source": [
    "language[\"latest_version\"] = \"2.7.16\"\n",
    "pp(language)"
   ]
  },
  {
   "cell_type": "code",
   "execution_count": 36,
   "metadata": {},
   "outputs": [
    {
     "name": "stdout",
     "output_type": "stream",
     "text": [
      "{'name': 'Python',\n",
      " 'maintainer': 'Almighty',\n",
      " 'latest_version': '3.8.5',\n",
      " 'dev_version': '3.9'}\n"
     ]
    }
   ],
   "source": [
    "python_dict = {\n",
    "    \"name\": \"Python\",\n",
    "    \"maintainer\": \"Almighty\",\n",
    "    \"latest_version\": \"3.8.5\",\n",
    "    \"dev_version\": \"3.9\",\n",
    "}\n",
    "pp(python_dict)"
   ]
  },
  {
   "cell_type": "code",
   "execution_count": 37,
   "metadata": {},
   "outputs": [
    {
     "ename": "TypeError",
     "evalue": "unsupported operand type(s) for +: 'dict' and 'dict'",
     "output_type": "error",
     "traceback": [
      "\u001b[0;31m---------------------------------------------------------------------------\u001b[0m",
      "\u001b[0;31mTypeError\u001b[0m                                 Traceback (most recent call last)",
      "Cell \u001b[0;32mIn[37], line 1\u001b[0m\n\u001b[0;32m----> 1\u001b[0m \u001b[43mlanguage\u001b[49m\u001b[43m \u001b[49m\u001b[38;5;241;43m+\u001b[39;49m\u001b[43m \u001b[49m\u001b[43mpython_dict\u001b[49m\n",
      "\u001b[0;31mTypeError\u001b[0m: unsupported operand type(s) for +: 'dict' and 'dict'"
     ]
    }
   ],
   "source": [
    "language + python_dict"
   ]
  },
  {
   "cell_type": "code",
   "execution_count": 38,
   "metadata": {},
   "outputs": [
    {
     "name": "stdout",
     "output_type": "stream",
     "text": [
      "language    ={'name': 'Python', 'creator': 'G Charan', 'latest_version': '2.7.16'}\n",
      "python_dict ={'name': 'Python', 'maintainer': 'Almighty', 'latest_version': '3.8.5', 'dev_version': '3.9'}\n"
     ]
    }
   ],
   "source": [
    "print(f'{language    =}')\n",
    "print(f'{python_dict =}')"
   ]
  },
  {
   "cell_type": "code",
   "execution_count": 39,
   "metadata": {},
   "outputs": [],
   "source": [
    "language.update(python_dict)"
   ]
  },
  {
   "cell_type": "code",
   "execution_count": 40,
   "metadata": {},
   "outputs": [
    {
     "name": "stdout",
     "output_type": "stream",
     "text": [
      "language    ={'name': 'Python', 'creator': 'G Charan', 'latest_version': '3.8.5', 'maintainer': 'Almighty', 'dev_version': '3.9'}\n",
      "python_dict ={'name': 'Python', 'maintainer': 'Almighty', 'latest_version': '3.8.5', 'dev_version': '3.9'}\n"
     ]
    }
   ],
   "source": [
    "print(f'{language    =}')\n",
    "print(f'{python_dict =}')"
   ]
  },
  {
   "cell_type": "code",
   "execution_count": 41,
   "metadata": {},
   "outputs": [
    {
     "name": "stdout",
     "output_type": "stream",
     "text": [
      "{'name': 'Python',\n",
      " 'maintainer': 'Almighty',\n",
      " 'latest_version': '3.8.5',\n",
      " 'dev_version': '3.9.0rc'}\n"
     ]
    }
   ],
   "source": [
    "python_dict.update({\"dev_version\": \"3.9.0rc\"})\n",
    "pp(python_dict)"
   ]
  },
  {
   "cell_type": "code",
   "execution_count": 42,
   "metadata": {},
   "outputs": [
    {
     "name": "stdout",
     "output_type": "stream",
     "text": [
      "python_dict.pop('maintainer') ='Almighty'\n",
      "{'name': 'Python', 'latest_version': '3.8.5', 'dev_version': '3.9.0rc'}\n"
     ]
    }
   ],
   "source": [
    "print(f\"{python_dict.pop('maintainer') =}\")\n",
    "print(python_dict)"
   ]
  },
  {
   "cell_type": "code",
   "execution_count": 43,
   "metadata": {},
   "outputs": [
    {
     "name": "stdout",
     "output_type": "stream",
     "text": [
      "no such key 'maintainer'\n"
     ]
    }
   ],
   "source": [
    "try:\n",
    "    print(f\"{python_dict.pop('maintainer') =}\")\n",
    "except KeyError as ex:\n",
    "    print(\"no such key\", ex)"
   ]
  },
  {
   "cell_type": "code",
   "execution_count": 44,
   "metadata": {},
   "outputs": [
    {
     "name": "stdout",
     "output_type": "stream",
     "text": [
      "no such key 'maintainer'\n"
     ]
    }
   ],
   "source": [
    "try:\n",
    "    print(f\"{python_dict.pop('maintainer') =}\")\n",
    "except KeyError as ex:\n",
    "    print(\"no such key\", ex)"
   ]
  },
  {
   "cell_type": "code",
   "execution_count": 45,
   "metadata": {},
   "outputs": [
    {
     "name": "stdout",
     "output_type": "stream",
     "text": [
      "python_dict.pop('maintainer', None) =None\n",
      "python_dict.pop('maintainer', 'no such key') ='no such key'\n"
     ]
    }
   ],
   "source": [
    "print(f\"{python_dict.pop('maintainer', None) =}\")\n",
    "print(f\"{python_dict.pop('maintainer', 'no such key') =}\")"
   ]
  },
  {
   "cell_type": "code",
   "execution_count": 46,
   "metadata": {},
   "outputs": [
    {
     "name": "stdout",
     "output_type": "stream",
     "text": [
      "{'name': 'Python', 'latest_version': '3.8.5', 'dev_version': '3.9.0rc'}\n"
     ]
    }
   ],
   "source": [
    "print(python_dict)"
   ]
  },
  {
   "cell_type": "code",
   "execution_count": 47,
   "metadata": {},
   "outputs": [
    {
     "name": "stdout",
     "output_type": "stream",
     "text": [
      "python_dict.popitem() =('dev_version', '3.9.0rc')\n",
      "python_dict.popitem() =('latest_version', '3.8.5')\n",
      "{'name': 'Python'}\n"
     ]
    }
   ],
   "source": [
    "print(f\"{python_dict.popitem() =}\")\n",
    "print(f\"{python_dict.popitem() =}\")\n",
    "print(python_dict)"
   ]
  },
  {
   "cell_type": "code",
   "execution_count": 48,
   "metadata": {},
   "outputs": [
    {
     "name": "stdout",
     "output_type": "stream",
     "text": [
      "{}\n"
     ]
    }
   ],
   "source": [
    "del python_dict[\"name\"]\n",
    "print(python_dict)"
   ]
  },
  {
   "cell_type": "code",
   "execution_count": 49,
   "metadata": {},
   "outputs": [],
   "source": [
    "del python_dict"
   ]
  },
  {
   "cell_type": "code",
   "execution_count": 50,
   "metadata": {},
   "outputs": [
    {
     "ename": "NameError",
     "evalue": "name 'python_dict' is not defined",
     "output_type": "error",
     "traceback": [
      "\u001b[0;31m---------------------------------------------------------------------------\u001b[0m",
      "\u001b[0;31mNameError\u001b[0m                                 Traceback (most recent call last)",
      "Cell \u001b[0;32mIn[50], line 1\u001b[0m\n\u001b[0;32m----> 1\u001b[0m \u001b[43mpython_dict\u001b[49m\n",
      "\u001b[0;31mNameError\u001b[0m: name 'python_dict' is not defined"
     ]
    }
   ],
   "source": [
    "python_dict"
   ]
  },
  {
   "cell_type": "code",
   "execution_count": 51,
   "metadata": {},
   "outputs": [],
   "source": [
    "a = {\"one\": 1}\n",
    "b = {\"one\": 2, \"two\": 2}"
   ]
  },
  {
   "cell_type": "code",
   "execution_count": 52,
   "metadata": {},
   "outputs": [
    {
     "data": {
      "text/plain": [
       "{'one': 1}"
      ]
     },
     "execution_count": 52,
     "metadata": {},
     "output_type": "execute_result"
    }
   ],
   "source": [
    "c = {**a}\n",
    "\n",
    "c"
   ]
  },
  {
   "cell_type": "code",
   "execution_count": 53,
   "metadata": {},
   "outputs": [
    {
     "data": {
      "text/plain": [
       "{'one': 2, 'two': 2}"
      ]
     },
     "execution_count": 53,
     "metadata": {},
     "output_type": "execute_result"
    }
   ],
   "source": [
    "c = {**a, **b}\n",
    "\n",
    "c"
   ]
  },
  {
   "cell_type": "code",
   "execution_count": 54,
   "metadata": {},
   "outputs": [
    {
     "data": {
      "text/plain": [
       "{'one': 1, 'two': 2}"
      ]
     },
     "execution_count": 54,
     "metadata": {},
     "output_type": "execute_result"
    }
   ],
   "source": [
    "c = { **b, **a}\n",
    "\n",
    "c"
   ]
  },
  {
   "cell_type": "code",
   "execution_count": 55,
   "metadata": {},
   "outputs": [
    {
     "name": "stdout",
     "output_type": "stream",
     "text": [
      "a = {'one': 1}\n",
      "b = {'one': 2, 'two': 2}\n",
      "\n",
      "a = {'one': 2, 'two': 2}\n",
      "b = {'one': 2, 'two': 2}\n"
     ]
    }
   ],
   "source": [
    "a = {\"one\": 1}\n",
    "b = {\"one\": 2, \"two\": 2}\n",
    "\n",
    "print(f\"{a = }\")\n",
    "print(f\"{b = }\")\n",
    "print()\n",
    "\n",
    "a |= b\n",
    "print(f\"{a = }\")\n",
    "print(f\"{b = }\")"
   ]
  },
  {
   "cell_type": "code",
   "execution_count": 56,
   "metadata": {},
   "outputs": [
    {
     "name": "stdout",
     "output_type": "stream",
     "text": [
      "{0}\n",
      "{False}\n"
     ]
    }
   ],
   "source": [
    "print({0} | {False}) \n",
    "print({False} | {0})"
   ]
  },
  {
   "cell_type": "code",
   "execution_count": 57,
   "metadata": {},
   "outputs": [
    {
     "name": "stdout",
     "output_type": "stream",
     "text": [
      "{0: 'False'}\n",
      "{False: '0'}\n"
     ]
    }
   ],
   "source": [
    "print({0: \"0\"} | {False: \"False\"})\n",
    "print({False: \"False\"} | {0: \"0\"})"
   ]
  },
  {
   "cell_type": "code",
   "execution_count": 58,
   "metadata": {},
   "outputs": [
    {
     "name": "stdout",
     "output_type": "stream",
     "text": [
      "{0: 'False', 1: 'True'}\n",
      "{False: 'zero', True: 'one'}\n"
     ]
    }
   ],
   "source": [
    "mydict = {0: \"zero\", False: \"False\", 1: \"one\", True: \"True\"}\n",
    "print(mydict)\n",
    "\n",
    "mydict = {False: \"False\", 0: \"zero\", True: \"True\", 1: \"one\"}\n",
    "print(mydict)"
   ]
  },
  {
   "cell_type": "code",
   "execution_count": 59,
   "metadata": {},
   "outputs": [
    {
     "name": "stdout",
     "output_type": "stream",
     "text": [
      "{'name': 'zebra', 'continent': ('Africa', 'Asia')}\n"
     ]
    }
   ],
   "source": [
    "animal = {\"name\": \"zebra\", \"continent\": (\"Africa\", \"Asia\")}\n",
    "print(animal)"
   ]
  },
  {
   "cell_type": "code",
   "execution_count": 60,
   "metadata": {},
   "outputs": [
    {
     "name": "stdout",
     "output_type": "stream",
     "text": [
      "{'name': None, 'continent': None}\n"
     ]
    }
   ],
   "source": [
    "animal_schema = {}\n",
    "animal_schema = animal_schema.fromkeys(animal)\n",
    "print(animal_schema)"
   ]
  },
  {
   "cell_type": "code",
   "execution_count": 61,
   "metadata": {},
   "outputs": [
    {
     "name": "stdout",
     "output_type": "stream",
     "text": [
      "{'name': None, 'continent': None}\n",
      "{'name': 'None', 'continent': 'None'}\n",
      "{'name': '', 'continent': ''}\n"
     ]
    }
   ],
   "source": [
    "animal_schema = animal_schema.fromkeys(animal, None)\n",
    "print(animal_schema)\n",
    "\n",
    "animal_schema = animal_schema.fromkeys(animal, \"None\")\n",
    "print(animal_schema)\n",
    "\n",
    "animal_schema = animal_schema.fromkeys(animal, \"\")\n",
    "print(animal_schema)"
   ]
  },
  {
   "cell_type": "code",
   "execution_count": 62,
   "metadata": {},
   "outputs": [
    {
     "name": "stdout",
     "output_type": "stream",
     "text": [
      "\n",
      "id(animal) = 134757320462336\n",
      "After dict.clear(), animal ={}\n",
      "id(animal) = 134757320462336\n"
     ]
    }
   ],
   "source": [
    "print()\n",
    "print(f\"{id(animal) = }\")\n",
    "animal.clear()  # will flush the key-value pairs in dict\n",
    "print(f\"After dict.clear(), {animal =}\")\n",
    "print(f\"{id(animal) = }\")"
   ]
  },
  {
   "cell_type": "code",
   "execution_count": 63,
   "metadata": {},
   "outputs": [],
   "source": [
    "a = {\"one\": 1, \"two\": 2, \"three\": 3}\n",
    "b = dict(one=1, two=2, three=3)\n",
    "\n",
    "c = dict([(\"two\", 2), (\"one\", 1), (\"three\", 3)])\n",
    "d = dict(zip([\"one\", \"two\", \"three\"], [1, 2, 3]))\n",
    "\n",
    "e = dict({\"three\": 3, \"one\": 1, \"two\": 2})\n",
    "\n",
    "assert a == b == c == d == e"
   ]
  },
  {
   "cell_type": "code",
   "execution_count": 64,
   "metadata": {},
   "outputs": [
    {
     "data": {
      "text/plain": [
       "['p', 'y', 't', 'h', 'o', 'n']"
      ]
     },
     "execution_count": 64,
     "metadata": {},
     "output_type": "execute_result"
    }
   ],
   "source": [
    "list('python')"
   ]
  },
  {
   "cell_type": "code",
   "execution_count": 65,
   "metadata": {},
   "outputs": [
    {
     "data": {
      "text/plain": [
       "('p', 'y', 't', 'h', 'o', 'n')"
      ]
     },
     "execution_count": 65,
     "metadata": {},
     "output_type": "execute_result"
    }
   ],
   "source": [
    "tuple('python')"
   ]
  },
  {
   "cell_type": "code",
   "execution_count": 66,
   "metadata": {},
   "outputs": [
    {
     "data": {
      "text/plain": [
       "{'h', 'n', 'o', 'p', 't', 'y'}"
      ]
     },
     "execution_count": 66,
     "metadata": {},
     "output_type": "execute_result"
    }
   ],
   "source": [
    "set('python')"
   ]
  },
  {
   "cell_type": "code",
   "execution_count": 67,
   "metadata": {},
   "outputs": [
    {
     "name": "stdout",
     "output_type": "stream",
     "text": [
      "{1: 'red', 2: 'blue', 3: 'yellow'}\n",
      "{'red': 1, 'blue': 2, 'yellow': 3}\n",
      "{'red': 1, 'blue': 2, 'yellow': 3}\n"
     ]
    }
   ],
   "source": [
    "data = [(1, \"red\"), (2, \"blue\"), (3, \"yellow\")]\n",
    "print(dict(data))\n",
    "\n",
    "data = [(\"red\", 1), (\"blue\", 2), (\"yellow\", 3)]\n",
    "print(dict(data))\n",
    "\n",
    "data = ((\"red\", 1), (\"blue\", 2), (\"yellow\", 3))\n",
    "print(dict(data))"
   ]
  },
  {
   "cell_type": "code",
   "execution_count": 68,
   "metadata": {},
   "outputs": [
    {
     "name": "stdout",
     "output_type": "stream",
     "text": [
      "{'red': 1, 'blue': 2, 'yellow': 3}\n"
     ]
    }
   ],
   "source": [
    "data = ([\"red\", 1], [\"blue\", 2], (\"yellow\", 3))\n",
    "print(dict(data))"
   ]
  },
  {
   "cell_type": "code",
   "execution_count": 69,
   "metadata": {},
   "outputs": [
    {
     "name": "stdout",
     "output_type": "stream",
     "text": [
      "{'red': (1, 'A'), 'blue': (2, 'B'), 'yellow': (3, 'C')}\n",
      "{('red', 1): 'A', ('blue', 2): 'B', 'yellow': (3, 'C')}\n"
     ]
    }
   ],
   "source": [
    "data = ([\"red\", (1, \"A\")], [\"blue\", (2, \"B\")], (\"yellow\", (3, \"C\")))\n",
    "print(dict(data))\n",
    "\n",
    "data = ([(\"red\", 1), \"A\"], [(\"blue\", 2), \"B\"], (\"yellow\", (3, \"C\")))\n",
    "print(dict(data))"
   ]
  },
  {
   "cell_type": "code",
   "execution_count": 70,
   "metadata": {},
   "outputs": [
    {
     "data": {
      "text/plain": [
       "<zip at 0x7a8fa1f1b0c0>"
      ]
     },
     "execution_count": 70,
     "metadata": {},
     "output_type": "execute_result"
    }
   ],
   "source": [
    "cities = (\"New Delhi\", \"New York\", \"Shangai\", \"Berlin\")\n",
    "countries = [\"India\", \"USA\", \"China\", \"Germany\"]\n",
    "\n",
    "\n",
    "zip(cities, countries)"
   ]
  },
  {
   "cell_type": "code",
   "execution_count": 71,
   "metadata": {},
   "outputs": [
    {
     "data": {
      "text/plain": [
       "[('New Delhi', 'India'),\n",
       " ('New York', 'USA'),\n",
       " ('Shangai', 'China'),\n",
       " ('Berlin', 'Germany')]"
      ]
     },
     "execution_count": 71,
     "metadata": {},
     "output_type": "execute_result"
    }
   ],
   "source": [
    "list(zip(cities, countries))"
   ]
  },
  {
   "cell_type": "code",
   "execution_count": 72,
   "metadata": {},
   "outputs": [
    {
     "name": "stdout",
     "output_type": "stream",
     "text": [
      "{'Berlin': 'Germany',\n",
      " 'New Delhi': 'India',\n",
      " 'New York': 'USA',\n",
      " 'Shangai': 'China'}\n"
     ]
    }
   ],
   "source": [
    "cities_n_countries = dict(zip(cities, countries))\n",
    "pprint(cities_n_countries)"
   ]
  },
  {
   "cell_type": "code",
   "execution_count": 73,
   "metadata": {},
   "outputs": [
    {
     "name": "stdout",
     "output_type": "stream",
     "text": [
      "{'China': 'Shangai',\n",
      " 'Germany': 'Berlin',\n",
      " 'India': 'New Delhi',\n",
      " 'USA': 'New York'}\n"
     ]
    }
   ],
   "source": [
    "counties_n_cities = dict(zip(countries, cities))\n",
    "pprint(counties_n_cities)"
   ]
  },
  {
   "cell_type": "code",
   "execution_count": 74,
   "metadata": {},
   "outputs": [
    {
     "name": "stdout",
     "output_type": "stream",
     "text": [
      "{'P': 0, 'y': 1, 't': 2, 'h': 3, 'o': 4, 'n': 5}\n"
     ]
    }
   ],
   "source": [
    "print(dict(zip(\"Python\", range(6))))"
   ]
  },
  {
   "cell_type": "code",
   "execution_count": 75,
   "metadata": {},
   "outputs": [
    {
     "name": "stdout",
     "output_type": "stream",
     "text": [
      "{'P': 'f', 'y': 'i', 't': 's', 'h': 'h'}\n"
     ]
    }
   ],
   "source": [
    "print(dict(zip(\"Python\", \"fish\")))"
   ]
  },
  {
   "cell_type": "code",
   "execution_count": 76,
   "metadata": {},
   "outputs": [
    {
     "name": "stdout",
     "output_type": "stream",
     "text": [
      "Original Dictionary: {'a': 1, 'b': 2, 'c': 3}\n",
      "Swapped Dictionary: {1: 'a', 2: 'b', 3: 'c'}\n"
     ]
    }
   ],
   "source": [
    "def swap_keys_values(input_dict):\n",
    "    return {v: k for k, v in input_dict.items()}\n",
    "\n",
    "original_dict = {\"a\": 1, \"b\": 2, \"c\": 3}\n",
    "swapped_dict = swap_keys_values(original_dict)\n",
    "\n",
    "print(\"Original Dictionary:\", original_dict)\n",
    "print(\"Swapped Dictionary:\", swapped_dict)"
   ]
  }
 ],
 "metadata": {
  "kernelspec": {
   "display_name": "Python 3",
   "language": "python",
   "name": "python3"
  },
  "language_info": {
   "codemirror_mode": {
    "name": "ipython",
    "version": 3
   },
   "file_extension": ".py",
   "mimetype": "text/x-python",
   "name": "python",
   "nbconvert_exporter": "python",
   "pygments_lexer": "ipython3",
   "version": "3.12.1"
  }
 },
 "nbformat": 4,
 "nbformat_minor": 2
}
