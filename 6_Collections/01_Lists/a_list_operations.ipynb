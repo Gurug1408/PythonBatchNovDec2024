{
 "cells": [
  {
   "cell_type": "code",
   "execution_count": 1,
   "metadata": {},
   "outputs": [
    {
     "name": "stdout",
     "output_type": "stream",
     "text": [
      "<class 'list'> empty_list = []\n",
      "len(empty_list) =0\n"
     ]
    }
   ],
   "source": [
    "empty_list = []\n",
    "\n",
    "print(f\"{type(empty_list)} {empty_list = }\")\n",
    "print(f\"{len(empty_list) =}\")"
   ]
  },
  {
   "cell_type": "code",
   "execution_count": 2,
   "metadata": {},
   "outputs": [
    {
     "name": "stdout",
     "output_type": "stream",
     "text": [
      "\n",
      "<class 'list'> numbers =[54, 554, 46, 5, -546]\n",
      "len(numbers) =5\n"
     ]
    }
   ],
   "source": [
    "numbers = [54, 554, 46, 5, -546]\n",
    "print(f\"\\n{type(numbers)} {numbers =}\")\n",
    "print(f\"{len(numbers) =}\")"
   ]
  },
  {
   "cell_type": "code",
   "execution_count": 3,
   "metadata": {},
   "outputs": [
    {
     "name": "stdout",
     "output_type": "stream",
     "text": [
      "\n",
      "<class 'list'> numbers =[12, 3.4, -4e-05, 434243432432, 'abc', True, 13.166666666666666, '4 + 55 / 6']\n",
      "len(numbers) =8\n"
     ]
    }
   ],
   "source": [
    "numbers = [12, 3.4, -0.00004, 434243432432, \"abc\", True, 4 + 55 / 6, \"4 + 55 / 6\"]\n",
    "print(f\"\\n{type(numbers)} {numbers =}\")\n",
    "print(f\"{len(numbers) =}\")"
   ]
  },
  {
   "cell_type": "code",
   "execution_count": 1,
   "metadata": {},
   "outputs": [
    {
     "name": "stdout",
     "output_type": "stream",
     "text": [
      "\n",
      "<class 'list'> ml =[1, 2, 3, 4.3, 5, [6, 7, 8, (9, 10)]]\n",
      "len(ml) =6\n"
     ]
    }
   ],
   "source": [
    "ml = [1, 2, 3, 4.3, 5, [6, 7, 8, (9, 10)]]\n",
    "print(f\"\\n{type(ml)} {ml =}\")\n",
    "print(f\"{len(ml) =}\")"
   ]
  },
  {
   "cell_type": "code",
   "execution_count": 2,
   "metadata": {},
   "outputs": [
    {
     "name": "stdout",
     "output_type": "stream",
     "text": [
      "<class 'float'> ml[3] =4.3\n",
      "<class 'int'> ml[4] =5\n"
     ]
    }
   ],
   "source": [
    "print(f\"{type(ml[3])} {ml[3] =}\")\n",
    "print(f\"{type(ml[4])} {ml[4] =}\")"
   ]
  },
  {
   "cell_type": "code",
   "execution_count": 3,
   "metadata": {},
   "outputs": [
    {
     "name": "stdout",
     "output_type": "stream",
     "text": [
      "\n",
      "<class 'list'> ml[5] =[6, 7, 8, (9, 10)]\n",
      "<class 'int'> ml[5][1] =7\n",
      "<class 'tuple'> ml[5][3] =(9, 10)\n"
     ]
    }
   ],
   "source": [
    "print(f\"\\n{type(ml[5])} {ml[5] =}\")\n",
    "print(f\"{type(ml[5][1])} {ml[5][1] =}\")\n",
    "print(f\"{type(ml[5][3])} {ml[5][3] =}\")"
   ]
  },
  {
   "cell_type": "code",
   "execution_count": 4,
   "metadata": {},
   "outputs": [
    {
     "data": {
      "text/plain": [
       "[6, 7, 8, (9, 10)]"
      ]
     },
     "execution_count": 4,
     "metadata": {},
     "output_type": "execute_result"
    }
   ],
   "source": [
    "ml = [1, 2, 3, 4.3, 5, [6, 7, 8, (9, 10)]]\n",
    "ml[5]"
   ]
  },
  {
   "cell_type": "code",
   "execution_count": 5,
   "metadata": {},
   "outputs": [
    {
     "data": {
      "text/plain": [
       "(9, 10)"
      ]
     },
     "execution_count": 5,
     "metadata": {},
     "output_type": "execute_result"
    }
   ],
   "source": [
    "ml[5][3]"
   ]
  },
  {
   "cell_type": "code",
   "execution_count": 6,
   "metadata": {},
   "outputs": [
    {
     "data": {
      "text/plain": [
       "9"
      ]
     },
     "execution_count": 6,
     "metadata": {},
     "output_type": "execute_result"
    }
   ],
   "source": [
    "ml[5][3][0]"
   ]
  },
  {
   "cell_type": "code",
   "execution_count": 7,
   "metadata": {},
   "outputs": [
    {
     "data": {
      "text/plain": [
       "[1, 2, 3, 4.3, 5, [6, 7, 8, (9, 10)]]"
      ]
     },
     "execution_count": 7,
     "metadata": {},
     "output_type": "execute_result"
    }
   ],
   "source": [
    "ml"
   ]
  },
  {
   "cell_type": "code",
   "execution_count": 8,
   "metadata": {},
   "outputs": [
    {
     "data": {
      "text/plain": [
       "[6, 7, 8, (9, 10)]"
      ]
     },
     "execution_count": 8,
     "metadata": {},
     "output_type": "execute_result"
    }
   ],
   "source": [
    "ml[-1]"
   ]
  },
  {
   "cell_type": "code",
   "execution_count": 9,
   "metadata": {},
   "outputs": [
    {
     "data": {
      "text/plain": [
       "(9, 10)"
      ]
     },
     "execution_count": 9,
     "metadata": {},
     "output_type": "execute_result"
    }
   ],
   "source": [
    "ml[-1][-1]"
   ]
  },
  {
   "cell_type": "code",
   "execution_count": 10,
   "metadata": {},
   "outputs": [
    {
     "data": {
      "text/plain": [
       "9"
      ]
     },
     "execution_count": 10,
     "metadata": {},
     "output_type": "execute_result"
    }
   ],
   "source": [
    "ml[-1][-1][-2]"
   ]
  },
  {
   "cell_type": "code",
   "execution_count": 11,
   "metadata": {},
   "outputs": [
    {
     "data": {
      "text/plain": [
       "9"
      ]
     },
     "execution_count": 11,
     "metadata": {},
     "output_type": "execute_result"
    }
   ],
   "source": [
    "ml[-1][3][-2]"
   ]
  },
  {
   "cell_type": "code",
   "execution_count": 12,
   "metadata": {},
   "outputs": [
    {
     "name": "stdout",
     "output_type": "stream",
     "text": [
      "True\n"
     ]
    }
   ],
   "source": [
    "print(ml[-5] == ml[1])\n",
    "assert ml[-5] == ml[1]"
   ]
  },
  {
   "cell_type": "code",
   "execution_count": 13,
   "metadata": {},
   "outputs": [
    {
     "name": "stdout",
     "output_type": "stream",
     "text": [
      "num1 =1234 <class 'int'> id(num1)=134296715654736\n"
     ]
    }
   ],
   "source": [
    "num1 = 1234\n",
    "print(f\"{num1 =} {type(num1)} {id(num1)=}\")"
   ]
  },
  {
   "cell_type": "code",
   "execution_count": 14,
   "metadata": {},
   "outputs": [
    {
     "name": "stdout",
     "output_type": "stream",
     "text": [
      "num1 =9999 <class 'int'> id(num1)=134296715653488\n"
     ]
    }
   ],
   "source": [
    "num1 = 9999 \n",
    "print(f\"{num1 =} {type(num1)} {id(num1)=}\")"
   ]
  },
  {
   "cell_type": "code",
   "execution_count": 15,
   "metadata": {},
   "outputs": [
    {
     "name": "stdout",
     "output_type": "stream",
     "text": [
      "\n",
      "String is a immutable object ===\n",
      "name         :Raj Sekhar\n",
      "name[0:3]    :Raj\n"
     ]
    }
   ],
   "source": [
    "print(\"\\nString is a immutable object ===\")\n",
    "name = \"Raj Sekhar\"\n",
    "print(f\"name         :{name}\")\n",
    "print(f\"name[0:3]    :{name[0:3]}\")"
   ]
  },
  {
   "cell_type": "code",
   "execution_count": 16,
   "metadata": {},
   "outputs": [
    {
     "ename": "TypeError",
     "evalue": "'str' object does not support item assignment",
     "output_type": "error",
     "traceback": [
      "\u001b[0;31m---------------------------------------------------------------------------\u001b[0m",
      "\u001b[0;31mTypeError\u001b[0m                                 Traceback (most recent call last)",
      "Cell \u001b[0;32mIn[16], line 1\u001b[0m\n\u001b[0;32m----> 1\u001b[0m \u001b[43mname\u001b[49m\u001b[43m[\u001b[49m\u001b[38;5;241;43m0\u001b[39;49m\u001b[43m:\u001b[49m\u001b[38;5;241;43m3\u001b[39;49m\u001b[43m]\u001b[49m \u001b[38;5;241m=\u001b[39m \u001b[38;5;124m\"\u001b[39m\u001b[38;5;124mTej\u001b[39m\u001b[38;5;124m\"\u001b[39m\n",
      "\u001b[0;31mTypeError\u001b[0m: 'str' object does not support item assignment"
     ]
    }
   ],
   "source": [
    "name[0:3] = \"Tej\""
   ]
  },
  {
   "cell_type": "code",
   "execution_count": 17,
   "metadata": {},
   "outputs": [
    {
     "name": "stdout",
     "output_type": "stream",
     "text": [
      "id(name) = 134296587356080\n",
      "id(name) = 134296587362544\n"
     ]
    }
   ],
   "source": [
    "print(f'{id(name) = }')\n",
    "name = \"Tej Sekhar\"    \n",
    "print(f'{id(name) = }')"
   ]
  },
  {
   "cell_type": "code",
   "execution_count": 18,
   "metadata": {},
   "outputs": [
    {
     "name": "stdout",
     "output_type": "stream",
     "text": [
      "id(name) = 134296587362544\n",
      "id(name) = 134296582477552\n"
     ]
    }
   ],
   "source": [
    "print(f'{id(name) = }')\n",
    "name = \"Tej Sekhar\"      # OVERwriting\n",
    "print(f'{id(name) = }')"
   ]
  },
  {
   "cell_type": "code",
   "execution_count": 19,
   "metadata": {},
   "outputs": [
    {
     "data": {
      "text/plain": [
       "'Tej Sekhar'"
      ]
     },
     "execution_count": 19,
     "metadata": {},
     "output_type": "execute_result"
    }
   ],
   "source": [
    "name"
   ]
  },
  {
   "cell_type": "code",
   "execution_count": 20,
   "metadata": {},
   "outputs": [
    {
     "name": "stdout",
     "output_type": "stream",
     "text": [
      "id(name) = 134296582477552\n",
      "id(name) = 134296582514736\n"
     ]
    }
   ],
   "source": [
    "print(f'{id(name) = }')\n",
    "name = \"Charan G\"    \n",
    "print(f'{id(name) = }')"
   ]
  },
  {
   "cell_type": "code",
   "execution_count": 21,
   "metadata": {},
   "outputs": [
    {
     "data": {
      "text/plain": [
       "'Charan G'"
      ]
     },
     "execution_count": 21,
     "metadata": {},
     "output_type": "execute_result"
    }
   ],
   "source": [
    "name"
   ]
  },
  {
   "cell_type": "code",
   "execution_count": 22,
   "metadata": {},
   "outputs": [
    {
     "name": "stdout",
     "output_type": "stream",
     "text": [
      "\n",
      "List is a mutable object =======\n",
      "ml            [1, 2, 3, 4.3, 5, [6, 7, 8, (9, 10)]]\n",
      "type(ml)      <class 'list'>\n",
      "id(ml)        134296582527552\n"
     ]
    }
   ],
   "source": [
    "ml = [1, 2, 3, 4.3, 5, [6, 7, 8, (9, 10)]]\n",
    "print()\n",
    "print(\"List is a mutable object =======\")\n",
    "print(\"ml           \", ml)        \n",
    "print(\"type(ml)     \", type(ml)) \n",
    "print(\"id(ml)       \", id(ml))"
   ]
  },
  {
   "cell_type": "code",
   "execution_count": 23,
   "metadata": {},
   "outputs": [
    {
     "data": {
      "text/plain": [
       "4.3"
      ]
     },
     "execution_count": 23,
     "metadata": {},
     "output_type": "execute_result"
    }
   ],
   "source": [
    "ml[3]"
   ]
  },
  {
   "cell_type": "code",
   "execution_count": 24,
   "metadata": {},
   "outputs": [],
   "source": [
    "ml[3] = 5.6"
   ]
  },
  {
   "cell_type": "code",
   "execution_count": 25,
   "metadata": {},
   "outputs": [
    {
     "data": {
      "text/plain": [
       "[1, 2, 3, 5.6, 5, [6, 7, 8, (9, 10)]]"
      ]
     },
     "execution_count": 25,
     "metadata": {},
     "output_type": "execute_result"
    }
   ],
   "source": [
    "ml"
   ]
  },
  {
   "cell_type": "code",
   "execution_count": 26,
   "metadata": {},
   "outputs": [
    {
     "name": "stdout",
     "output_type": "stream",
     "text": [
      "id(ml)        134296582527552\n"
     ]
    }
   ],
   "source": [
    "print(\"id(ml)       \", id(ml))"
   ]
  },
  {
   "cell_type": "code",
   "execution_count": 27,
   "metadata": {},
   "outputs": [
    {
     "name": "stdout",
     "output_type": "stream",
     "text": [
      "type(numbers)    = <class 'list'>\n",
      "dir(numbers)     = ['__add__', '__class__', '__class_getitem__', '__contains__', '__delattr__', '__delitem__', '__dir__', '__doc__', '__eq__', '__format__', '__ge__', '__getattribute__', '__getitem__', '__getstate__', '__gt__', '__hash__', '__iadd__', '__imul__', '__init__', '__init_subclass__', '__iter__', '__le__', '__len__', '__lt__', '__mul__', '__ne__', '__new__', '__reduce__', '__reduce_ex__', '__repr__', '__reversed__', '__rmul__', '__setattr__', '__setitem__', '__sizeof__', '__str__', '__subclasshook__', 'append', 'clear', 'copy', 'count', 'extend', 'index', 'insert', 'pop', 'remove', 'reverse', 'sort']\n"
     ]
    }
   ],
   "source": [
    "numbers = [55, 66, 777]\n",
    "\n",
    "print(\"type(numbers)    =\", type(numbers))\n",
    "print(\"dir(numbers)     =\", dir(numbers))"
   ]
  },
  {
   "cell_type": "code",
   "execution_count": 28,
   "metadata": {},
   "outputs": [
    {
     "name": "stdout",
     "output_type": "stream",
     "text": [
      "len(numbers)            = 3\n",
      "numbers.__len__()       = 3\n"
     ]
    }
   ],
   "source": [
    "print(\"len(numbers)            =\", len(numbers))\n",
    "print(\"numbers.__len__()       =\", numbers.__len__())\n",
    "assert len(numbers) == numbers.__len__()"
   ]
  },
  {
   "cell_type": "code",
   "execution_count": 29,
   "metadata": {},
   "outputs": [
    {
     "name": "stdout",
     "output_type": "stream",
     "text": [
      "str(numbers)           = [55, 66, 777]\n",
      "type(str(numbers))     = <class 'str'>\n",
      "numbers.__str__()      = [55, 66, 777]\n",
      "type(numbers.__str__())= <class 'str'>\n"
     ]
    }
   ],
   "source": [
    "print(\"str(numbers)           =\", str(numbers))\n",
    "print(\"type(str(numbers))     =\", type(str(numbers)))\n",
    "print(\"numbers.__str__()      =\", numbers.__str__())\n",
    "print(\"type(numbers.__str__())=\", type(numbers.__str__()))\n",
    "assert str(numbers) == numbers.__str__()"
   ]
  },
  {
   "cell_type": "code",
   "execution_count": 30,
   "metadata": {},
   "outputs": [
    {
     "name": "stdout",
     "output_type": "stream",
     "text": [
      "numbers * 3         = [55, 66, 777, 55, 66, 777, 55, 66, 777]\n",
      "numbers             = [55, 66, 777]\n",
      "numbers.__mul__(3)  = [55, 66, 777, 55, 66, 777, 55, 66, 777]\n",
      "numbers             = [55, 66, 777]\n"
     ]
    }
   ],
   "source": [
    "print(\"numbers * 3         =\", numbers * 3)\n",
    "print(\"numbers             =\", numbers)\n",
    "print(\"numbers.__mul__(3)  =\", numbers.__mul__(3))\n",
    "print(\"numbers             =\", numbers)\n",
    "assert numbers * 3 == numbers.__mul__(3)"
   ]
  },
  {
   "cell_type": "code",
   "execution_count": 31,
   "metadata": {},
   "outputs": [
    {
     "name": "stdout",
     "output_type": "stream",
     "text": [
      "numbers.__imul__(3) = [55, 66, 777, 55, 66, 777, 55, 66, 777]\n",
      "numbers             = [55, 66, 777, 55, 66, 777, 55, 66, 777]\n"
     ]
    }
   ],
   "source": [
    "print(\"numbers.__imul__(3) =\", numbers.__imul__(3))\n",
    "print(\"numbers             =\", numbers)"
   ]
  },
  {
   "cell_type": "code",
   "execution_count": 32,
   "metadata": {},
   "outputs": [
    {
     "name": "stdout",
     "output_type": "stream",
     "text": [
      "id(numbers)          = 134296582369664\n",
      "id(numbers)          = 134296582525248\n",
      "id(numbers)          = 134296587345024\n"
     ]
    }
   ],
   "source": [
    "print(\"id(numbers)          =\", id(numbers))\n",
    "numbers = [88, 99, 666]\n",
    "print(\"id(numbers)          =\", id(numbers))\n",
    "numbers = [88, 99, 666]\n",
    "print(\"id(numbers)          =\", id(numbers))"
   ]
  },
  {
   "cell_type": "code",
   "execution_count": 33,
   "metadata": {},
   "outputs": [
    {
     "name": "stdout",
     "output_type": "stream",
     "text": [
      "id(numbers)          = 134296587345024\n",
      "id(numbers)          = 134296587204928\n",
      "id(numbers)          = 134296582515200\n"
     ]
    }
   ],
   "source": [
    "print(\"id(numbers)          =\", id(numbers))\n",
    "numbers = [44, 55, 666]\n",
    "print(\"id(numbers)          =\", id(numbers))\n",
    "numbers = [44, 55, 666]\n",
    "print(\"id(numbers)          =\", id(numbers))"
   ]
  },
  {
   "cell_type": "code",
   "execution_count": 34,
   "metadata": {},
   "outputs": [
    {
     "name": "stdout",
     "output_type": "stream",
     "text": [
      "id(number)          = 134296582041744\n",
      "id(number)          = 134296582040784\n"
     ]
    }
   ],
   "source": [
    "number = 123312\n",
    "print(\"id(number)          =\", id(number))\n",
    "number = 99999\n",
    "print(\"id(number)          =\", id(number))"
   ]
  },
  {
   "cell_type": "code",
   "execution_count": 35,
   "metadata": {},
   "outputs": [],
   "source": [
    "alphabets = [\"b\", \"c\"]"
   ]
  },
  {
   "cell_type": "code",
   "execution_count": 36,
   "metadata": {},
   "outputs": [
    {
     "data": {
      "text/plain": [
       "[44, 55, 666]"
      ]
     },
     "execution_count": 36,
     "metadata": {},
     "output_type": "execute_result"
    }
   ],
   "source": [
    "numbers"
   ]
  },
  {
   "cell_type": "code",
   "execution_count": 37,
   "metadata": {},
   "outputs": [
    {
     "data": {
      "text/plain": [
       "[44, 55, 666, 'b', 'c']"
      ]
     },
     "execution_count": 37,
     "metadata": {},
     "output_type": "execute_result"
    }
   ],
   "source": [
    "numbers + alphabets"
   ]
  },
  {
   "cell_type": "code",
   "execution_count": 38,
   "metadata": {},
   "outputs": [
    {
     "data": {
      "text/plain": [
       "[44, 55, 666, 'b', 'c']"
      ]
     },
     "execution_count": 38,
     "metadata": {},
     "output_type": "execute_result"
    }
   ],
   "source": [
    "numbers.__add__(alphabets)"
   ]
  },
  {
   "cell_type": "code",
   "execution_count": 39,
   "metadata": {},
   "outputs": [
    {
     "data": {
      "text/plain": [
       "[44, 55, 666, 'b', 'c']"
      ]
     },
     "execution_count": 39,
     "metadata": {},
     "output_type": "execute_result"
    }
   ],
   "source": [
    "numbers.__iadd__(alphabets)"
   ]
  },
  {
   "cell_type": "code",
   "execution_count": 40,
   "metadata": {},
   "outputs": [
    {
     "data": {
      "text/plain": [
       "['b', 'c']"
      ]
     },
     "execution_count": 40,
     "metadata": {},
     "output_type": "execute_result"
    }
   ],
   "source": [
    "alphabets"
   ]
  },
  {
   "cell_type": "code",
   "execution_count": 41,
   "metadata": {},
   "outputs": [
    {
     "data": {
      "text/plain": [
       "[44, 55, 666, 'b', 'c']"
      ]
     },
     "execution_count": 41,
     "metadata": {},
     "output_type": "execute_result"
    }
   ],
   "source": [
    "numbers"
   ]
  },
  {
   "cell_type": "code",
   "execution_count": 42,
   "metadata": {},
   "outputs": [
    {
     "name": "stdout",
     "output_type": "stream",
     "text": [
      "numbers.__contains__(12) = False\n",
      "12 in numbers            = False\n",
      "numbers.__contains__('b') = True\n",
      "'b' in numbers            = True\n"
     ]
    }
   ],
   "source": [
    "print(\"numbers.__contains__(12) =\", numbers.__contains__(12))\n",
    "print(\"12 in numbers            =\", 12 in numbers)\n",
    "\n",
    "print(\"numbers.__contains__('b') =\", numbers.__contains__(\"b\"))\n",
    "print(\"'b' in numbers            =\", \"b\" in numbers)"
   ]
  },
  {
   "cell_type": "code",
   "execution_count": 43,
   "metadata": {},
   "outputs": [
    {
     "data": {
      "text/plain": [
       "104"
      ]
     },
     "execution_count": 43,
     "metadata": {},
     "output_type": "execute_result"
    }
   ],
   "source": [
    "numbers.__sizeof__()"
   ]
  },
  {
   "cell_type": "code",
   "execution_count": 44,
   "metadata": {},
   "outputs": [
    {
     "data": {
      "text/plain": [
       "True"
      ]
     },
     "execution_count": 44,
     "metadata": {},
     "output_type": "execute_result"
    }
   ],
   "source": [
    "callable(number.__sizeof__)"
   ]
  },
  {
   "cell_type": "code",
   "execution_count": 45,
   "metadata": {},
   "outputs": [
    {
     "name": "stdout",
     "output_type": "stream",
     "text": [
      "numbers.__sizeof__()  =104\n",
      "sys.getsizeof(numbers)=120\n"
     ]
    }
   ],
   "source": [
    "print(f\"{numbers.__sizeof__()  =}\")\n",
    "import sys\n",
    "print(f\"{sys.getsizeof(numbers)=}\")"
   ]
  },
  {
   "cell_type": "code",
   "execution_count": 46,
   "metadata": {},
   "outputs": [
    {
     "data": {
      "text/plain": [
       "'Built-in mutable sequence.\\n\\nIf no argument is given, the constructor creates a new empty list.\\nThe argument must be an iterable if specified.'"
      ]
     },
     "execution_count": 46,
     "metadata": {},
     "output_type": "execute_result"
    }
   ],
   "source": [
    "numbers.__doc__"
   ]
  },
  {
   "cell_type": "code",
   "execution_count": 47,
   "metadata": {},
   "outputs": [
    {
     "name": "stdout",
     "output_type": "stream",
     "text": [
      "Built-in mutable sequence.\n",
      "\n",
      "If no argument is given, the constructor creates a new empty list.\n",
      "The argument must be an iterable if specified.\n"
     ]
    }
   ],
   "source": [
    "print(numbers.__doc__)"
   ]
  },
  {
   "cell_type": "code",
   "execution_count": 48,
   "metadata": {},
   "outputs": [
    {
     "name": "stdout",
     "output_type": "stream",
     "text": [
      "Help on list object:\n",
      "\n",
      "class list(object)\n",
      " |  list(iterable=(), /)\n",
      " |\n",
      " |  Built-in mutable sequence.\n",
      " |\n",
      " |  If no argument is given, the constructor creates a new empty list.\n",
      " |  The argument must be an iterable if specified.\n",
      " |\n",
      " |  Methods defined here:\n",
      " |\n",
      " |  __add__(self, value, /)\n",
      " |      Return self+value.\n",
      " |\n",
      " |  __contains__(self, key, /)\n",
      " |      Return bool(key in self).\n",
      " |\n",
      " |  __delitem__(self, key, /)\n",
      " |      Delete self[key].\n",
      " |\n",
      " |  __eq__(self, value, /)\n",
      " |      Return self==value.\n",
      " |\n",
      " |  __ge__(self, value, /)\n",
      " |      Return self>=value.\n",
      " |\n",
      " |  __getattribute__(self, name, /)\n",
      " |      Return getattr(self, name).\n",
      " |\n",
      " |  __getitem__(self, index, /)\n",
      " |      Return self[index].\n",
      " |\n",
      " |  __gt__(self, value, /)\n",
      " |      Return self>value.\n",
      " |\n",
      " |  __iadd__(self, value, /)\n",
      " |      Implement self+=value.\n",
      " |\n",
      " |  __imul__(self, value, /)\n",
      " |      Implement self*=value.\n",
      " |\n",
      " |  __init__(self, /, *args, **kwargs)\n",
      " |      Initialize self.  See help(type(self)) for accurate signature.\n",
      " |\n",
      " |  __iter__(self, /)\n",
      " |      Implement iter(self).\n",
      " |\n",
      " |  __le__(self, value, /)\n",
      " |      Return self<=value.\n",
      " |\n",
      " |  __len__(self, /)\n",
      " |      Return len(self).\n",
      " |\n",
      " |  __lt__(self, value, /)\n",
      " |      Return self<value.\n",
      " |\n",
      " |  __mul__(self, value, /)\n",
      " |      Return self*value.\n",
      " |\n",
      " |  __ne__(self, value, /)\n",
      " |      Return self!=value.\n",
      " |\n",
      " |  __repr__(self, /)\n",
      " |      Return repr(self).\n",
      " |\n",
      " |  __reversed__(self, /)\n",
      " |      Return a reverse iterator over the list.\n",
      " |\n",
      " |  __rmul__(self, value, /)\n",
      " |      Return value*self.\n",
      " |\n",
      " |  __setitem__(self, key, value, /)\n",
      " |      Set self[key] to value.\n",
      " |\n",
      " |  __sizeof__(self, /)\n",
      " |      Return the size of the list in memory, in bytes.\n",
      " |\n",
      " |  append(self, object, /)\n",
      " |      Append object to the end of the list.\n",
      " |\n",
      " |  clear(self, /)\n",
      " |      Remove all items from list.\n",
      " |\n",
      " |  copy(self, /)\n",
      " |      Return a shallow copy of the list.\n",
      " |\n",
      " |  count(self, value, /)\n",
      " |      Return number of occurrences of value.\n",
      " |\n",
      " |  extend(self, iterable, /)\n",
      " |      Extend list by appending elements from the iterable.\n",
      " |\n",
      " |  index(self, value, start=0, stop=9223372036854775807, /)\n",
      " |      Return first index of value.\n",
      " |\n",
      " |      Raises ValueError if the value is not present.\n",
      " |\n",
      " |  insert(self, index, object, /)\n",
      " |      Insert object before index.\n",
      " |\n",
      " |  pop(self, index=-1, /)\n",
      " |      Remove and return item at index (default last).\n",
      " |\n",
      " |      Raises IndexError if list is empty or index is out of range.\n",
      " |\n",
      " |  remove(self, value, /)\n",
      " |      Remove first occurrence of value.\n",
      " |\n",
      " |      Raises ValueError if the value is not present.\n",
      " |\n",
      " |  reverse(self, /)\n",
      " |      Reverse *IN PLACE*.\n",
      " |\n",
      " |  sort(self, /, *, key=None, reverse=False)\n",
      " |      Sort the list in ascending order and return None.\n",
      " |\n",
      " |      The sort is in-place (i.e. the list itself is modified) and stable (i.e. the\n",
      " |      order of two equal elements is maintained).\n",
      " |\n",
      " |      If a key function is given, apply it once to each list item and sort them,\n",
      " |      ascending or descending, according to their function values.\n",
      " |\n",
      " |      The reverse flag can be set to sort in descending order.\n",
      " |\n",
      " |  ----------------------------------------------------------------------\n",
      " |  Class methods defined here:\n",
      " |\n",
      " |  __class_getitem__(...) from builtins.type\n",
      " |      See PEP 585\n",
      " |\n",
      " |  ----------------------------------------------------------------------\n",
      " |  Static methods defined here:\n",
      " |\n",
      " |  __new__(*args, **kwargs) from builtins.type\n",
      " |      Create and return a new object.  See help(type) for accurate signature.\n",
      " |\n",
      " |  ----------------------------------------------------------------------\n",
      " |  Data and other attributes defined here:\n",
      " |\n",
      " |  __hash__ = None\n",
      "\n"
     ]
    }
   ],
   "source": [
    "help(numbers)"
   ]
  },
  {
   "cell_type": "code",
   "execution_count": 49,
   "metadata": {},
   "outputs": [
    {
     "data": {
      "text/plain": [
       "['__add__',\n",
       " '__class__',\n",
       " '__class_getitem__',\n",
       " '__contains__',\n",
       " '__delattr__',\n",
       " '__delitem__',\n",
       " '__dir__',\n",
       " '__doc__',\n",
       " '__eq__',\n",
       " '__format__',\n",
       " '__ge__',\n",
       " '__getattribute__',\n",
       " '__getitem__',\n",
       " '__getstate__',\n",
       " '__gt__',\n",
       " '__hash__',\n",
       " '__iadd__',\n",
       " '__imul__',\n",
       " '__init__',\n",
       " '__init_subclass__',\n",
       " '__iter__',\n",
       " '__le__',\n",
       " '__len__',\n",
       " '__lt__',\n",
       " '__mul__',\n",
       " '__ne__',\n",
       " '__new__',\n",
       " '__reduce__',\n",
       " '__reduce_ex__',\n",
       " '__repr__',\n",
       " '__reversed__',\n",
       " '__rmul__',\n",
       " '__setattr__',\n",
       " '__setitem__',\n",
       " '__sizeof__',\n",
       " '__str__',\n",
       " '__subclasshook__',\n",
       " 'append',\n",
       " 'clear',\n",
       " 'copy',\n",
       " 'count',\n",
       " 'extend',\n",
       " 'index',\n",
       " 'insert',\n",
       " 'pop',\n",
       " 'remove',\n",
       " 'reverse',\n",
       " 'sort']"
      ]
     },
     "execution_count": 49,
     "metadata": {},
     "output_type": "execute_result"
    }
   ],
   "source": [
    "mylist = [44, 55, 66]\n",
    "\n",
    "dir(mylist)"
   ]
  },
  {
   "cell_type": "code",
   "execution_count": 50,
   "metadata": {},
   "outputs": [
    {
     "name": "stdout",
     "output_type": "stream",
     "text": [
      "append, clear, copy, count, extend, index, insert, pop, remove, reverse, sort, "
     ]
    }
   ],
   "source": [
    "for attribute in dir(mylist):\n",
    "    if not attribute.startswith('__'):\n",
    "        print(attribute, end= ', ')"
   ]
  },
  {
   "cell_type": "code",
   "execution_count": 51,
   "metadata": {},
   "outputs": [
    {
     "data": {
      "text/plain": [
       "[44, 55, 66]"
      ]
     },
     "execution_count": 51,
     "metadata": {},
     "output_type": "execute_result"
    }
   ],
   "source": [
    "mylist = [44, 55, 66]\n",
    "mylist"
   ]
  },
  {
   "cell_type": "code",
   "execution_count": 52,
   "metadata": {},
   "outputs": [],
   "source": [
    "mylist.append(44)"
   ]
  },
  {
   "cell_type": "code",
   "execution_count": 53,
   "metadata": {},
   "outputs": [],
   "source": [
    "None"
   ]
  },
  {
   "cell_type": "code",
   "execution_count": 54,
   "metadata": {},
   "outputs": [
    {
     "data": {
      "text/plain": [
       "[44, 55, 66, 44]"
      ]
     },
     "execution_count": 54,
     "metadata": {},
     "output_type": "execute_result"
    }
   ],
   "source": [
    "mylist"
   ]
  },
  {
   "cell_type": "code",
   "execution_count": 55,
   "metadata": {},
   "outputs": [
    {
     "data": {
      "text/plain": [
       "[44, 55, 66, 44, None]"
      ]
     },
     "execution_count": 55,
     "metadata": {},
     "output_type": "execute_result"
    }
   ],
   "source": [
    "mylist.append(None)\n",
    "\n",
    "mylist"
   ]
  },
  {
   "cell_type": "code",
   "execution_count": 56,
   "metadata": {},
   "outputs": [
    {
     "data": {
      "text/plain": [
       "[44, 55, 66, 44, None, [55, 66]]"
      ]
     },
     "execution_count": 56,
     "metadata": {},
     "output_type": "execute_result"
    }
   ],
   "source": [
    "mylist.append([55, 66])\n",
    "\n",
    "mylist"
   ]
  },
  {
   "cell_type": "code",
   "execution_count": 57,
   "metadata": {},
   "outputs": [
    {
     "data": {
      "text/plain": [
       "[44, 55, 66, 44, None, [55, 66], 77]"
      ]
     },
     "execution_count": 57,
     "metadata": {},
     "output_type": "execute_result"
    }
   ],
   "source": [
    "mylist.extend([77])\n",
    "\n",
    "mylist"
   ]
  },
  {
   "cell_type": "code",
   "execution_count": 58,
   "metadata": {},
   "outputs": [],
   "source": [
    "mylist.extend((88, 99))"
   ]
  },
  {
   "cell_type": "code",
   "execution_count": 59,
   "metadata": {},
   "outputs": [
    {
     "data": {
      "text/plain": [
       "[44, 55, 66, 44, None, [55, 66], 77, 88, 99]"
      ]
     },
     "execution_count": 59,
     "metadata": {},
     "output_type": "execute_result"
    }
   ],
   "source": [
    "mylist"
   ]
  },
  {
   "cell_type": "code",
   "execution_count": 60,
   "metadata": {},
   "outputs": [
    {
     "data": {
      "text/plain": [
       "[44, 55, 66, 44, None, [55, 66], 77, 88, 99, 444, (555, 666)]"
      ]
     },
     "execution_count": 60,
     "metadata": {},
     "output_type": "execute_result"
    }
   ],
   "source": [
    "mylist.extend([444, (555, 666)])\n",
    "\n",
    "mylist"
   ]
  },
  {
   "cell_type": "code",
   "execution_count": 61,
   "metadata": {},
   "outputs": [
    {
     "data": {
      "text/plain": [
       "[44, 55, 66]"
      ]
     },
     "execution_count": 61,
     "metadata": {},
     "output_type": "execute_result"
    }
   ],
   "source": [
    "mylist = [44, 55, 66]\n",
    "mylist"
   ]
  },
  {
   "cell_type": "code",
   "execution_count": 62,
   "metadata": {},
   "outputs": [
    {
     "name": "stdout",
     "output_type": "stream",
     "text": [
      "After mylist.insert(0, 'a'):\n",
      "\t ['a', 44, 55, 66]\n"
     ]
    }
   ],
   "source": [
    "mylist.insert(0, \"a\")\n",
    "print(\"After mylist.insert(0, 'a'):\\n\\t\", mylist)"
   ]
  },
  {
   "cell_type": "code",
   "execution_count": 63,
   "metadata": {},
   "outputs": [
    {
     "name": "stdout",
     "output_type": "stream",
     "text": [
      "After mylist.insert(3, 'b'):\n",
      "\t ['a', 44, 55, 'b', 66]\n"
     ]
    }
   ],
   "source": [
    "mylist.insert(3, \"b\")\n",
    "print(\"After mylist.insert(3, 'b'):\\n\\t\", mylist)"
   ]
  },
  {
   "cell_type": "code",
   "execution_count": 64,
   "metadata": {},
   "outputs": [
    {
     "name": "stdout",
     "output_type": "stream",
     "text": [
      "mylist.pop() =66\n",
      "mylist       =['a', 44, 55, 'b']\n",
      "\n"
     ]
    }
   ],
   "source": [
    "print(f\"{mylist.pop() =}\")\n",
    "print(f\"{mylist       =}\\n\")"
   ]
  },
  {
   "cell_type": "code",
   "execution_count": 65,
   "metadata": {},
   "outputs": [
    {
     "name": "stdout",
     "output_type": "stream",
     "text": [
      "mylist.pop() ='b'\n",
      "mylist       =['a', 44, 55]\n",
      "\n"
     ]
    }
   ],
   "source": [
    "print(f\"{mylist.pop() =}\")\n",
    "print(f\"{mylist       =}\\n\")"
   ]
  },
  {
   "cell_type": "code",
   "execution_count": 66,
   "metadata": {},
   "outputs": [
    {
     "name": "stdout",
     "output_type": "stream",
     "text": [
      "mylist.pop() =(12, [323, 3])\n",
      "mylist       =['a', 11, 22, 'god', 'b']\n",
      "\n"
     ]
    }
   ],
   "source": [
    "mylist = [\"a\", 11, 22, \"god\", \"b\", (12, [323, 3])]\n",
    "print(f\"{mylist.pop() =}\")\n",
    "print(f\"{mylist       =}\\n\")"
   ]
  },
  {
   "cell_type": "code",
   "execution_count": 67,
   "metadata": {},
   "outputs": [
    {
     "name": "stdout",
     "output_type": "stream",
     "text": [
      "mylist.pop(-1) =(12, [323, 3])\n",
      "mylist       =['a', 11, 22, 'god', 'b']\n",
      "\n"
     ]
    }
   ],
   "source": [
    "mylist = [\"a\", 11, 22, \"god\", \"b\", (12, [323, 3])]\n",
    "print(f\"{mylist.pop(-1) =}\") \n",
    "print(f\"{mylist       =}\\n\")"
   ]
  },
  {
   "cell_type": "code",
   "execution_count": 68,
   "metadata": {},
   "outputs": [
    {
     "name": "stdout",
     "output_type": "stream",
     "text": [
      "mylist       =['a', 'b', 'c', 'd', 'e', 'f']\n",
      "mylist[3]    ='d'\n",
      "After del mylist[3]   = ['a', 'b', 'c', 'e', 'f']\n"
     ]
    }
   ],
   "source": [
    "mylist = [\"a\", \"b\", \"c\", \"d\", \"e\", \"f\"]\n",
    "print(f\"{mylist       =}\")\n",
    "print(f\"{mylist[3]    =}\")\n",
    "del mylist[3]\n",
    "print(\"After del mylist[3]   =\", mylist)"
   ]
  },
  {
   "cell_type": "code",
   "execution_count": 69,
   "metadata": {},
   "outputs": [
    {
     "name": "stdout",
     "output_type": "stream",
     "text": [
      "mylist[0::2]          =['a', 'c', 'f']\n",
      "After del mylist[0::2]: ['b', 'e']\n"
     ]
    }
   ],
   "source": [
    "print(f\"{mylist[0::2]          =}\")\n",
    "del mylist[0::2]\n",
    "print(\"After del mylist[0::2]:\", mylist)"
   ]
  },
  {
   "cell_type": "code",
   "execution_count": 70,
   "metadata": {},
   "outputs": [
    {
     "name": "stdout",
     "output_type": "stream",
     "text": [
      "After mylist.clear()  : []\n"
     ]
    }
   ],
   "source": [
    "mylist.clear()\n",
    "print(\"After mylist.clear()  :\", mylist)"
   ]
  },
  {
   "cell_type": "code",
   "execution_count": 71,
   "metadata": {},
   "outputs": [],
   "source": [
    "del mylist"
   ]
  }
 ],
 "metadata": {
  "kernelspec": {
   "display_name": "Python 3",
   "language": "python",
   "name": "python3"
  },
  "language_info": {
   "codemirror_mode": {
    "name": "ipython",
    "version": 3
   },
   "file_extension": ".py",
   "mimetype": "text/x-python",
   "name": "python",
   "nbconvert_exporter": "python",
   "pygments_lexer": "ipython3",
   "version": "3.12.1"
  }
 },
 "nbformat": 4,
 "nbformat_minor": 2
}
