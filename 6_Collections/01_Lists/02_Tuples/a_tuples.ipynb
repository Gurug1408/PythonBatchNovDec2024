{
 "cells": [
  {
   "cell_type": "code",
   "execution_count": 1,
   "metadata": {},
   "outputs": [
    {
     "name": "stdout",
     "output_type": "stream",
     "text": [
      "type(mylist) <class 'list'>\n",
      "len(mylist) 5\n",
      "\n",
      "type(mytuple) <class 'tuple'>\n",
      "len(mytuple) 5\n",
      "(12, 34.8, 500000, [6, 8], (5,))\n"
     ]
    }
   ],
   "source": [
    "mylist = [12, 34.8, 500000, [6, 8], (5,)]\n",
    "print(\"type(mylist)\", type(mylist))\n",
    "print(\"len(mylist)\", len(mylist))\n",
    "\n",
    "mytuple = (12, 34.8, 500000, [6, 8], (5,))\n",
    "print(\"\\ntype(mytuple)\", type(mytuple))\n",
    "print(\"len(mytuple)\", len(mytuple))\n",
    "print(mytuple)\n"
   ]
  },
  {
   "cell_type": "code",
   "execution_count": 2,
   "metadata": {},
   "outputs": [
    {
     "name": "stdout",
     "output_type": "stream",
     "text": [
      "<class 'float'> 99.9\n",
      "<class 'float'> 465.8857142857143\n"
     ]
    }
   ],
   "source": [
    "result = (99.9)\n",
    "print(type(result), result)\n",
    "\n",
    "result = (99.9 + 232 / 322 * 23) * 4\n",
    "print(type(result), result)"
   ]
  },
  {
   "cell_type": "code",
   "execution_count": 3,
   "metadata": {},
   "outputs": [
    {
     "name": "stdout",
     "output_type": "stream",
     "text": [
      "type(another_tuple) <class 'tuple'>\n",
      "len(another_tuple)  1\n"
     ]
    }
   ],
   "source": [
    "another_tuple = (77.7,)\n",
    "print(\"type(another_tuple)\", type(another_tuple))\n",
    "print(\"len(another_tuple) \", len(another_tuple))"
   ]
  },
  {
   "cell_type": "code",
   "execution_count": 4,
   "metadata": {},
   "outputs": [
    {
     "data": {
      "text/plain": [
       "(77.7,)"
      ]
     },
     "execution_count": 4,
     "metadata": {},
     "output_type": "execute_result"
    }
   ],
   "source": [
    "another_tuple"
   ]
  },
  {
   "cell_type": "code",
   "execution_count": 5,
   "metadata": {},
   "outputs": [
    {
     "name": "stdout",
     "output_type": "stream",
     "text": [
      "type(empty_tuple): <class 'tuple'>\n",
      "len(empty_tuple) : 0\n"
     ]
    }
   ],
   "source": [
    "empty_tuple = () \n",
    "print(\"type(empty_tuple):\", type(empty_tuple))\n",
    "print(\"len(empty_tuple) :\", len(empty_tuple))"
   ]
  },
  {
   "cell_type": "code",
   "execution_count": 6,
   "metadata": {},
   "outputs": [
    {
     "name": "stdout",
     "output_type": "stream",
     "text": [
      "type(mytuple)    : <class 'tuple'>\n",
      "len(mytuple)     : 3\n",
      "(11, 22, 33)\n"
     ]
    }
   ],
   "source": [
    "mytuple = 11, 22, 33\n",
    "print(\"type(mytuple)    :\", type(mytuple))\n",
    "print(\"len(mytuple)     :\", len(mytuple))\n",
    "print(mytuple)"
   ]
  },
  {
   "cell_type": "code",
   "execution_count": 7,
   "metadata": {},
   "outputs": [
    {
     "name": "stdout",
     "output_type": "stream",
     "text": [
      "type(mytuple)    : <class 'tuple'>\n",
      "len(mytuple)     : 1\n",
      "(1,)\n"
     ]
    }
   ],
   "source": [
    "mytuple = 1,\n",
    "print(\"type(mytuple)    :\", type(mytuple))\n",
    "print(\"len(mytuple)     :\", len(mytuple))\n",
    "print(mytuple)"
   ]
  },
  {
   "cell_type": "code",
   "execution_count": 8,
   "metadata": {},
   "outputs": [
    {
     "name": "stdout",
     "output_type": "stream",
     "text": [
      "['__add__', '__class__', '__class_getitem__', '__contains__', '__delattr__', '__dir__', '__doc__', '__eq__', '__format__', '__ge__', '__getattribute__', '__getitem__', '__getnewargs__', '__getstate__', '__gt__', '__hash__', '__init__', '__init_subclass__', '__iter__', '__le__', '__len__', '__lt__', '__mul__', '__ne__', '__new__', '__reduce__', '__reduce_ex__', '__repr__', '__rmul__', '__setattr__', '__sizeof__', '__str__', '__subclasshook__', 'count', 'index']\n"
     ]
    }
   ],
   "source": [
    "mytuple = (12, 5, 6, 8, (5,))\n",
    "print(dir(mytuple))"
   ]
  },
  {
   "cell_type": "code",
   "execution_count": 9,
   "metadata": {},
   "outputs": [
    {
     "name": "stdout",
     "output_type": "stream",
     "text": [
      "len(mytuple)           = 5\n",
      "mytuple.__len__()      = 5\n"
     ]
    }
   ],
   "source": [
    "print(\"len(mytuple)           =\", len(mytuple))\n",
    "print(\"mytuple.__len__()      =\", mytuple.__len__())\n",
    "assert len(mytuple) == mytuple.__len__()"
   ]
  },
  {
   "cell_type": "code",
   "execution_count": 10,
   "metadata": {},
   "outputs": [
    {
     "name": "stdout",
     "output_type": "stream",
     "text": [
      "str(mytuple)           = (12, 5, 6, 8, (5,))\n",
      "type(str(mytuple))     = <class 'str'>\n",
      "mytuple.__str__()      = (12, 5, 6, 8, (5,))\n",
      "type(mytuple.__str__())= <class 'str'>\n"
     ]
    }
   ],
   "source": [
    "print(\"str(mytuple)           =\", str(mytuple))\n",
    "print(\"type(str(mytuple))     =\", type(str(mytuple)))\n",
    "print(\"mytuple.__str__()      =\", mytuple.__str__())\n",
    "print(\"type(mytuple.__str__())=\", type(mytuple.__str__()))\n",
    "assert str(mytuple) == mytuple.__str__()"
   ]
  },
  {
   "cell_type": "code",
   "execution_count": 11,
   "metadata": {},
   "outputs": [
    {
     "name": "stdout",
     "output_type": "stream",
     "text": [
      "\n",
      "mytuple * 3            = (12, 5, 6, 8, (5,), 12, 5, 6, 8, (5,), 12, 5, 6, 8, (5,))\n",
      "mytuple                = (12, 5, 6, 8, (5,))\n",
      "mytuple.__mul__(3)     = (12, 5, 6, 8, (5,), 12, 5, 6, 8, (5,), 12, 5, 6, 8, (5,))\n",
      "mytuple                = (12, 5, 6, 8, (5,))\n"
     ]
    }
   ],
   "source": [
    "print()\n",
    "print(\"mytuple * 3            =\", mytuple * 3)\n",
    "print(\"mytuple                =\", mytuple)\n",
    "print(\"mytuple.__mul__(3)     =\", mytuple.__mul__(3))\n",
    "print(\"mytuple                =\", mytuple)"
   ]
  },
  {
   "cell_type": "code",
   "execution_count": 12,
   "metadata": {},
   "outputs": [
    {
     "name": "stdout",
     "output_type": "stream",
     "text": [
      "mytuple  == (12, 5, 6, 8, (5,))     = True\n",
      "mytuple.__eq__((12, 5, 6, 8, (5,))) = True\n"
     ]
    }
   ],
   "source": [
    "print(f\"{mytuple  == (12, 5, 6, 8, (5,))     = }\")\n",
    "print(f\"{mytuple.__eq__((12, 5, 6, 8, (5,))) = }\")"
   ]
  },
  {
   "cell_type": "code",
   "execution_count": 13,
   "metadata": {},
   "outputs": [
    {
     "name": "stdout",
     "output_type": "stream",
     "text": [
      "\n",
      " Tuple Attributes excluding dunder methods\n",
      "count\n",
      "index\n"
     ]
    }
   ],
   "source": [
    "print(\"\\n Tuple Attributes excluding dunder methods\")\n",
    "for each_attribute in dir(mytuple):\n",
    "    if not each_attribute.startswith(\"__\"):\n",
    "        print(each_attribute)"
   ]
  },
  {
   "cell_type": "code",
   "execution_count": 14,
   "metadata": {},
   "outputs": [
    {
     "name": "stdout",
     "output_type": "stream",
     "text": [
      "mytuple                = (12, 5, 6, 8, (5,))\n",
      "mytuple.count(5)       = 1\n"
     ]
    }
   ],
   "source": [
    "print(\"mytuple                =\", mytuple)\n",
    "print(\"mytuple.count(5)       =\", mytuple.count(5))"
   ]
  },
  {
   "cell_type": "code",
   "execution_count": 15,
   "metadata": {},
   "outputs": [
    {
     "name": "stdout",
     "output_type": "stream",
     "text": [
      "mytuple                = (12, 5, 6, 8, 5)\n",
      "mytuple.count(5)       = 2\n"
     ]
    }
   ],
   "source": [
    "mytuple = (12, 5, 6, 8, (5))\n",
    "#          0   1  2  3   4\n",
    "print(\"mytuple                =\", mytuple)\n",
    "print(\"mytuple.count(5)       =\", mytuple.count(5))"
   ]
  },
  {
   "cell_type": "code",
   "execution_count": 16,
   "metadata": {},
   "outputs": [
    {
     "name": "stdout",
     "output_type": "stream",
     "text": [
      "mytuple.index(8)       = 3\n",
      "mytuple.index(5)       = 1\n"
     ]
    }
   ],
   "source": [
    "print(\"mytuple.index(8)       =\", mytuple.index(8))\n",
    "print(\"mytuple.index(5)       =\", mytuple.index(5))"
   ]
  },
  {
   "cell_type": "code",
   "execution_count": 17,
   "metadata": {},
   "outputs": [
    {
     "name": "stdout",
     "output_type": "stream",
     "text": [
      "tuple.index(x): x not in tuple\n"
     ]
    }
   ],
   "source": [
    "try:\n",
    "    print(\"mytuple.index(55)      =\", mytuple.index(55))\n",
    "except ValueError as ex:\n",
    "    print(ex)"
   ]
  },
  {
   "cell_type": "code",
   "execution_count": 18,
   "metadata": {},
   "outputs": [
    {
     "name": "stdout",
     "output_type": "stream",
     "text": [
      "result   : (9, 99, 99)\n",
      "result   : ((9, 99, 99),)\n"
     ]
    }
   ],
   "source": [
    "result = (9, 99) + (99,)\n",
    "print(\"result   :\", result)\n",
    " \n",
    "result = ((9, 99) + (99,),) \n",
    "print(\"result   :\", result)"
   ]
  },
  {
   "cell_type": "code",
   "execution_count": 19,
   "metadata": {},
   "outputs": [
    {
     "name": "stdout",
     "output_type": "stream",
     "text": [
      "result   : ((9, 99, (99,)),)\n"
     ]
    }
   ],
   "source": [
    "result = (9, 99) + ((99,),),\n",
    "print(\"result   :\", result)"
   ]
  },
  {
   "cell_type": "code",
   "execution_count": 20,
   "metadata": {},
   "outputs": [
    {
     "name": "stdout",
     "output_type": "stream",
     "text": [
      "result   : (9, 99, 11, 1)\n"
     ]
    }
   ],
   "source": [
    "result = (9, 99) + (11, 1)\n",
    "print(\"result   :\", result)"
   ]
  },
  {
   "cell_type": "code",
   "execution_count": 21,
   "metadata": {},
   "outputs": [
    {
     "name": "stdout",
     "output_type": "stream",
     "text": [
      "result   : (9, 99, 11, 1)\n",
      "result   : [9, 99, 11, 1]\n"
     ]
    }
   ],
   "source": [
    "result = (9, 99) + tuple([11, 1])\n",
    "print(\"result   :\", result)\n",
    "\n",
    "result = list((9, 99)) + [11, 1]\n",
    "print(\"result   :\", result)"
   ]
  },
  {
   "cell_type": "code",
   "execution_count": 22,
   "metadata": {},
   "outputs": [
    {
     "name": "stdout",
     "output_type": "stream",
     "text": [
      "list('Python')  =['P', 'y', 't', 'h', 'o', 'n']\n",
      "tuple('Python') =('P', 'y', 't', 'h', 'o', 'n')\n"
     ]
    }
   ],
   "source": [
    "print(f\"{list('Python')  =}\")\n",
    "print(f\"{tuple('Python') =}\")"
   ]
  },
  {
   "cell_type": "code",
   "execution_count": 23,
   "metadata": {},
   "outputs": [
    {
     "name": "stdout",
     "output_type": "stream",
     "text": [
      "(1,) * 3      =(1, 1, 1)\n",
      "(1, 2) * 3    =(1, 2, 1, 2, 1, 2)\n",
      "(1, (2,)) * 3 =(1, (2,), 1, (2,), 1, (2,))\n"
     ]
    }
   ],
   "source": [
    "print(f\"{(1,) * 3      =}\")\n",
    "print(f\"{(1, 2) * 3    =}\")\n",
    "print(f\"{(1, (2,)) * 3 =}\")"
   ]
  },
  {
   "cell_type": "code",
   "execution_count": 24,
   "metadata": {},
   "outputs": [
    {
     "name": "stdout",
     "output_type": "stream",
     "text": [
      "mytuple (1, 2, 3) 124118652282752\n"
     ]
    }
   ],
   "source": [
    "mytuple = (1, 2, 3)\n",
    "print(\"mytuple\", mytuple, id(mytuple))"
   ]
  },
  {
   "cell_type": "code",
   "execution_count": 25,
   "metadata": {},
   "outputs": [
    {
     "name": "stdout",
     "output_type": "stream",
     "text": [
      "mytuple[2] =3\n"
     ]
    }
   ],
   "source": [
    "print(f\"{mytuple[2] =}\")"
   ]
  },
  {
   "cell_type": "code",
   "execution_count": 26,
   "metadata": {},
   "outputs": [
    {
     "name": "stdout",
     "output_type": "stream",
     "text": [
      "'tuple' object does not support item assignment\n",
      "tuple objects are not editable\n"
     ]
    }
   ],
   "source": [
    "try:\n",
    "    mytuple[2] = \"2.2222\"\n",
    "except TypeError as ex:\n",
    "    print(ex)\n",
    "    print(\"tuple objects are not editable\")"
   ]
  },
  {
   "cell_type": "code",
   "execution_count": 27,
   "metadata": {},
   "outputs": [
    {
     "name": "stdout",
     "output_type": "stream",
     "text": [
      "\n",
      "overwriting (re-assigning)\n",
      "mytuple (1, '2.2222', 3) 124118650335744\n"
     ]
    }
   ],
   "source": [
    "print(\"\\noverwriting (re-assigning)\")\n",
    "mytuple = (1, \"2.2222\", 3)\n",
    "print(\"mytuple\", mytuple, id(mytuple))"
   ]
  },
  {
   "cell_type": "code",
   "execution_count": 28,
   "metadata": {},
   "outputs": [
    {
     "name": "stdout",
     "output_type": "stream",
     "text": [
      "type(student_details)=<class 'tuple'>\n",
      "student_details      =('Charan', 26, '01/01/2025')\n",
      "Student Name: Charan\n",
      "Student Age : 26\n",
      "Student DOB : 01/01/2025\n"
     ]
    }
   ],
   "source": [
    "student_details = (\"Charan\", 26, \"01/01/2025\")\n",
    "print(f\"{type(student_details)=}\")\n",
    "print(f\"{student_details      =}\")\n",
    "\n",
    "print(\"Student Name:\", student_details[0])\n",
    "print(\"Student Age :\", student_details[1])\n",
    "print(\"Student DOB :\", student_details[2])"
   ]
  },
  {
   "cell_type": "code",
   "execution_count": 29,
   "metadata": {},
   "outputs": [
    {
     "name": "stdout",
     "output_type": "stream",
     "text": [
      "['ChainMap', 'Counter', 'OrderedDict', 'UserDict', 'UserList', 'UserString', '_Link', '_OrderedDictItemsView', '_OrderedDictKeysView', '_OrderedDictValuesView', '__all__', '__builtins__', '__cached__', '__doc__', '__file__', '__loader__', '__name__', '__package__', '__path__', '__spec__', '_chain', '_collections_abc', '_count_elements', '_deque_iterator', '_eq', '_iskeyword', '_itemgetter', '_proxy', '_recursive_repr', '_repeat', '_starmap', '_sys', '_tuplegetter', 'abc', 'defaultdict', 'deque', 'namedtuple']\n"
     ]
    }
   ],
   "source": [
    "import collections\n",
    "\n",
    "print(dir(collections))"
   ]
  },
  {
   "cell_type": "code",
   "execution_count": 30,
   "metadata": {},
   "outputs": [
    {
     "data": {
      "text/plain": [
       "__main__.Students"
      ]
     },
     "execution_count": 30,
     "metadata": {},
     "output_type": "execute_result"
    }
   ],
   "source": [
    "Students = collections.namedtuple(\"Students\", (\"name\", \"age\", \"dob\"))\n",
    "Students"
   ]
  },
  {
   "cell_type": "code",
   "execution_count": 31,
   "metadata": {},
   "outputs": [
    {
     "data": {
      "text/plain": [
       "Students(name='Charan', age='26', dob='01/01/2025')"
      ]
     },
     "execution_count": 31,
     "metadata": {},
     "output_type": "execute_result"
    }
   ],
   "source": [
    "Students(\"Charan\", \"26\", \"01/01/2025\")"
   ]
  },
  {
   "cell_type": "code",
   "execution_count": 32,
   "metadata": {},
   "outputs": [],
   "source": [
    "student_details2 = Students(\"Charan\", 26, \"01/01/2025\")"
   ]
  },
  {
   "cell_type": "code",
   "execution_count": 33,
   "metadata": {},
   "outputs": [
    {
     "data": {
      "text/plain": [
       "__main__.Students"
      ]
     },
     "execution_count": 33,
     "metadata": {},
     "output_type": "execute_result"
    }
   ],
   "source": [
    "type(student_details2)"
   ]
  },
  {
   "cell_type": "code",
   "execution_count": 34,
   "metadata": {},
   "outputs": [
    {
     "name": "stdout",
     "output_type": "stream",
     "text": [
      "\n",
      "Student Name: Charan\n",
      "Student Age : 26\n",
      "Student DOB : 01/01/2025\n",
      "\n",
      "Student Name: Charan\n",
      "Student Age : 26\n",
      "Student DOB : 01/01/2025\n"
     ]
    }
   ],
   "source": [
    "print()\n",
    "print(\"Student Name:\", student_details2[0])\n",
    "print(\"Student Age :\", student_details2[1])\n",
    "print(\"Student DOB :\", student_details2[2])\n",
    "\n",
    "\n",
    "print()\n",
    "print(\"Student Name:\", student_details2.name)\n",
    "print(\"Student Age :\", student_details2.age)\n",
    "print(\"Student DOB :\", student_details2.dob)"
   ]
  },
  {
   "cell_type": "code",
   "execution_count": 35,
   "metadata": {},
   "outputs": [
    {
     "data": {
      "text/plain": [
       "['__add__',\n",
       " '__class__',\n",
       " '__class_getitem__',\n",
       " '__contains__',\n",
       " '__delattr__',\n",
       " '__dir__',\n",
       " '__doc__',\n",
       " '__eq__',\n",
       " '__format__',\n",
       " '__ge__',\n",
       " '__getattribute__',\n",
       " '__getitem__',\n",
       " '__getnewargs__',\n",
       " '__getstate__',\n",
       " '__gt__',\n",
       " '__hash__',\n",
       " '__init__',\n",
       " '__init_subclass__',\n",
       " '__iter__',\n",
       " '__le__',\n",
       " '__len__',\n",
       " '__lt__',\n",
       " '__match_args__',\n",
       " '__module__',\n",
       " '__mul__',\n",
       " '__ne__',\n",
       " '__new__',\n",
       " '__reduce__',\n",
       " '__reduce_ex__',\n",
       " '__repr__',\n",
       " '__rmul__',\n",
       " '__setattr__',\n",
       " '__sizeof__',\n",
       " '__slots__',\n",
       " '__str__',\n",
       " '__subclasshook__',\n",
       " '_asdict',\n",
       " '_field_defaults',\n",
       " '_fields',\n",
       " '_make',\n",
       " '_replace',\n",
       " 'age',\n",
       " 'count',\n",
       " 'dob',\n",
       " 'index',\n",
       " 'name']"
      ]
     },
     "execution_count": 35,
     "metadata": {},
     "output_type": "execute_result"
    }
   ],
   "source": [
    "dir(student_details2)"
   ]
  },
  {
   "cell_type": "code",
   "execution_count": 36,
   "metadata": {},
   "outputs": [
    {
     "name": "stdout",
     "output_type": "stream",
     "text": [
      "getattr(student_details2, 'name') ='Charan'\n"
     ]
    }
   ],
   "source": [
    "print(f\"{getattr(student_details2, 'name') =}\")\n",
    "assert student_details2.name == getattr(student_details2, \"name\")\n",
    "assert student_details2.age == getattr(student_details2, \"age\")\n",
    "assert student_details2.dob == getattr(student_details2, \"dob\")"
   ]
  },
  {
   "cell_type": "code",
   "execution_count": 37,
   "metadata": {},
   "outputs": [
    {
     "ename": "ValueError",
     "evalue": "too many values to unpack (expected 2)",
     "output_type": "error",
     "traceback": [
      "\u001b[0;31m---------------------------------------------------------------------------\u001b[0m",
      "\u001b[0;31mValueError\u001b[0m                                Traceback (most recent call last)",
      "Cell \u001b[0;32mIn[37], line 1\u001b[0m\n\u001b[0;32m----> 1\u001b[0m n1, n2 \u001b[38;5;241m=\u001b[39m \u001b[38;5;241m1\u001b[39m, \u001b[38;5;241m2\u001b[39m, \u001b[38;5;241m3\u001b[39m, \u001b[38;5;241m4\u001b[39m, \u001b[38;5;241m5\u001b[39m\n",
      "\u001b[0;31mValueError\u001b[0m: too many values to unpack (expected 2)"
     ]
    }
   ],
   "source": [
    "n1, n2 = 1, 2, 3, 4, 5"
   ]
  },
  {
   "cell_type": "code",
   "execution_count": 38,
   "metadata": {},
   "outputs": [
    {
     "name": "stdout",
     "output_type": "stream",
     "text": [
      "n1=1 \n",
      "n2=[2, 3, 4, 5]\n"
     ]
    }
   ],
   "source": [
    "n1, *n2 = 1, 2, 3, 4, 5\n",
    "print(f\"n1={n1} \\nn2={n2}\")"
   ]
  },
  {
   "cell_type": "code",
   "execution_count": 39,
   "metadata": {},
   "outputs": [
    {
     "name": "stdout",
     "output_type": "stream",
     "text": [
      "n1=1 \n",
      "n2=[2, 3, 4] \n",
      "n3=5\n"
     ]
    }
   ],
   "source": [
    "n1, *n2, n3 = 1, 2, 3, 4, 5\n",
    "print(f\"n1={n1} \\nn2={n2} \\nn3={n3}\")"
   ]
  }
 ],
 "metadata": {
  "kernelspec": {
   "display_name": "Python 3",
   "language": "python",
   "name": "python3"
  },
  "language_info": {
   "codemirror_mode": {
    "name": "ipython",
    "version": 3
   },
   "file_extension": ".py",
   "mimetype": "text/x-python",
   "name": "python",
   "nbconvert_exporter": "python",
   "pygments_lexer": "ipython3",
   "version": "3.12.1"
  }
 },
 "nbformat": 4,
 "nbformat_minor": 2
}
