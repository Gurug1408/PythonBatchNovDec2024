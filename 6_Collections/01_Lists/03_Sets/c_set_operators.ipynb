{
 "cells": [
  {
   "cell_type": "code",
   "execution_count": 1,
   "metadata": {},
   "outputs": [],
   "source": [
    "word_set1 = {\"Python class\", \"Python Practice\", \"Python learn\"}\n",
    "word_set2 = {\"San Jose\", \"Los Angeles\", \"San Deigo\", \"Bakersfield\"}"
   ]
  },
  {
   "cell_type": "code",
   "execution_count": 2,
   "metadata": {},
   "outputs": [
    {
     "name": "stdout",
     "output_type": "stream",
     "text": [
      "all_words = {'Python Practice', 'Python learn', 'Bakersfield', 'Python class', 'San Jose', 'Los Angeles', 'San Deigo'}\n",
      "all_words = {'Python Practice', 'Python learn', 'Bakersfield', 'Python class', 'San Jose', 'Los Angeles', 'San Deigo'}\n"
     ]
    }
   ],
   "source": [
    "all_words = word_set1 | word_set2\n",
    "print(f\"{all_words = }\")\n",
    "\n",
    "\n",
    "all_words = word_set1.union(word_set2)\n",
    "print(f\"{all_words = }\")"
   ]
  },
  {
   "cell_type": "code",
   "execution_count": 3,
   "metadata": {},
   "outputs": [
    {
     "name": "stdout",
     "output_type": "stream",
     "text": [
      "common_words =set()\n",
      "common_words =set()\n"
     ]
    }
   ],
   "source": [
    "common_words = word_set1 & word_set2\n",
    "print(f\"{common_words =}\")\n",
    "\n",
    "common_words = word_set1.intersection(word_set2)\n",
    "print(f\"{common_words =}\")"
   ]
  },
  {
   "cell_type": "code",
   "execution_count": 4,
   "metadata": {},
   "outputs": [
    {
     "name": "stdout",
     "output_type": "stream",
     "text": [
      "uncommon_words ={'Python learn', 'San Jose', 'Python Practice', 'Bakersfield', 'Python class', 'Los Angeles', 'San Deigo'}\n",
      "uncommon_words ={'Python learn', 'San Jose', 'Python Practice', 'Bakersfield', 'Python class', 'Los Angeles', 'San Deigo'}\n"
     ]
    }
   ],
   "source": [
    "uncommon_words = word_set1 ^ word_set2\n",
    "print(f\"{uncommon_words =}\")\n",
    "\n",
    "uncommon_words = word_set1.symmetric_difference(word_set2)\n",
    "print(f\"{uncommon_words =}\")"
   ]
  },
  {
   "cell_type": "code",
   "execution_count": 5,
   "metadata": {},
   "outputs": [
    {
     "name": "stdout",
     "output_type": "stream",
     "text": [
      "True\n",
      "True\n",
      "True\n",
      "True\n"
     ]
    }
   ],
   "source": [
    "A = {1, 2}\n",
    "B = {1, 2, 3, 4}\n",
    "\n",
    "print(A <= B) \n",
    "print(A.issubset(B)) \n",
    "\n",
    "print(B >= A) \n",
    "print(B.issuperset(A)) "
   ]
  }
 ],
 "metadata": {
  "kernelspec": {
   "display_name": "Python 3",
   "language": "python",
   "name": "python3"
  },
  "language_info": {
   "codemirror_mode": {
    "name": "ipython",
    "version": 3
   },
   "file_extension": ".py",
   "mimetype": "text/x-python",
   "name": "python",
   "nbconvert_exporter": "python",
   "pygments_lexer": "ipython3",
   "version": "3.12.1"
  }
 },
 "nbformat": 4,
 "nbformat_minor": 2
}
