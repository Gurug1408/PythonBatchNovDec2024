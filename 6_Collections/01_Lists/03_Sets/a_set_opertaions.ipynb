{
 "cells": [
  {
   "cell_type": "code",
   "execution_count": 1,
   "metadata": {},
   "outputs": [
    {
     "name": "stdout",
     "output_type": "stream",
     "text": [
      "type(running_ports) <class 'list'>\n",
      "len(running_ports)  9\n",
      "running_ports       [11, 22, 11, 44, 22, 11, 11, 44, 22]\n"
     ]
    }
   ],
   "source": [
    "running_ports = [11, 22, 11, 44, 22, 11,  11, 44, 22]\n",
    "print(\"type(running_ports)\", type(running_ports))\n",
    "print(\"len(running_ports) \", len(running_ports))\n",
    "print(\"running_ports      \", running_ports)"
   ]
  },
  {
   "cell_type": "code",
   "execution_count": 2,
   "metadata": {},
   "outputs": [
    {
     "name": "stdout",
     "output_type": "stream",
     "text": [
      "11 False\n",
      "22 False\n",
      "11 True\n",
      "44 False\n",
      "22 True\n",
      "11 True\n",
      "11 True\n",
      "44 True\n",
      "22 True\n"
     ]
    }
   ],
   "source": [
    "filtered_list = []\n",
    "for each_port in running_ports:\n",
    "    print(each_port, each_port in filtered_list)\n",
    "    if each_port not in filtered_list:\n",
    "        filtered_list.append(each_port)"
   ]
  },
  {
   "cell_type": "code",
   "execution_count": 3,
   "metadata": {},
   "outputs": [
    {
     "name": "stdout",
     "output_type": "stream",
     "text": [
      "len(filtered_list)  3\n",
      "filtered_list:      [11, 22, 44]\n"
     ]
    }
   ],
   "source": [
    "print(\"len(filtered_list) \", len(filtered_list))\n",
    "print(\"filtered_list:     \", filtered_list)"
   ]
  },
  {
   "cell_type": "code",
   "execution_count": 4,
   "metadata": {},
   "outputs": [
    {
     "name": "stdout",
     "output_type": "stream",
     "text": [
      "type(unique_ports) =<class 'set'>\n",
      "len(unique_ports)  =3\n",
      "unique_ports       ={11, 44, 22}\n"
     ]
    }
   ],
   "source": [
    "unique_ports =  {11, 22, 11, 44, 22, 11,  11, 44, 22}\n",
    "\n",
    "print(f\"{type(unique_ports) =}\")\n",
    "print(f\"{len(unique_ports)  =}\")\n",
    "print(f\"{unique_ports       =}\")"
   ]
  },
  {
   "cell_type": "code",
   "execution_count": 5,
   "metadata": {},
   "outputs": [
    {
     "name": "stdout",
     "output_type": "stream",
     "text": [
      "len(filtered_list)  3\n",
      "filtered_list:      [11, 44, 22]\n"
     ]
    }
   ],
   "source": [
    "filtered_list = list(set(running_ports))\n",
    "print(\"len(filtered_list) \", len(filtered_list))\n",
    "print(\"filtered_list:     \", filtered_list)"
   ]
  },
  {
   "cell_type": "code",
   "execution_count": 6,
   "metadata": {},
   "outputs": [
    {
     "name": "stdout",
     "output_type": "stream",
     "text": [
      "<class 'list'> []\n",
      "<class 'tuple'> ()\n",
      "<class 'set'> set()\n",
      "<class 'dict'> {}\n"
     ]
    }
   ],
   "source": [
    "empty_list = [] \n",
    "print(f\"{type(empty_list)} {empty_list}\")\n",
    "\n",
    "empty_tuple = () \n",
    "print(f\"{type(empty_tuple)} {empty_tuple}\")\n",
    "\n",
    "empty_set = set()\n",
    "print(f\"{type(empty_set)} {empty_set}\")\n",
    "\n",
    "empty_dict = {} \n",
    "print(f\"{type(empty_dict)} {empty_dict}\")"
   ]
  },
  {
   "cell_type": "code",
   "execution_count": 7,
   "metadata": {},
   "outputs": [
    {
     "name": "stdout",
     "output_type": "stream",
     "text": [
      "\n",
      "Sets with single element \n",
      "<class 'set'> myset1 ={223}\n"
     ]
    }
   ],
   "source": [
    "print(\"\\nSets with single element \")\n",
    "myset1 = {223}\n",
    "print(f\"{type(myset1)} {myset1 =}\")"
   ]
  },
  {
   "cell_type": "code",
   "execution_count": 8,
   "metadata": {},
   "outputs": [
    {
     "name": "stdout",
     "output_type": "stream",
     "text": [
      "s1 ={1, 2, 3} - <class 'set'>\n",
      "s2 ={1, 2, 3} - <class 'set'>\n"
     ]
    }
   ],
   "source": [
    "s1 = {1, 2, 3}\n",
    "s2 = set([1, 2, 3])\n",
    "\n",
    "print(f\"{s1 =} - {type(s1)}\")\n",
    "print(f\"{s2 =} - {type(s2)}\")\n",
    "assert s1 == s2"
   ]
  },
  {
   "cell_type": "code",
   "execution_count": 9,
   "metadata": {},
   "outputs": [
    {
     "name": "stdout",
     "output_type": "stream",
     "text": [
      "myset        : {33, 11, 44, 22}\n"
     ]
    }
   ],
   "source": [
    "myset = {11, 22, 33, 44}\n",
    "print(\"myset        :\", myset)"
   ]
  },
  {
   "cell_type": "code",
   "execution_count": 10,
   "metadata": {},
   "outputs": [
    {
     "name": "stdout",
     "output_type": "stream",
     "text": [
      "['__and__', '__class__', '__class_getitem__', '__contains__', '__delattr__', '__dir__', '__doc__', '__eq__', '__format__', '__ge__', '__getattribute__', '__getstate__', '__gt__', '__hash__', '__iand__', '__init__', '__init_subclass__', '__ior__', '__isub__', '__iter__', '__ixor__', '__le__', '__len__', '__lt__', '__ne__', '__new__', '__or__', '__rand__', '__reduce__', '__reduce_ex__', '__repr__', '__ror__', '__rsub__', '__rxor__', '__setattr__', '__sizeof__', '__str__', '__sub__', '__subclasshook__', '__xor__', 'add', 'clear', 'copy', 'difference', 'difference_update', 'discard', 'intersection', 'intersection_update', 'isdisjoint', 'issubset', 'issuperset', 'pop', 'remove', 'symmetric_difference', 'symmetric_difference_update', 'union', 'update']\n"
     ]
    }
   ],
   "source": [
    "simple_set = {1, 2, 3}\n",
    "print(dir(simple_set))"
   ]
  },
  {
   "cell_type": "code",
   "execution_count": 11,
   "metadata": {},
   "outputs": [
    {
     "name": "stdout",
     "output_type": "stream",
     "text": [
      "6 in simple_set =False\n"
     ]
    }
   ],
   "source": [
    "assert simple_set.__contains__(2) == (2 in simple_set)\n",
    "assert simple_set.__contains__(6) == (6 in simple_set)\n",
    "print(f\"{6 in simple_set =}\")"
   ]
  },
  {
   "cell_type": "code",
   "execution_count": 12,
   "metadata": {},
   "outputs": [
    {
     "name": "stdout",
     "output_type": "stream",
     "text": [
      "\n",
      "simple_set.__sizeof__()   =200\n",
      "sys.getsizeof(simple_set) =216\n"
     ]
    }
   ],
   "source": [
    "import sys\n",
    "\n",
    "print(f\"\\n{simple_set.__sizeof__()   =}\")\n",
    "print(f\"{sys.getsizeof(simple_set) =}\")"
   ]
  },
  {
   "cell_type": "code",
   "execution_count": 13,
   "metadata": {},
   "outputs": [
    {
     "name": "stdout",
     "output_type": "stream",
     "text": [
      "simple_set.__and__(1) =NotImplemented\n",
      "simple_set.__and__({1}) ={1}\n"
     ]
    }
   ],
   "source": [
    "print(f\"{simple_set.__and__(1) =}\")\n",
    "print(f\"{simple_set.__and__({1}) =}\")"
   ]
  },
  {
   "cell_type": "code",
   "execution_count": 14,
   "metadata": {},
   "outputs": [
    {
     "name": "stdout",
     "output_type": "stream",
     "text": [
      "simple_set ={1, 2, 3}\n"
     ]
    }
   ],
   "source": [
    "print(f\"{simple_set =}\")"
   ]
  },
  {
   "cell_type": "code",
   "execution_count": 15,
   "metadata": {},
   "outputs": [
    {
     "name": "stdout",
     "output_type": "stream",
     "text": [
      "add\n",
      "clear\n",
      "copy\n",
      "difference\n",
      "difference_update\n",
      "discard\n",
      "intersection\n",
      "intersection_update\n",
      "isdisjoint\n",
      "issubset\n",
      "issuperset\n",
      "pop\n",
      "remove\n",
      "symmetric_difference\n",
      "symmetric_difference_update\n",
      "union\n",
      "update\n",
      "\n"
     ]
    }
   ],
   "source": [
    "for each_attribute in dir(simple_set):\n",
    "    if not each_attribute.startswith(\"__\"):\n",
    "        print(each_attribute)\n",
    "print()"
   ]
  },
  {
   "cell_type": "code",
   "execution_count": 16,
   "metadata": {},
   "outputs": [
    {
     "name": "stdout",
     "output_type": "stream",
     "text": [
      "simple_set ={1, 2, 3}\n"
     ]
    }
   ],
   "source": [
    "print(f\"{simple_set =}\")"
   ]
  },
  {
   "cell_type": "code",
   "execution_count": 17,
   "metadata": {},
   "outputs": [
    {
     "name": "stdout",
     "output_type": "stream",
     "text": [
      "simple_set ={11, 1, 2, 3}\n"
     ]
    }
   ],
   "source": [
    "simple_set.add(11)\n",
    "print(f\"{simple_set =}\")"
   ]
  },
  {
   "cell_type": "code",
   "execution_count": 18,
   "metadata": {},
   "outputs": [
    {
     "name": "stdout",
     "output_type": "stream",
     "text": [
      "simple_set ={11, 1, 2, 3}\n"
     ]
    }
   ],
   "source": [
    "simple_set.add(11)\n",
    "print(f\"{simple_set =}\")"
   ]
  },
  {
   "cell_type": "code",
   "execution_count": 19,
   "metadata": {},
   "outputs": [
    {
     "name": "stdout",
     "output_type": "stream",
     "text": [
      "simple_set ={1, 2, 3, 99, 11}\n"
     ]
    }
   ],
   "source": [
    "simple_set.add(99,) \n",
    "print(f\"{simple_set =}\")"
   ]
  },
  {
   "cell_type": "code",
   "execution_count": 20,
   "metadata": {},
   "outputs": [
    {
     "name": "stdout",
     "output_type": "stream",
     "text": [
      "simple_set ={1, 2, 3, 99, 11, (99,)}\n"
     ]
    }
   ],
   "source": [
    "simple_set.add((99,))\n",
    "print(f\"{simple_set =}\")"
   ]
  },
  {
   "cell_type": "code",
   "execution_count": 21,
   "metadata": {},
   "outputs": [
    {
     "name": "stdout",
     "output_type": "stream",
     "text": [
      "mutable objects(list, set, dict) cant be stored in set\n"
     ]
    }
   ],
   "source": [
    "try:\n",
    "    simple_set.add([11, 22])\n",
    "except TypeError:\n",
    "    print(\"mutable objects(list, set, dict) cant be stored in set\")"
   ]
  },
  {
   "cell_type": "code",
   "execution_count": 22,
   "metadata": {},
   "outputs": [
    {
     "data": {
      "text/plain": [
       "{(5, 6), 1, 2, 3, 4}"
      ]
     },
     "execution_count": 22,
     "metadata": {},
     "output_type": "execute_result"
    }
   ],
   "source": [
    "new_set = {1, 2, 3, 4, tuple([5, 6])}\n",
    "\n",
    "new_set"
   ]
  },
  {
   "cell_type": "code",
   "execution_count": 23,
   "metadata": {},
   "outputs": [
    {
     "name": "stdout",
     "output_type": "stream",
     "text": [
      "mutable objects(list, set, dict) cant be stored in set\n"
     ]
    }
   ],
   "source": [
    "try:\n",
    "    simple_set.add({11, 22})\n",
    "except TypeError:\n",
    "    print(\"mutable objects(list, set, dict) cant be stored in set\")"
   ]
  },
  {
   "cell_type": "code",
   "execution_count": 24,
   "metadata": {},
   "outputs": [
    {
     "name": "stdout",
     "output_type": "stream",
     "text": [
      "simple_set ={1, 2, 3, 99, 11, 'Python', (99,)}\n"
     ]
    }
   ],
   "source": [
    "simple_set.add(\"Python\")\n",
    "print(f\"{simple_set =}\")"
   ]
  },
  {
   "cell_type": "code",
   "execution_count": 25,
   "metadata": {},
   "outputs": [
    {
     "name": "stdout",
     "output_type": "stream",
     "text": [
      "simple_set ={1, 2, 3, 99, 11, 'Python', (99,)}\n"
     ]
    }
   ],
   "source": [
    "simple_set.add(\"Python\")\n",
    "print(f\"{simple_set =}\")"
   ]
  },
  {
   "cell_type": "code",
   "execution_count": 26,
   "metadata": {},
   "outputs": [
    {
     "name": "stdout",
     "output_type": "stream",
     "text": [
      "\n"
     ]
    }
   ],
   "source": [
    "print()\n",
    "simple_set = {1, 2, 3}"
   ]
  },
  {
   "cell_type": "code",
   "execution_count": 27,
   "metadata": {},
   "outputs": [
    {
     "name": "stdout",
     "output_type": "stream",
     "text": [
      "Only iterable objects can be used with set.update\n"
     ]
    }
   ],
   "source": [
    "try:\n",
    "    simple_set.update(888)\n",
    "except TypeError:\n",
    "    print(\"Only iterable objects can be used with set.update\")"
   ]
  },
  {
   "cell_type": "code",
   "execution_count": 28,
   "metadata": {},
   "outputs": [
    {
     "name": "stdout",
     "output_type": "stream",
     "text": [
      "simple_set ={1, 2, 3, 8, 88}\n"
     ]
    }
   ],
   "source": [
    "simple_set.update((8, 88))\n",
    "print(f\"{simple_set =}\")"
   ]
  },
  {
   "cell_type": "code",
   "execution_count": 29,
   "metadata": {},
   "outputs": [
    {
     "name": "stdout",
     "output_type": "stream",
     "text": [
      "simple_set ={1, 2, 3, 7, 8, 88}\n"
     ]
    }
   ],
   "source": [
    "simple_set.update([8, 7])\n",
    "print(f\"{simple_set =}\")"
   ]
  },
  {
   "cell_type": "code",
   "execution_count": 30,
   "metadata": {},
   "outputs": [
    {
     "name": "stdout",
     "output_type": "stream",
     "text": [
      "simple_set ={1, 2, 3, 7, 8, (2, 3), 88, (9,)}\n"
     ]
    }
   ],
   "source": [
    "simple_set.update([8, 7, (2, 3), (9,)])\n",
    "print(f\"{simple_set =}\")"
   ]
  },
  {
   "cell_type": "code",
   "execution_count": 31,
   "metadata": {},
   "outputs": [
    {
     "name": "stdout",
     "output_type": "stream",
     "text": [
      "Inner element is a list\n"
     ]
    }
   ],
   "source": [
    "try:\n",
    "    simple_set.update([8, 7, [2, 3]])\n",
    "except TypeError:\n",
    "    print(\"Inner element is a list\")"
   ]
  },
  {
   "cell_type": "code",
   "execution_count": 32,
   "metadata": {},
   "outputs": [
    {
     "name": "stdout",
     "output_type": "stream",
     "text": [
      "simple_set ={1, 2, 3, 7, 8, (2, 3), 88, (9,)}\n"
     ]
    }
   ],
   "source": [
    "simple_set = {1, 2, 3, 7, 8, (2, 3), 88, (9,)}\n",
    "print(f\"{simple_set =}\")"
   ]
  },
  {
   "cell_type": "code",
   "execution_count": 33,
   "metadata": {},
   "outputs": [
    {
     "name": "stdout",
     "output_type": "stream",
     "text": [
      "Inner of inner dimension has a list\n"
     ]
    }
   ],
   "source": [
    "try:\n",
    "    simple_set.update([9, (8, 7, [9])])\n",
    "except TypeError:\n",
    "    print(\"Inner of inner dimension has a list\")"
   ]
  },
  {
   "cell_type": "code",
   "execution_count": 34,
   "metadata": {},
   "outputs": [
    {
     "name": "stdout",
     "output_type": "stream",
     "text": [
      "\n",
      "1\n",
      "After pop ->{2, 3, 7, 8, 9, (2, 3), 88, (9,)}\n",
      "2\n",
      "After pop ->{3, 7, 8, 9, (2, 3), 88, (9,)}\n",
      "3\n",
      "After pop ->{7, 8, 9, (2, 3), 88, (9,)}\n"
     ]
    }
   ],
   "source": [
    "print()\n",
    "print(f\"{simple_set.pop()}\")\n",
    "print(f\"After pop ->{simple_set}\")\n",
    "\n",
    "print(f\"{simple_set.pop()}\")\n",
    "print(f\"After pop ->{simple_set}\")\n",
    "\n",
    "print(f\"{simple_set.pop()}\")\n",
    "print(f\"After pop ->{simple_set}\")"
   ]
  },
  {
   "cell_type": "code",
   "execution_count": 35,
   "metadata": {},
   "outputs": [
    {
     "name": "stdout",
     "output_type": "stream",
     "text": [
      "After remove->{7, 9, (2, 3), 88, (9,)}\n",
      "After remove->{7, 9, (2, 3), (9,)}\n",
      "After remove->{7, 9, (9,)}\n",
      "That element is not present\n"
     ]
    }
   ],
   "source": [
    "simple_set.remove(8)\n",
    "print(f\"After remove->{simple_set}\")\n",
    "\n",
    "simple_set.remove(88)\n",
    "print(f\"After remove->{simple_set}\")\n",
    "\n",
    "simple_set.remove((2, 3))\n",
    "print(f\"After remove->{simple_set}\")\n",
    "\n",
    "try:\n",
    "    simple_set.remove(\"Q\")\n",
    "except KeyError:\n",
    "    print(\"That element is not present\")"
   ]
  },
  {
   "cell_type": "code",
   "execution_count": 36,
   "metadata": {},
   "outputs": [
    {
     "name": "stdout",
     "output_type": "stream",
     "text": [
      "\n",
      "After discard->{7, 9, (9,)}\n"
     ]
    }
   ],
   "source": [
    "print()\n",
    "simple_set.discard(\"Q\")\n",
    "print(f\"After discard->{simple_set}\")"
   ]
  },
  {
   "cell_type": "code",
   "execution_count": 37,
   "metadata": {},
   "outputs": [
    {
     "name": "stdout",
     "output_type": "stream",
     "text": [
      "After discard->{7, (9,)}\n"
     ]
    }
   ],
   "source": [
    "simple_set.discard(9)\n",
    "print(f\"After discard->{simple_set}\")"
   ]
  },
  {
   "cell_type": "code",
   "execution_count": 38,
   "metadata": {},
   "outputs": [
    {
     "name": "stdout",
     "output_type": "stream",
     "text": [
      "After discard->{7}\n"
     ]
    }
   ],
   "source": [
    "simple_set.discard((9,))\n",
    "print(f\"After discard->{simple_set}\")"
   ]
  },
  {
   "cell_type": "code",
   "execution_count": 39,
   "metadata": {},
   "outputs": [
    {
     "name": "stdout",
     "output_type": "stream",
     "text": [
      "rainbow ={'b', 'g', 'o', 'v', 'r', 'y', 'i'}\n",
      "traffic_lights ={'r', 'y', 'g', 'w'}\n"
     ]
    }
   ],
   "source": [
    "rainbow = {\"r\", \"o\", \"y\", \"g\", \"b\", \"i\", \"v\"}\n",
    "\n",
    "traffic_lights = {\"r\", \"y\", \"g\", \"w\"}\n",
    "\n",
    "print(f\"{rainbow =}\")\n",
    "print(f\"{traffic_lights =}\")"
   ]
  },
  {
   "cell_type": "code",
   "execution_count": 40,
   "metadata": {},
   "outputs": [
    {
     "name": "stdout",
     "output_type": "stream",
     "text": [
      "traffic_lights.issubset(rainbow)   =False\n",
      "rainbow.issuperset(traffic_lights) =False\n"
     ]
    }
   ],
   "source": [
    "print(f\"{traffic_lights.issubset(rainbow)   =}\")\n",
    "print(f\"{rainbow.issuperset(traffic_lights) =}\")"
   ]
  },
  {
   "cell_type": "code",
   "execution_count": 41,
   "metadata": {},
   "outputs": [
    {
     "name": "stdout",
     "output_type": "stream",
     "text": [
      "rainbow ={'b', 'g', 'o', 'v', 'r', 'y', 'i'}\n",
      "traffic_lights ={'r', 'y', 'g'}\n"
     ]
    }
   ],
   "source": [
    "rainbow = {\"r\", \"o\", \"y\", \"g\", \"b\", \"i\", \"v\"}\n",
    "\n",
    "traffic_lights = {\"r\", \"y\", \"g\"}\n",
    "\n",
    "print(f\"{rainbow =}\")\n",
    "print(f\"{traffic_lights =}\")"
   ]
  },
  {
   "cell_type": "code",
   "execution_count": 42,
   "metadata": {},
   "outputs": [
    {
     "name": "stdout",
     "output_type": "stream",
     "text": [
      "\n",
      "rainbow.symmetric_difference(traffic_lights) ={'o', 'i', 'b', 'v'}\n",
      "traffic_lights.symmetric_difference(rainbow) ={'b', 'o', 'v', 'i'}\n"
     ]
    }
   ],
   "source": [
    "print()\n",
    "print(f\"{rainbow.symmetric_difference(traffic_lights) =}\")\n",
    "print(f\"{traffic_lights.symmetric_difference(rainbow) =}\")"
   ]
  }
 ],
 "metadata": {
  "kernelspec": {
   "display_name": "Python 3",
   "language": "python",
   "name": "python3"
  },
  "language_info": {
   "codemirror_mode": {
    "name": "ipython",
    "version": 3
   },
   "file_extension": ".py",
   "mimetype": "text/x-python",
   "name": "python",
   "nbconvert_exporter": "python",
   "pygments_lexer": "ipython3",
   "version": "3.12.1"
  }
 },
 "nbformat": 4,
 "nbformat_minor": 2
}
