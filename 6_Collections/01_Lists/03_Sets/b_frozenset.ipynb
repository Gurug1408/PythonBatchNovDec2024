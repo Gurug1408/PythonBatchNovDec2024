{
 "cells": [
  {
   "cell_type": "code",
   "execution_count": 1,
   "metadata": {},
   "outputs": [
    {
     "name": "stdout",
     "output_type": "stream",
     "text": [
      "130466340546016 <class 'set'> {1, 2, 3}\n"
     ]
    }
   ],
   "source": [
    "ordinary_set = {1, 2, 3, 2}\n",
    "print(f\"{id(ordinary_set)} {type(ordinary_set)} {ordinary_set}\")"
   ]
  },
  {
   "cell_type": "code",
   "execution_count": null,
   "metadata": {},
   "outputs": [],
   "source": [
    "ordinary_set.add(9)\n",
    "print(f\"{id(ordinary_set)} {type(ordinary_set)} {ordinary_set}\")"
   ]
  },
  {
   "cell_type": "code",
   "execution_count": 2,
   "metadata": {},
   "outputs": [
    {
     "name": "stdout",
     "output_type": "stream",
     "text": [
      "\n",
      " Frozenset is immutable\n",
      "130466340546464 <class 'frozenset'> frozenset({1, 2, 3})\n"
     ]
    }
   ],
   "source": [
    "print(\"\\n Frozenset is immutable\")\n",
    "fz_set = frozenset({1, 2, 3, 2})\n",
    "print(f\"{id(fz_set)} {type(fz_set)} {fz_set}\")"
   ]
  },
  {
   "cell_type": "code",
   "execution_count": 3,
   "metadata": {},
   "outputs": [
    {
     "name": "stdout",
     "output_type": "stream",
     "text": [
      "frozenset dont have set editable attributes\n"
     ]
    }
   ],
   "source": [
    "try:\n",
    "    fz_set.add(9)\n",
    "except AttributeError:\n",
    "    print(\"frozenset dont have set editable attributes\")"
   ]
  },
  {
   "cell_type": "code",
   "execution_count": 4,
   "metadata": {},
   "outputs": [
    {
     "name": "stdout",
     "output_type": "stream",
     "text": [
      "['__and__', '__class__', '__class_getitem__', '__contains__', '__delattr__', '__dir__', '__doc__', '__eq__', '__format__', '__ge__', '__getattribute__', '__getstate__', '__gt__', '__hash__', '__iand__', '__init__', '__init_subclass__', '__ior__', '__isub__', '__iter__', '__ixor__', '__le__', '__len__', '__lt__', '__ne__', '__new__', '__or__', '__rand__', '__reduce__', '__reduce_ex__', '__repr__', '__ror__', '__rsub__', '__rxor__', '__setattr__', '__sizeof__', '__str__', '__sub__', '__subclasshook__', '__xor__', 'add', 'clear', 'copy', 'difference', 'difference_update', 'discard', 'intersection', 'intersection_update', 'isdisjoint', 'issubset', 'issuperset', 'pop', 'remove', 'symmetric_difference', 'symmetric_difference_update', 'union', 'update']\n",
      "\n",
      "['__and__', '__class__', '__class_getitem__', '__contains__', '__delattr__', '__dir__', '__doc__', '__eq__', '__format__', '__ge__', '__getattribute__', '__getstate__', '__gt__', '__hash__', '__init__', '__init_subclass__', '__iter__', '__le__', '__len__', '__lt__', '__ne__', '__new__', '__or__', '__rand__', '__reduce__', '__reduce_ex__', '__repr__', '__ror__', '__rsub__', '__rxor__', '__setattr__', '__sizeof__', '__str__', '__sub__', '__subclasshook__', '__xor__', 'copy', 'difference', 'intersection', 'isdisjoint', 'issubset', 'issuperset', 'symmetric_difference', 'union']\n"
     ]
    }
   ],
   "source": [
    "print(dir(ordinary_set))\n",
    "print()\n",
    "print(dir(fz_set))"
   ]
  },
  {
   "cell_type": "code",
   "execution_count": 5,
   "metadata": {},
   "outputs": [
    {
     "name": "stdout",
     "output_type": "stream",
     "text": [
      "sets cant be stored in sets - As sets are mutable \n"
     ]
    }
   ],
   "source": [
    "try:\n",
    "    new_set = {1, 2, {2, 3}}\n",
    "except TypeError:\n",
    "    print(\"sets cant be stored in sets - As sets are mutable \")"
   ]
  },
  {
   "cell_type": "code",
   "execution_count": 6,
   "metadata": {},
   "outputs": [
    {
     "name": "stdout",
     "output_type": "stream",
     "text": [
      "new_set ={11, 22, frozenset({33, 22})}\n"
     ]
    }
   ],
   "source": [
    "new_set = {11, 22, frozenset({22, 33})}\n",
    "print(f\"{new_set =}\")"
   ]
  },
  {
   "cell_type": "code",
   "execution_count": 7,
   "metadata": {},
   "outputs": [
    {
     "name": "stdout",
     "output_type": "stream",
     "text": [
      "hash(112233) =112233\n"
     ]
    }
   ],
   "source": [
    "print(f\"{hash(112233) =}\")\n",
    "assert (112233).__hash__() == hash(112233)"
   ]
  },
  {
   "cell_type": "code",
   "execution_count": 8,
   "metadata": {},
   "outputs": [
    {
     "name": "stdout",
     "output_type": "stream",
     "text": [
      "my_set ={-0.98798, False, (23+3j), None, 11, (11, 22), frozenset({33, 44})}\n"
     ]
    }
   ],
   "source": [
    "my_set = {11, 22, frozenset({33, 44})}\n",
    "my_set = {11, 22, tuple({33, 44})}\n",
    "my_set = {11, -0.98798, 23 + 3j, False, None, (11, 22), frozenset((33, 44))}\n",
    "print(f\"{my_set =}\")"
   ]
  },
  {
   "cell_type": "code",
   "execution_count": 9,
   "metadata": {},
   "outputs": [
    {
     "name": "stdout",
     "output_type": "stream",
     "text": [
      "<class 'int'>  11 11\n",
      "<class 'float'>  -2278126776242945280 -0.98798\n",
      "<class 'complex'>  3000032 (23+3j)\n",
      "<class 'bool'>  0 False\n",
      "<class 'NoneType'>  4238894112 None\n",
      "<class 'tuple'>  6591627001642629966 (11, 22)\n",
      "<class 'frozenset'>  -3821135203356111041 frozenset({33, 44})\n",
      "\t [11, 22] unhashable type: 'list'\n",
      "\t {33, 22} unhashable type: 'set'\n",
      "\t {22: 33} unhashable type: 'dict'\n"
     ]
    }
   ],
   "source": [
    "data = [\n",
    "    11,\n",
    "    -0.98798,\n",
    "    23 + 3j,\n",
    "    False,\n",
    "    None,\n",
    "    (11, 22),\n",
    "    frozenset((33, 44)),\n",
    "    [11, 22],\n",
    "    {22, 33},\n",
    "    {22: 33},\n",
    "]\n",
    "for each_data in data:\n",
    "    try:\n",
    "        print(f\"{type(each_data)}  {hash(each_data)} {each_data}\")\n",
    "    except TypeError as ex:\n",
    "        print('\\t', each_data, ex)"
   ]
  },
  {
   "cell_type": "code",
   "execution_count": 10,
   "metadata": {},
   "outputs": [
    {
     "name": "stdout",
     "output_type": "stream",
     "text": [
      "hash(112233)              = 112233\n",
      "hash(-0.2323)          = -535647331040341120\n",
      "hash(2 + 3j)           = 3000011\n",
      "hash(True)             = 1\n",
      "hash(None)             = 4238894112\n",
      "hash((33,44))            = 7149530350765460655\n",
      "hash(frozenset((33,44))) = -3821135203356111041\n"
     ]
    }
   ],
   "source": [
    "print(f\"{hash(112233)              = }\")\n",
    "print(f\"{hash(-0.2323)          = }\")\n",
    "print(f\"{hash(2 + 3j)           = }\")\n",
    "print(f\"{hash(True)             = }\")\n",
    "print(f\"{hash(None)             = }\")\n",
    "\n",
    "print(f\"{hash((33,44))            = }\")\n",
    "\n",
    "print(f\"{hash(frozenset((33,44))) = }\")"
   ]
  },
  {
   "cell_type": "code",
   "execution_count": 11,
   "metadata": {},
   "outputs": [
    {
     "name": "stdout",
     "output_type": "stream",
     "text": [
      "hash(112233)              = 112233\n",
      "hash(-0.2323)          = -535647331040341120\n",
      "hash(22 + 33j)           = 33000121\n",
      "hash(True)             = 1\n",
      "hash(None)             = 4238894112\n",
      "hash((33,44))            = 7149530350765460655\n",
      "hash(frozenset((33,44))) = -3821135203356111041\n"
     ]
    }
   ],
   "source": [
    "print(f\"{hash(112233)              = }\")\n",
    "print(f\"{hash(-0.2323)          = }\")\n",
    "print(f\"{hash(22 + 33j)           = }\")\n",
    "print(f\"{hash(True)             = }\")\n",
    "print(f\"{hash(None)             = }\")\n",
    "\n",
    "print(f\"{hash((33,44))            = }\")\n",
    "\n",
    "print(f\"{hash(frozenset((33,44))) = }\")"
   ]
  },
  {
   "cell_type": "code",
   "execution_count": 12,
   "metadata": {},
   "outputs": [
    {
     "name": "stdout",
     "output_type": "stream",
     "text": [
      "[1, 2] unhashable type: 'list'\n",
      "{3, 4} unhashable type: 'set'\n",
      "{'a': 1} unhashable type: 'dict'\n"
     ]
    }
   ],
   "source": [
    "for each_obj in [[1, 2], {3, 4}, {\"a\": 1}]:\n",
    "    try:\n",
    "        hash(each_obj)\n",
    "    except TypeError as ex:\n",
    "        print(each_obj, ex)"
   ]
  },
  {
   "cell_type": "code",
   "execution_count": 13,
   "metadata": {},
   "outputs": [
    {
     "ename": "TypeError",
     "evalue": "unhashable type: 'list'",
     "output_type": "error",
     "traceback": [
      "\u001b[0;31m---------------------------------------------------------------------------\u001b[0m",
      "\u001b[0;31mTypeError\u001b[0m                                 Traceback (most recent call last)",
      "Cell \u001b[0;32mIn[13], line 3\u001b[0m\n\u001b[1;32m      1\u001b[0m numbers \u001b[38;5;241m=\u001b[39m (\u001b[38;5;241m11\u001b[39m, \u001b[38;5;241m22\u001b[39m, \u001b[38;5;241m33\u001b[39m, \u001b[38;5;241m44\u001b[39m, \u001b[38;5;241m55\u001b[39m, \u001b[38;5;241m66\u001b[39m, (\u001b[38;5;241m77\u001b[39m, \u001b[38;5;241m88\u001b[39m, (\u001b[38;5;241m99\u001b[39m, [\u001b[38;5;241m100\u001b[39m])))\n\u001b[0;32m----> 3\u001b[0m \u001b[38;5;28;43mhash\u001b[39;49m\u001b[43m(\u001b[49m\u001b[43mnumbers\u001b[49m\u001b[43m)\u001b[49m\n",
      "\u001b[0;31mTypeError\u001b[0m: unhashable type: 'list'"
     ]
    }
   ],
   "source": [
    "numbers = (11, 22, 33, 44, 55, 66, (77, 88, (99, [100])))\n",
    "\n",
    "hash(numbers)"
   ]
  }
 ],
 "metadata": {
  "kernelspec": {
   "display_name": "Python 3",
   "language": "python",
   "name": "python3"
  },
  "language_info": {
   "codemirror_mode": {
    "name": "ipython",
    "version": 3
   },
   "file_extension": ".py",
   "mimetype": "text/x-python",
   "name": "python",
   "nbconvert_exporter": "python",
   "pygments_lexer": "ipython3",
   "version": "3.12.1"
  }
 },
 "nbformat": 4,
 "nbformat_minor": 2
}
